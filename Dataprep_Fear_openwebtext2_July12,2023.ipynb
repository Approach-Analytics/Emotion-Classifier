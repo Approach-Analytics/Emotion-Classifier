{
  "nbformat": 4,
  "nbformat_minor": 0,
  "metadata": {
    "colab": {
      "provenance": [],
      "machine_shape": "hm",
      "gpuType": "A100",
      "toc_visible": true,
      "authorship_tag": "ABX9TyOgWQDz/V9YwP+woDa6fFf5",
      "include_colab_link": true
    },
    "kernelspec": {
      "name": "python3",
      "display_name": "Python 3"
    },
    "language_info": {
      "name": "python"
    },
    "accelerator": "TPU",
    "widgets": {
      "application/vnd.jupyter.widget-state+json": {
        "0a757698cc5d49708a4eb414ebd14f97": {
          "model_module": "@jupyter-widgets/controls",
          "model_name": "HBoxModel",
          "model_module_version": "1.5.0",
          "state": {
            "_dom_classes": [],
            "_model_module": "@jupyter-widgets/controls",
            "_model_module_version": "1.5.0",
            "_model_name": "HBoxModel",
            "_view_count": null,
            "_view_module": "@jupyter-widgets/controls",
            "_view_module_version": "1.5.0",
            "_view_name": "HBoxView",
            "box_style": "",
            "children": [
              "IPY_MODEL_bfb1741641db402a94bfe820d3cb5a8f",
              "IPY_MODEL_48a730734da044a490442d3b34ba29a9",
              "IPY_MODEL_84695521aca749ffacf97d47496c8bb7"
            ],
            "layout": "IPY_MODEL_9b6eb67f236c4227a85c8accb44e30ec"
          }
        },
        "bfb1741641db402a94bfe820d3cb5a8f": {
          "model_module": "@jupyter-widgets/controls",
          "model_name": "HTMLModel",
          "model_module_version": "1.5.0",
          "state": {
            "_dom_classes": [],
            "_model_module": "@jupyter-widgets/controls",
            "_model_module_version": "1.5.0",
            "_model_name": "HTMLModel",
            "_view_count": null,
            "_view_module": "@jupyter-widgets/controls",
            "_view_module_version": "1.5.0",
            "_view_name": "HTMLView",
            "description": "",
            "description_tooltip": null,
            "layout": "IPY_MODEL_690617b9442a42ff8e7fdd12e2109943",
            "placeholder": "​",
            "style": "IPY_MODEL_41ba170b08904c9890ba2eda6e95b2bd",
            "value": "Map (num_proc=40):   7%"
          }
        },
        "48a730734da044a490442d3b34ba29a9": {
          "model_module": "@jupyter-widgets/controls",
          "model_name": "FloatProgressModel",
          "model_module_version": "1.5.0",
          "state": {
            "_dom_classes": [],
            "_model_module": "@jupyter-widgets/controls",
            "_model_module_version": "1.5.0",
            "_model_name": "FloatProgressModel",
            "_view_count": null,
            "_view_module": "@jupyter-widgets/controls",
            "_view_module_version": "1.5.0",
            "_view_name": "ProgressView",
            "bar_style": "",
            "description": "",
            "description_tooltip": null,
            "layout": "IPY_MODEL_a6c47d5b110d4742b23fac1109b567ee",
            "max": 855152,
            "min": 0,
            "orientation": "horizontal",
            "style": "IPY_MODEL_a5e7ec701de64c5a9c1e21c08f328cab",
            "value": 60677
          }
        },
        "84695521aca749ffacf97d47496c8bb7": {
          "model_module": "@jupyter-widgets/controls",
          "model_name": "HTMLModel",
          "model_module_version": "1.5.0",
          "state": {
            "_dom_classes": [],
            "_model_module": "@jupyter-widgets/controls",
            "_model_module_version": "1.5.0",
            "_model_name": "HTMLModel",
            "_view_count": null,
            "_view_module": "@jupyter-widgets/controls",
            "_view_module_version": "1.5.0",
            "_view_name": "HTMLView",
            "description": "",
            "description_tooltip": null,
            "layout": "IPY_MODEL_1dc9bd2ef546408ba939307b7a610ad5",
            "placeholder": "​",
            "style": "IPY_MODEL_d8a75f13eeda4ea9b960d951d8db6ecd",
            "value": " 60677/855152 [05:20&lt;39:53, 331.92 examples/s]"
          }
        },
        "9b6eb67f236c4227a85c8accb44e30ec": {
          "model_module": "@jupyter-widgets/base",
          "model_name": "LayoutModel",
          "model_module_version": "1.2.0",
          "state": {
            "_model_module": "@jupyter-widgets/base",
            "_model_module_version": "1.2.0",
            "_model_name": "LayoutModel",
            "_view_count": null,
            "_view_module": "@jupyter-widgets/base",
            "_view_module_version": "1.2.0",
            "_view_name": "LayoutView",
            "align_content": null,
            "align_items": null,
            "align_self": null,
            "border": null,
            "bottom": null,
            "display": null,
            "flex": null,
            "flex_flow": null,
            "grid_area": null,
            "grid_auto_columns": null,
            "grid_auto_flow": null,
            "grid_auto_rows": null,
            "grid_column": null,
            "grid_gap": null,
            "grid_row": null,
            "grid_template_areas": null,
            "grid_template_columns": null,
            "grid_template_rows": null,
            "height": null,
            "justify_content": null,
            "justify_items": null,
            "left": null,
            "margin": null,
            "max_height": null,
            "max_width": null,
            "min_height": null,
            "min_width": null,
            "object_fit": null,
            "object_position": null,
            "order": null,
            "overflow": null,
            "overflow_x": null,
            "overflow_y": null,
            "padding": null,
            "right": null,
            "top": null,
            "visibility": null,
            "width": null
          }
        },
        "690617b9442a42ff8e7fdd12e2109943": {
          "model_module": "@jupyter-widgets/base",
          "model_name": "LayoutModel",
          "model_module_version": "1.2.0",
          "state": {
            "_model_module": "@jupyter-widgets/base",
            "_model_module_version": "1.2.0",
            "_model_name": "LayoutModel",
            "_view_count": null,
            "_view_module": "@jupyter-widgets/base",
            "_view_module_version": "1.2.0",
            "_view_name": "LayoutView",
            "align_content": null,
            "align_items": null,
            "align_self": null,
            "border": null,
            "bottom": null,
            "display": null,
            "flex": null,
            "flex_flow": null,
            "grid_area": null,
            "grid_auto_columns": null,
            "grid_auto_flow": null,
            "grid_auto_rows": null,
            "grid_column": null,
            "grid_gap": null,
            "grid_row": null,
            "grid_template_areas": null,
            "grid_template_columns": null,
            "grid_template_rows": null,
            "height": null,
            "justify_content": null,
            "justify_items": null,
            "left": null,
            "margin": null,
            "max_height": null,
            "max_width": null,
            "min_height": null,
            "min_width": null,
            "object_fit": null,
            "object_position": null,
            "order": null,
            "overflow": null,
            "overflow_x": null,
            "overflow_y": null,
            "padding": null,
            "right": null,
            "top": null,
            "visibility": null,
            "width": null
          }
        },
        "41ba170b08904c9890ba2eda6e95b2bd": {
          "model_module": "@jupyter-widgets/controls",
          "model_name": "DescriptionStyleModel",
          "model_module_version": "1.5.0",
          "state": {
            "_model_module": "@jupyter-widgets/controls",
            "_model_module_version": "1.5.0",
            "_model_name": "DescriptionStyleModel",
            "_view_count": null,
            "_view_module": "@jupyter-widgets/base",
            "_view_module_version": "1.2.0",
            "_view_name": "StyleView",
            "description_width": ""
          }
        },
        "a6c47d5b110d4742b23fac1109b567ee": {
          "model_module": "@jupyter-widgets/base",
          "model_name": "LayoutModel",
          "model_module_version": "1.2.0",
          "state": {
            "_model_module": "@jupyter-widgets/base",
            "_model_module_version": "1.2.0",
            "_model_name": "LayoutModel",
            "_view_count": null,
            "_view_module": "@jupyter-widgets/base",
            "_view_module_version": "1.2.0",
            "_view_name": "LayoutView",
            "align_content": null,
            "align_items": null,
            "align_self": null,
            "border": null,
            "bottom": null,
            "display": null,
            "flex": null,
            "flex_flow": null,
            "grid_area": null,
            "grid_auto_columns": null,
            "grid_auto_flow": null,
            "grid_auto_rows": null,
            "grid_column": null,
            "grid_gap": null,
            "grid_row": null,
            "grid_template_areas": null,
            "grid_template_columns": null,
            "grid_template_rows": null,
            "height": null,
            "justify_content": null,
            "justify_items": null,
            "left": null,
            "margin": null,
            "max_height": null,
            "max_width": null,
            "min_height": null,
            "min_width": null,
            "object_fit": null,
            "object_position": null,
            "order": null,
            "overflow": null,
            "overflow_x": null,
            "overflow_y": null,
            "padding": null,
            "right": null,
            "top": null,
            "visibility": null,
            "width": null
          }
        },
        "a5e7ec701de64c5a9c1e21c08f328cab": {
          "model_module": "@jupyter-widgets/controls",
          "model_name": "ProgressStyleModel",
          "model_module_version": "1.5.0",
          "state": {
            "_model_module": "@jupyter-widgets/controls",
            "_model_module_version": "1.5.0",
            "_model_name": "ProgressStyleModel",
            "_view_count": null,
            "_view_module": "@jupyter-widgets/base",
            "_view_module_version": "1.2.0",
            "_view_name": "StyleView",
            "bar_color": null,
            "description_width": ""
          }
        },
        "1dc9bd2ef546408ba939307b7a610ad5": {
          "model_module": "@jupyter-widgets/base",
          "model_name": "LayoutModel",
          "model_module_version": "1.2.0",
          "state": {
            "_model_module": "@jupyter-widgets/base",
            "_model_module_version": "1.2.0",
            "_model_name": "LayoutModel",
            "_view_count": null,
            "_view_module": "@jupyter-widgets/base",
            "_view_module_version": "1.2.0",
            "_view_name": "LayoutView",
            "align_content": null,
            "align_items": null,
            "align_self": null,
            "border": null,
            "bottom": null,
            "display": null,
            "flex": null,
            "flex_flow": null,
            "grid_area": null,
            "grid_auto_columns": null,
            "grid_auto_flow": null,
            "grid_auto_rows": null,
            "grid_column": null,
            "grid_gap": null,
            "grid_row": null,
            "grid_template_areas": null,
            "grid_template_columns": null,
            "grid_template_rows": null,
            "height": null,
            "justify_content": null,
            "justify_items": null,
            "left": null,
            "margin": null,
            "max_height": null,
            "max_width": null,
            "min_height": null,
            "min_width": null,
            "object_fit": null,
            "object_position": null,
            "order": null,
            "overflow": null,
            "overflow_x": null,
            "overflow_y": null,
            "padding": null,
            "right": null,
            "top": null,
            "visibility": null,
            "width": null
          }
        },
        "d8a75f13eeda4ea9b960d951d8db6ecd": {
          "model_module": "@jupyter-widgets/controls",
          "model_name": "DescriptionStyleModel",
          "model_module_version": "1.5.0",
          "state": {
            "_model_module": "@jupyter-widgets/controls",
            "_model_module_version": "1.5.0",
            "_model_name": "DescriptionStyleModel",
            "_view_count": null,
            "_view_module": "@jupyter-widgets/base",
            "_view_module_version": "1.2.0",
            "_view_name": "StyleView",
            "description_width": ""
          }
        }
      }
    }
  },
  "cells": [
    {
      "cell_type": "markdown",
      "metadata": {
        "id": "view-in-github",
        "colab_type": "text"
      },
      "source": [
        "<a href=\"https://colab.research.google.com/github/Approach-Analytics/Emotion-Classifier/blob/main/Dataprep_Fear_openwebtext2_July12%2C2023.ipynb\" target=\"_parent\"><img src=\"https://colab.research.google.com/assets/colab-badge.svg\" alt=\"Open In Colab\"/></a>"
      ]
    },
    {
      "cell_type": "code",
      "source": [
        "#Zstandard seems to be a requirement for OpenWebText2\n",
        "#Datasets is a download / library from HuggingFace\n",
        "\n",
        "!pip install datasets\n",
        "!pip install zstandard"
      ],
      "metadata": {
        "id": "YrIdCrrIeopN"
      },
      "execution_count": null,
      "outputs": []
    },
    {
      "cell_type": "code",
      "source": [
        "import multiprocessing\n",
        "\n",
        "# Determine the number of available CPU cores\n",
        "num_cpus = multiprocessing.cpu_count()\n",
        "\n",
        "# Output the number of available CPU cores\n",
        "print(\"Number of CPU cores:\", num_cpus)\n"
      ],
      "metadata": {
        "colab": {
          "base_uri": "https://localhost:8080/"
        },
        "id": "2yYHBfMOeosi",
        "outputId": "b2e998eb-645a-47a8-b280-1d63317f666e"
      },
      "execution_count": 2,
      "outputs": [
        {
          "output_type": "stream",
          "name": "stdout",
          "text": [
            "Number of CPU cores: 40\n"
          ]
        }
      ]
    },
    {
      "cell_type": "code",
      "source": [
        "#Import libraries...\n",
        "\n",
        "import os\n",
        "import re\n",
        "import random\n",
        "import pandas as pd\n",
        "import pyarrow.parquet as pq\n",
        "from concurrent.futures import ProcessPoolExecutor\n",
        "from concurrent.futures import ThreadPoolExecutor\n",
        "import multiprocessing\n"
      ],
      "metadata": {
        "id": "odslFgTteovQ"
      },
      "execution_count": 3,
      "outputs": []
    },
    {
      "cell_type": "code",
      "source": [
        "#Setting display options\n",
        "\n",
        "pd.set_option('display.float_format', lambda x: '%.3f' % x)\n",
        "\n",
        "# Set maximum number of rows and columns to display\n",
        "pd.set_option('display.max_rows', 1000)\n",
        "pd.set_option('display.max_columns', 1000)"
      ],
      "metadata": {
        "id": "wgD9uPoPeoyS"
      },
      "execution_count": 4,
      "outputs": []
    },
    {
      "cell_type": "code",
      "source": [
        "# Load the Drive helper and mount\n",
        "from google.colab import drive\n",
        "drive.mount('/content/drive')"
      ],
      "metadata": {
        "colab": {
          "base_uri": "https://localhost:8080/"
        },
        "id": "cXPErFoleo03",
        "outputId": "8577a97a-d25d-4432-a11d-3a182c5289a9"
      },
      "execution_count": 5,
      "outputs": [
        {
          "output_type": "stream",
          "name": "stdout",
          "text": [
            "Mounted at /content/drive\n"
          ]
        }
      ]
    },
    {
      "cell_type": "markdown",
      "source": [
        "#Work with the dataset"
      ],
      "metadata": {
        "id": "hz5WI2hffH9N"
      }
    },
    {
      "cell_type": "code",
      "source": [],
      "metadata": {
        "id": "hwpBsmtvfHM4"
      },
      "execution_count": 5,
      "outputs": []
    },
    {
      "cell_type": "markdown",
      "source": [
        "#Replace this dataset path with Google Cloud Storage..."
      ],
      "metadata": {
        "id": "pL2oT3jYMSdF"
      }
    },
    {
      "cell_type": "code",
      "source": [
        "from datasets import load_from_disk\n",
        "\n",
        "dataset_path = \"/content/drive/MyDrive/Sean/Data_OpenWebText2\"\n",
        "\n",
        "# Load the dataset from the file\n",
        "dataset = load_from_disk(dataset_path)\n",
        "\n",
        "# Now you can access the dataset\n",
        "train_data = dataset['train']"
      ],
      "metadata": {
        "id": "pdp1AK7NiKVj"
      },
      "execution_count": 6,
      "outputs": []
    },
    {
      "cell_type": "code",
      "source": [
        "#How big a folder?\n",
        "\n",
        "def get_folder_size(path='.'):\n",
        "    total = 0\n",
        "    with os.scandir(path) as it:\n",
        "        for entry in it:\n",
        "            if entry.is_file():\n",
        "                total += entry.stat().st_size\n",
        "            elif entry.is_dir():\n",
        "                total += get_folder_size(entry.path)\n",
        "    return total\n",
        "\n",
        "folder_path = \"/content/drive/MyDrive/Sean/OpenWebText2\"\n",
        "size_in_bytes = get_folder_size(folder_path)\n",
        "\n",
        "print(f'Size of the directory is {size_in_bytes / (1024*1024*1024)} GB')\n"
      ],
      "metadata": {
        "colab": {
          "base_uri": "https://localhost:8080/",
          "height": 356
        },
        "id": "buJCD97dfJ3u",
        "outputId": "7eba375f-8fbb-43a2-8e9c-cb75bad8865a"
      },
      "execution_count": 7,
      "outputs": [
        {
          "output_type": "error",
          "ename": "FileNotFoundError",
          "evalue": "ignored",
          "traceback": [
            "\u001b[0;31m---------------------------------------------------------------------------\u001b[0m",
            "\u001b[0;31mFileNotFoundError\u001b[0m                         Traceback (most recent call last)",
            "\u001b[0;32m<ipython-input-7-25e3d3dca6d5>\u001b[0m in \u001b[0;36m<cell line: 14>\u001b[0;34m()\u001b[0m\n\u001b[1;32m     12\u001b[0m \u001b[0;34m\u001b[0m\u001b[0m\n\u001b[1;32m     13\u001b[0m \u001b[0mfolder_path\u001b[0m \u001b[0;34m=\u001b[0m \u001b[0;34m\"/content/drive/MyDrive/Sean/OpenWebText2\"\u001b[0m\u001b[0;34m\u001b[0m\u001b[0;34m\u001b[0m\u001b[0m\n\u001b[0;32m---> 14\u001b[0;31m \u001b[0msize_in_bytes\u001b[0m \u001b[0;34m=\u001b[0m \u001b[0mget_folder_size\u001b[0m\u001b[0;34m(\u001b[0m\u001b[0mfolder_path\u001b[0m\u001b[0;34m)\u001b[0m\u001b[0;34m\u001b[0m\u001b[0;34m\u001b[0m\u001b[0m\n\u001b[0m\u001b[1;32m     15\u001b[0m \u001b[0;34m\u001b[0m\u001b[0m\n\u001b[1;32m     16\u001b[0m \u001b[0mprint\u001b[0m\u001b[0;34m(\u001b[0m\u001b[0;34mf'Size of the directory is {size_in_bytes / (1024*1024*1024)} GB'\u001b[0m\u001b[0;34m)\u001b[0m\u001b[0;34m\u001b[0m\u001b[0;34m\u001b[0m\u001b[0m\n",
            "\u001b[0;32m<ipython-input-7-25e3d3dca6d5>\u001b[0m in \u001b[0;36mget_folder_size\u001b[0;34m(path)\u001b[0m\n\u001b[1;32m      3\u001b[0m \u001b[0;32mdef\u001b[0m \u001b[0mget_folder_size\u001b[0m\u001b[0;34m(\u001b[0m\u001b[0mpath\u001b[0m\u001b[0;34m=\u001b[0m\u001b[0;34m'.'\u001b[0m\u001b[0;34m)\u001b[0m\u001b[0;34m:\u001b[0m\u001b[0;34m\u001b[0m\u001b[0;34m\u001b[0m\u001b[0m\n\u001b[1;32m      4\u001b[0m     \u001b[0mtotal\u001b[0m \u001b[0;34m=\u001b[0m \u001b[0;36m0\u001b[0m\u001b[0;34m\u001b[0m\u001b[0;34m\u001b[0m\u001b[0m\n\u001b[0;32m----> 5\u001b[0;31m     \u001b[0;32mwith\u001b[0m \u001b[0mos\u001b[0m\u001b[0;34m.\u001b[0m\u001b[0mscandir\u001b[0m\u001b[0;34m(\u001b[0m\u001b[0mpath\u001b[0m\u001b[0;34m)\u001b[0m \u001b[0;32mas\u001b[0m \u001b[0mit\u001b[0m\u001b[0;34m:\u001b[0m\u001b[0;34m\u001b[0m\u001b[0;34m\u001b[0m\u001b[0m\n\u001b[0m\u001b[1;32m      6\u001b[0m         \u001b[0;32mfor\u001b[0m \u001b[0mentry\u001b[0m \u001b[0;32min\u001b[0m \u001b[0mit\u001b[0m\u001b[0;34m:\u001b[0m\u001b[0;34m\u001b[0m\u001b[0;34m\u001b[0m\u001b[0m\n\u001b[1;32m      7\u001b[0m             \u001b[0;32mif\u001b[0m \u001b[0mentry\u001b[0m\u001b[0;34m.\u001b[0m\u001b[0mis_file\u001b[0m\u001b[0;34m(\u001b[0m\u001b[0;34m)\u001b[0m\u001b[0;34m:\u001b[0m\u001b[0;34m\u001b[0m\u001b[0;34m\u001b[0m\u001b[0m\n",
            "\u001b[0;31mFileNotFoundError\u001b[0m: [Errno 2] No such file or directory: '/content/drive/MyDrive/Sean/OpenWebText2'"
          ]
        }
      ]
    },
    {
      "cell_type": "code",
      "source": [],
      "metadata": {
        "id": "4_lCmaT9hnfh"
      },
      "execution_count": null,
      "outputs": []
    },
    {
      "cell_type": "markdown",
      "source": [
        "#Defining the Emotion Axis\n",
        "\n",
        "These are the search terms..."
      ],
      "metadata": {
        "id": "EAbxuDBZe5Cl"
      }
    },
    {
      "cell_type": "code",
      "source": [
        "#Defining the fear axis\n",
        "\n",
        "emo_axis= {\n",
        "    \"dread\" : ['panic','dread','horror','horrified','horrifying','terror','terrified','terrifying'],\n",
        "    \"fear\":  [\"fear\", \"fearful\", \"fright\",\"frightening\",\"afraid\",\"frightful\",\"frightfully\",\"frightened\",'scared','scary','scare'],\n",
        "    \"anxiety\": [\"anxious\",\"anxiety\",'angst','anxiousness'],\n",
        "    \"worry\":[\"worry\", \"worried\",\"worrying\",\"worries\"],\n",
        "    \"concern\": [\"concern\", \"concerning\",\"concerned\",\"concerns\"],\n",
        "    \"calm\": [\"calm\",\"peaceful\",\"serene\",\"serenity\",\"untroubled\", \"content\", \"contented\", \"composed\", \"tranquil\"]\n",
        "    }\n",
        "\n"
      ],
      "metadata": {
        "id": "Fd1hXeTTe2Hk"
      },
      "execution_count": 8,
      "outputs": []
    },
    {
      "cell_type": "code",
      "source": [
        "# Get the train split of the dataset\n",
        "train_data = dataset['train']\n"
      ],
      "metadata": {
        "id": "dHblh7_6fF2B"
      },
      "execution_count": 9,
      "outputs": []
    },
    {
      "cell_type": "code",
      "source": [
        "train_data?\n"
      ],
      "metadata": {
        "id": "PsrhZfwnS9Z_"
      },
      "execution_count": 10,
      "outputs": []
    },
    {
      "cell_type": "code",
      "source": [],
      "metadata": {
        "id": "B9QF4NXble4f"
      },
      "execution_count": null,
      "outputs": []
    },
    {
      "cell_type": "markdown",
      "source": [
        "#More compute efficient method - Batching with Dataset Object...\n",
        "\n",
        "I don't know if this works..."
      ],
      "metadata": {
        "id": "Yn3pRPqirubK"
      }
    },
    {
      "cell_type": "code",
      "source": [
        "import time\n",
        "import re\n",
        "import pandas as pd\n",
        "from datasets import load_dataset\n",
        "\n",
        "def create_patterns(search_dict):\n",
        "    return {category: re.compile(fr\"\\b(?:{'|'.join(map(re.escape, words))})\\b\") for category, words in search_dict.items()}\n",
        "\n",
        "def extract_context(match, text, window_size=50):\n",
        "    start = max(0, match.start() - window_size)\n",
        "    end = min(match.end() + window_size, len(text))\n",
        "    return text[start:end]\n",
        "\n",
        "def process_example(example, pattern_dict):\n",
        "    text = example['text'].lower()\n",
        "    text_list = []\n",
        "    labl = []\n",
        "    label2 = []\n",
        "\n",
        "    for category, pattern in pattern_dict.items():\n",
        "        matches = pattern.finditer(text)\n",
        "        for match in matches:\n",
        "            context = extract_context(match, text)\n",
        "            if context not in text_list:\n",
        "                text_list.append(context)\n",
        "                labl.append(category)\n",
        "                label2.append(category)\n",
        "\n",
        "    return {\"text_list\": text_list, \"label1\": labl, \"label2\": label2}\n",
        "\n",
        "# Set the search dictionary\n",
        "emo_axis = {\n",
        "    \"dread\": ['panic', 'dread', 'horror', 'horrified', 'horrifying', 'terror', 'terrified', 'terrifying'],\n",
        "    \"fear\": [\"fear\", \"fearful\", \"fright\", \"frightening\", \"afraid\", \"frightful\", \"frightfully\", \"frightened\", 'scared', 'scary', 'scare'],\n",
        "    \"anxiety\": [\"anxious\", \"anxiety\", 'angst', 'anxiousness'],\n",
        "    \"worry\": [\"worry\", \"worried\", \"worrying\", \"worries\"],\n",
        "    \"concern\": [\"concern\", \"concerning\", \"concerned\", \"concerns\"],\n",
        "    \"calm\": [\"calm\", \"peaceful\", \"serene\", \"serenity\", \"untroubled\", \"content\", \"contented\", \"composed\", \"tranquil\"]\n",
        "}\n",
        "\n",
        "# Define the fraction of the dataset to use (e.g., 10%)\n",
        "fraction = 0.05\n",
        "\n",
        "# Start timer\n",
        "start_time = time.time()\n",
        "\n",
        "\n",
        "# Create the pattern dictionary\n",
        "pattern_dict = create_patterns(emo_axis)\n",
        "\n",
        "# Sample a subset of the dataset\n",
        "sampled_dataset = train_data.shuffle().select(range(int(len(train_data) * fraction)))\n",
        "\n",
        "# Process the sampled dataset using parallel processing\n",
        "sampled_dataset = sampled_dataset.map(lambda example: process_example(example, pattern_dict), num_proc=40)\n",
        "\n",
        "# Combine the results from each batch\n",
        "text_list = []\n",
        "labl = []\n",
        "label2 = []\n",
        "\n",
        "for result in sampled_dataset:\n",
        "    text_list.extend(result[\"text_list\"])\n",
        "    labl.extend(result[\"label1\"])\n",
        "    label2.extend(result[\"label2\"])\n",
        "\n",
        "# Create a Pandas DataFrame from the lists\n",
        "df = pd.DataFrame({'text': text_list, 'emotion1': labl, 'emotion2': label2})\n",
        "\n",
        "# End timer\n",
        "end_time = time.time()\n",
        "\n",
        "# Print runtime\n",
        "print(\"Runtime:\", end_time - start_time, \"seconds\")\n"
      ],
      "metadata": {
        "colab": {
          "base_uri": "https://localhost:8080/",
          "height": 49,
          "referenced_widgets": [
            "0a757698cc5d49708a4eb414ebd14f97",
            "bfb1741641db402a94bfe820d3cb5a8f",
            "48a730734da044a490442d3b34ba29a9",
            "84695521aca749ffacf97d47496c8bb7",
            "9b6eb67f236c4227a85c8accb44e30ec",
            "690617b9442a42ff8e7fdd12e2109943",
            "41ba170b08904c9890ba2eda6e95b2bd",
            "a6c47d5b110d4742b23fac1109b567ee",
            "a5e7ec701de64c5a9c1e21c08f328cab",
            "1dc9bd2ef546408ba939307b7a610ad5",
            "d8a75f13eeda4ea9b960d951d8db6ecd"
          ]
        },
        "id": "ymIr-PvRSzYM",
        "outputId": "ba45abd3-1da4-4e4a-c76d-2c6d93256620"
      },
      "execution_count": null,
      "outputs": [
        {
          "output_type": "display_data",
          "data": {
            "text/plain": [
              "Map (num_proc=40):   0%|          | 0/855152 [00:00<?, ? examples/s]"
            ],
            "application/vnd.jupyter.widget-view+json": {
              "version_major": 2,
              "version_minor": 0,
              "model_id": "0a757698cc5d49708a4eb414ebd14f97"
            }
          },
          "metadata": {}
        }
      ]
    },
    {
      "cell_type": "code",
      "source": [],
      "metadata": {
        "id": "R3e1WuYqSzU0"
      },
      "execution_count": null,
      "outputs": []
    },
    {
      "cell_type": "code",
      "source": [],
      "metadata": {
        "id": "5QrK5vVbSzSA"
      },
      "execution_count": null,
      "outputs": []
    },
    {
      "cell_type": "code",
      "source": [],
      "metadata": {
        "id": "LVG2vhCISzPm"
      },
      "execution_count": null,
      "outputs": []
    },
    {
      "cell_type": "code",
      "source": [],
      "metadata": {
        "id": "Ryq8PYe-SzNC"
      },
      "execution_count": null,
      "outputs": []
    },
    {
      "cell_type": "code",
      "source": [],
      "metadata": {
        "id": "UtQeyNcXSzK6"
      },
      "execution_count": null,
      "outputs": []
    },
    {
      "cell_type": "markdown",
      "source": [
        "#John Use this code...\n",
        "\n",
        "John to refactor - create own notebook. That uses Google Cloud Storage / Buckets... Start with OpenWebText data extraction and Reddit...."
      ],
      "metadata": {
        "id": "tfOW_8pfHTBu"
      }
    },
    {
      "cell_type": "code",
      "source": [
        "import re\n",
        "import pandas as pd\n",
        "from multiprocessing import Pool\n",
        "\n",
        "def create_patterns(search_dict):\n",
        "    # Combine all words in each category into a single regular expression\n",
        "    return {category: re.compile(fr\"\\b(?:{'|'.join(map(re.escape, words))})\\b\") for category, words in search_dict.items()}\n",
        "\n",
        "def process_example(example, pattern_dict):\n",
        "    text = example['text'].lower()\n",
        "\n",
        "    text_list = []\n",
        "    labl = []\n",
        "    label2 = []\n",
        "\n",
        "    for category, pattern in pattern_dict.items():\n",
        "        if pattern.search(text):\n",
        "            text_list.append(text)\n",
        "            labl.append(category)\n",
        "            label2.append(category)\n",
        "\n",
        "    return text_list, labl, label2\n",
        "\n",
        "# The rest of your code...\n",
        "\n",
        "pattern_dict = create_patterns(search_dict)\n",
        "\n",
        "fraction = 0.05\n",
        "sampled_dataset = train_data.shuffle().select(range(int(len(train_data) * fraction)))\n",
        "\n",
        "#This will need to change given the number of CPU's available...\n",
        "\n",
        "with Pool(40) as pool:    # Use the number of CPU cores available\n",
        "    results = pool.starmap(process_example, [(example, pattern_dict) for example in sampled_dataset])\n",
        "\n",
        "text_list = []\n",
        "labl = []\n",
        "label2 = []\n",
        "\n",
        "for result in results:\n",
        "    text_list.extend(result[0])\n",
        "    labl.extend(result[1])\n",
        "    label2.extend(result[2])\n",
        "\n",
        "df = pd.DataFrame({'text': text_list, 'emotion1': labl, 'emotion2': label2})\n"
      ],
      "metadata": {
        "id": "Y4nLzldWrwZG"
      },
      "execution_count": null,
      "outputs": []
    },
    {
      "cell_type": "code",
      "source": [
        "df.shape"
      ],
      "metadata": {
        "id": "mhJOOg-Rw6Um"
      },
      "execution_count": null,
      "outputs": []
    },
    {
      "cell_type": "code",
      "source": [
        "df.head(25)"
      ],
      "metadata": {
        "id": "LJRIrIC1C_2K"
      },
      "execution_count": null,
      "outputs": []
    }
  ]
}