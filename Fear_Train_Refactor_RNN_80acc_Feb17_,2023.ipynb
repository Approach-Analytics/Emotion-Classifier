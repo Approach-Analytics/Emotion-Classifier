{
  "cells": [
    {
      "cell_type": "markdown",
      "metadata": {
        "id": "view-in-github",
        "colab_type": "text"
      },
      "source": [
        "<a href=\"https://colab.research.google.com/github/Approach-Analytics/Emotion-Classifier/blob/main/Fear_Train_Refactor_RNN_80acc_Feb17_%2C2023.ipynb\" target=\"_parent\"><img src=\"https://colab.research.google.com/assets/colab-badge.svg\" alt=\"Open In Colab\"/></a>"
      ]
    },
    {
      "cell_type": "markdown",
      "metadata": {
        "id": "9tixBc_S1GRe"
      },
      "source": [
        "#Refactoring the code for RNN training \n",
        "\n",
        "##Want as few training steps as possible...\n",
        "\n",
        "##Source of [codebook](https://katoch.medium.com/twitter-emotion-recognition-using-rnn-d3cd59862957)\n",
        "\n",
        "Data source: \n",
        "\n",
        "df=pd.read_csv(\"/content/drive/MyDrive/Sean/Emoclass_Dec2022/Fear_arousal/Emotion datasets/fear_arousal_first2000books_w400.csv\")\n",
        "\n",
        "Shape: (151724, 4)\n",
        "\n",
        "#Key results...Feb 8,2023\n",
        "\n",
        "\n",
        "1.  With a 50% decrease in sample size - we get a 6% drop in accuracy? From about 70% to 76%. \n",
        "2.  Could we get to 80% accuracy with a larger sample size? \n",
        "3. What about 75% of the dataset - 72.65% and with 25% -> 59.3%\n",
        "4. 121K -> 78%\n",
        "\n"
      ]
    },
    {
      "cell_type": "code",
      "execution_count": 1,
      "metadata": {
        "colab": {
          "base_uri": "https://localhost:8080/"
        },
        "id": "vE1Ijd8o06uz",
        "outputId": "09e7559b-cc69-4412-dac5-add603b7827c"
      },
      "outputs": [
        {
          "output_type": "stream",
          "name": "stdout",
          "text": [
            "Looking in indexes: https://pypi.org/simple, https://us-python.pkg.dev/colab-wheels/public/simple/\n",
            "Collecting nlp\n",
            "  Downloading nlp-0.4.0-py3-none-any.whl (1.7 MB)\n",
            "\u001b[2K     \u001b[90m━━━━━━━━━━━━━━━━━━━━━━━━━━━━━━━━━━━━━━━━\u001b[0m \u001b[32m1.7/1.7 MB\u001b[0m \u001b[31m16.6 MB/s\u001b[0m eta \u001b[36m0:00:00\u001b[0m\n",
            "\u001b[?25hRequirement already satisfied: filelock in /usr/local/lib/python3.8/dist-packages (from nlp) (3.9.0)\n",
            "Requirement already satisfied: pandas in /usr/local/lib/python3.8/dist-packages (from nlp) (1.3.5)\n",
            "Requirement already satisfied: numpy in /usr/local/lib/python3.8/dist-packages (from nlp) (1.21.6)\n",
            "Requirement already satisfied: pyarrow>=0.16.0 in /usr/local/lib/python3.8/dist-packages (from nlp) (9.0.0)\n",
            "Requirement already satisfied: requests>=2.19.0 in /usr/local/lib/python3.8/dist-packages (from nlp) (2.25.1)\n",
            "Collecting xxhash\n",
            "  Downloading xxhash-3.2.0-cp38-cp38-manylinux_2_17_x86_64.manylinux2014_x86_64.whl (213 kB)\n",
            "\u001b[2K     \u001b[90m━━━━━━━━━━━━━━━━━━━━━━━━━━━━━━━━━━━━━━━\u001b[0m \u001b[32m213.0/213.0 KB\u001b[0m \u001b[31m6.3 MB/s\u001b[0m eta \u001b[36m0:00:00\u001b[0m\n",
            "\u001b[?25hRequirement already satisfied: dill in /usr/local/lib/python3.8/dist-packages (from nlp) (0.3.6)\n",
            "Requirement already satisfied: tqdm>=4.27 in /usr/local/lib/python3.8/dist-packages (from nlp) (4.64.1)\n",
            "Requirement already satisfied: urllib3<1.27,>=1.21.1 in /usr/local/lib/python3.8/dist-packages (from requests>=2.19.0->nlp) (1.24.3)\n",
            "Requirement already satisfied: certifi>=2017.4.17 in /usr/local/lib/python3.8/dist-packages (from requests>=2.19.0->nlp) (2022.12.7)\n",
            "Requirement already satisfied: chardet<5,>=3.0.2 in /usr/local/lib/python3.8/dist-packages (from requests>=2.19.0->nlp) (4.0.0)\n",
            "Requirement already satisfied: idna<3,>=2.5 in /usr/local/lib/python3.8/dist-packages (from requests>=2.19.0->nlp) (2.10)\n",
            "Requirement already satisfied: pytz>=2017.3 in /usr/local/lib/python3.8/dist-packages (from pandas->nlp) (2022.7.1)\n",
            "Requirement already satisfied: python-dateutil>=2.7.3 in /usr/local/lib/python3.8/dist-packages (from pandas->nlp) (2.8.2)\n",
            "Requirement already satisfied: six>=1.5 in /usr/local/lib/python3.8/dist-packages (from python-dateutil>=2.7.3->pandas->nlp) (1.15.0)\n",
            "Installing collected packages: xxhash, nlp\n",
            "Successfully installed nlp-0.4.0 xxhash-3.2.0\n"
          ]
        }
      ],
      "source": [
        "#Need pip install tensorflow with...Jupyter Notebook\n",
        "\n",
        "!pip install nlp\n",
        "#!pip install tensorflow"
      ]
    },
    {
      "cell_type": "code",
      "execution_count": 2,
      "metadata": {
        "id": "lG1RPDrQ1rf3"
      },
      "outputs": [],
      "source": [
        "%matplotlib inline\n",
        "\n",
        "import tensorflow as tf\n",
        "from tensorflow import keras\n",
        "import numpy as np\n",
        "import matplotlib.pyplot as plt\n",
        "import random\n",
        "import pandas as pd\n"
      ]
    },
    {
      "cell_type": "code",
      "execution_count": 3,
      "metadata": {
        "id": "eE0V3of61sIH"
      },
      "outputs": [],
      "source": [
        "#Dec 7, 2022: Not sure what this piece of code is used for... \n",
        "\n",
        "import warnings\n",
        "warnings.filterwarnings('ignore')"
      ]
    },
    {
      "cell_type": "markdown",
      "metadata": {
        "id": "L8_S3LY11v6H"
      },
      "source": [
        "##Importing the dataset.. "
      ]
    },
    {
      "cell_type": "code",
      "execution_count": 4,
      "metadata": {
        "colab": {
          "base_uri": "https://localhost:8080/"
        },
        "id": "FioSZTOm1t9M",
        "outputId": "9ec7655d-f1cb-440d-8468-d19b137ed292"
      },
      "outputs": [
        {
          "output_type": "stream",
          "name": "stdout",
          "text": [
            "Mounted at /content/drive\n"
          ]
        }
      ],
      "source": [
        "# Load the Drive helper and mount\n",
        "\n",
        "from google.colab import drive\n",
        "drive.mount('/content/drive')"
      ]
    },
    {
      "cell_type": "code",
      "execution_count": 5,
      "metadata": {
        "id": "iAxdCs1hSvfv"
      },
      "outputs": [],
      "source": [
        "#Load dataset for the \n",
        "\n",
        "#/content/drive/MyDrive/Sean/Emoclass_Dec2022/Fear_arousal/Emotion datasets/fear_arousal_first2000books_w400.csv\n",
        "\n",
        "df=pd.read_csv(\"/content/drive/MyDrive/Sean/Emoclass_Dec2022/Fear_arousal/Emotion datasets/fear_arousal_first2000books_w400.csv\")"
      ]
    },
    {
      "cell_type": "code",
      "execution_count": 6,
      "metadata": {
        "colab": {
          "base_uri": "https://localhost:8080/",
          "height": 223
        },
        "id": "wHLrvCre15Ut",
        "outputId": "e37d728b-8835-4c5b-d0a3-8ce6133e7c01"
      },
      "outputs": [
        {
          "output_type": "stream",
          "name": "stdout",
          "text": [
            "(151724, 4)\n"
          ]
        },
        {
          "output_type": "execute_result",
          "data": {
            "text/plain": [
              "   Unnamed: 0                                               text emotion1  \\\n",
              "0           0  of a safe next instant the street was empty ba...    panic   \n",
              "1           1  aw now horn and pelt our peoples melt in cover...    dread   \n",
              "2           2   an unwatched flame brightened for a moment an...    dread   \n",
              "3           3   sign turn thee from thy morning mist or twili...    dread   \n",
              "4           4  nted hathi oh but my tusks were red at bhurtpo...   horror   \n",
              "\n",
              "  emotion2  \n",
              "0    dread  \n",
              "1    dread  \n",
              "2    dread  \n",
              "3    dread  \n",
              "4    dread  "
            ],
            "text/html": [
              "\n",
              "  <div id=\"df-70dbe38f-f35f-4e04-880e-98f446543297\">\n",
              "    <div class=\"colab-df-container\">\n",
              "      <div>\n",
              "<style scoped>\n",
              "    .dataframe tbody tr th:only-of-type {\n",
              "        vertical-align: middle;\n",
              "    }\n",
              "\n",
              "    .dataframe tbody tr th {\n",
              "        vertical-align: top;\n",
              "    }\n",
              "\n",
              "    .dataframe thead th {\n",
              "        text-align: right;\n",
              "    }\n",
              "</style>\n",
              "<table border=\"1\" class=\"dataframe\">\n",
              "  <thead>\n",
              "    <tr style=\"text-align: right;\">\n",
              "      <th></th>\n",
              "      <th>Unnamed: 0</th>\n",
              "      <th>text</th>\n",
              "      <th>emotion1</th>\n",
              "      <th>emotion2</th>\n",
              "    </tr>\n",
              "  </thead>\n",
              "  <tbody>\n",
              "    <tr>\n",
              "      <th>0</th>\n",
              "      <td>0</td>\n",
              "      <td>of a safe next instant the street was empty ba...</td>\n",
              "      <td>panic</td>\n",
              "      <td>dread</td>\n",
              "    </tr>\n",
              "    <tr>\n",
              "      <th>1</th>\n",
              "      <td>1</td>\n",
              "      <td>aw now horn and pelt our peoples melt in cover...</td>\n",
              "      <td>dread</td>\n",
              "      <td>dread</td>\n",
              "    </tr>\n",
              "    <tr>\n",
              "      <th>2</th>\n",
              "      <td>2</td>\n",
              "      <td>an unwatched flame brightened for a moment an...</td>\n",
              "      <td>dread</td>\n",
              "      <td>dread</td>\n",
              "    </tr>\n",
              "    <tr>\n",
              "      <th>3</th>\n",
              "      <td>3</td>\n",
              "      <td>sign turn thee from thy morning mist or twili...</td>\n",
              "      <td>dread</td>\n",
              "      <td>dread</td>\n",
              "    </tr>\n",
              "    <tr>\n",
              "      <th>4</th>\n",
              "      <td>4</td>\n",
              "      <td>nted hathi oh but my tusks were red at bhurtpo...</td>\n",
              "      <td>horror</td>\n",
              "      <td>dread</td>\n",
              "    </tr>\n",
              "  </tbody>\n",
              "</table>\n",
              "</div>\n",
              "      <button class=\"colab-df-convert\" onclick=\"convertToInteractive('df-70dbe38f-f35f-4e04-880e-98f446543297')\"\n",
              "              title=\"Convert this dataframe to an interactive table.\"\n",
              "              style=\"display:none;\">\n",
              "        \n",
              "  <svg xmlns=\"http://www.w3.org/2000/svg\" height=\"24px\"viewBox=\"0 0 24 24\"\n",
              "       width=\"24px\">\n",
              "    <path d=\"M0 0h24v24H0V0z\" fill=\"none\"/>\n",
              "    <path d=\"M18.56 5.44l.94 2.06.94-2.06 2.06-.94-2.06-.94-.94-2.06-.94 2.06-2.06.94zm-11 1L8.5 8.5l.94-2.06 2.06-.94-2.06-.94L8.5 2.5l-.94 2.06-2.06.94zm10 10l.94 2.06.94-2.06 2.06-.94-2.06-.94-.94-2.06-.94 2.06-2.06.94z\"/><path d=\"M17.41 7.96l-1.37-1.37c-.4-.4-.92-.59-1.43-.59-.52 0-1.04.2-1.43.59L10.3 9.45l-7.72 7.72c-.78.78-.78 2.05 0 2.83L4 21.41c.39.39.9.59 1.41.59.51 0 1.02-.2 1.41-.59l7.78-7.78 2.81-2.81c.8-.78.8-2.07 0-2.86zM5.41 20L4 18.59l7.72-7.72 1.47 1.35L5.41 20z\"/>\n",
              "  </svg>\n",
              "      </button>\n",
              "      \n",
              "  <style>\n",
              "    .colab-df-container {\n",
              "      display:flex;\n",
              "      flex-wrap:wrap;\n",
              "      gap: 12px;\n",
              "    }\n",
              "\n",
              "    .colab-df-convert {\n",
              "      background-color: #E8F0FE;\n",
              "      border: none;\n",
              "      border-radius: 50%;\n",
              "      cursor: pointer;\n",
              "      display: none;\n",
              "      fill: #1967D2;\n",
              "      height: 32px;\n",
              "      padding: 0 0 0 0;\n",
              "      width: 32px;\n",
              "    }\n",
              "\n",
              "    .colab-df-convert:hover {\n",
              "      background-color: #E2EBFA;\n",
              "      box-shadow: 0px 1px 2px rgba(60, 64, 67, 0.3), 0px 1px 3px 1px rgba(60, 64, 67, 0.15);\n",
              "      fill: #174EA6;\n",
              "    }\n",
              "\n",
              "    [theme=dark] .colab-df-convert {\n",
              "      background-color: #3B4455;\n",
              "      fill: #D2E3FC;\n",
              "    }\n",
              "\n",
              "    [theme=dark] .colab-df-convert:hover {\n",
              "      background-color: #434B5C;\n",
              "      box-shadow: 0px 1px 3px 1px rgba(0, 0, 0, 0.15);\n",
              "      filter: drop-shadow(0px 1px 2px rgba(0, 0, 0, 0.3));\n",
              "      fill: #FFFFFF;\n",
              "    }\n",
              "  </style>\n",
              "\n",
              "      <script>\n",
              "        const buttonEl =\n",
              "          document.querySelector('#df-70dbe38f-f35f-4e04-880e-98f446543297 button.colab-df-convert');\n",
              "        buttonEl.style.display =\n",
              "          google.colab.kernel.accessAllowed ? 'block' : 'none';\n",
              "\n",
              "        async function convertToInteractive(key) {\n",
              "          const element = document.querySelector('#df-70dbe38f-f35f-4e04-880e-98f446543297');\n",
              "          const dataTable =\n",
              "            await google.colab.kernel.invokeFunction('convertToInteractive',\n",
              "                                                     [key], {});\n",
              "          if (!dataTable) return;\n",
              "\n",
              "          const docLinkHtml = 'Like what you see? Visit the ' +\n",
              "            '<a target=\"_blank\" href=https://colab.research.google.com/notebooks/data_table.ipynb>data table notebook</a>'\n",
              "            + ' to learn more about interactive tables.';\n",
              "          element.innerHTML = '';\n",
              "          dataTable['output_type'] = 'display_data';\n",
              "          await google.colab.output.renderOutput(dataTable, element);\n",
              "          const docLink = document.createElement('div');\n",
              "          docLink.innerHTML = docLinkHtml;\n",
              "          element.appendChild(docLink);\n",
              "        }\n",
              "      </script>\n",
              "    </div>\n",
              "  </div>\n",
              "  "
            ]
          },
          "metadata": {},
          "execution_count": 6
        }
      ],
      "source": [
        "print(df.shape)\n",
        "df.head(5)"
      ]
    },
    {
      "cell_type": "code",
      "execution_count": 7,
      "metadata": {
        "colab": {
          "base_uri": "https://localhost:8080/"
        },
        "id": "JiJYmZdS17cT",
        "outputId": "9b131ef9-8783-4072-f38f-3f7ac93f762b"
      },
      "outputs": [
        {
          "output_type": "stream",
          "name": "stdout",
          "text": [
            "fear           35438\n",
            "afraid         19448\n",
            "anxious        10561\n",
            "calm            9192\n",
            "concerning      8439\n",
            "anxiety         7629\n",
            "frightened      7498\n",
            "horror          7451\n",
            "concerned       7416\n",
            "dread           6722\n",
            "fearful         5134\n",
            "concern         4422\n",
            "peaceful        4043\n",
            "worry           3604\n",
            "fright          3286\n",
            "worried         2691\n",
            "serene          2640\n",
            "panic           2582\n",
            "horrified       1697\n",
            "frightening     1035\n",
            "worrying         784\n",
            "angst             12\n",
            "Name: emotion1, dtype: int64\n",
            "fear       71839\n",
            "concern    20277\n",
            "dread      18452\n",
            "anxiety    18202\n",
            "calm       15875\n",
            "worry       7079\n",
            "Name: emotion2, dtype: int64\n"
          ]
        }
      ],
      "source": [
        "#What emotion categories do we have? \n",
        "\n",
        "print(df['emotion1'].value_counts())\n",
        "\n",
        "print(df['emotion2'].value_counts())"
      ]
    },
    {
      "cell_type": "code",
      "execution_count": 8,
      "metadata": {
        "id": "beTlBPtm2I7J"
      },
      "outputs": [],
      "source": [
        "#Relabelling a column... if needed... \n",
        "\n",
        "df.rename(columns={\"emotion2\": \"label\"},inplace =True)"
      ]
    },
    {
      "cell_type": "code",
      "execution_count": 9,
      "metadata": {
        "colab": {
          "base_uri": "https://localhost:8080/"
        },
        "id": "yVBV-5YC2L6X",
        "outputId": "2d93bf43-b46d-4996-b7ca-5aed1cef426b"
      },
      "outputs": [
        {
          "output_type": "execute_result",
          "data": {
            "text/plain": [
              "Unnamed: 0    0\n",
              "text          0\n",
              "emotion1      0\n",
              "label         0\n",
              "dtype: int64"
            ]
          },
          "metadata": {},
          "execution_count": 9
        }
      ],
      "source": [
        "#Let's see if we have missing values...No missing values... \n",
        "\n",
        "df.isna().sum()"
      ]
    },
    {
      "cell_type": "markdown",
      "metadata": {
        "id": "qY34VTlw2wkw"
      },
      "source": [
        "#Replacing the emotion words in the dataset.. "
      ]
    },
    {
      "cell_type": "code",
      "execution_count": 10,
      "metadata": {
        "id": "kIVlQ2eR2Lq9"
      },
      "outputs": [],
      "source": [
        "#Generate all the unique emotion words that then get replaced... \n",
        "\n",
        "a = df['emotion1'].unique().tolist()\n",
        "\n",
        "#The list a is our list of variable responses from the dataset... \n",
        "keyword = \"emotions\"\n",
        "words = a\n",
        "for j in words: \n",
        "  df['text'] = df['text'].str.replace(j,keyword)"
      ]
    },
    {
      "cell_type": "markdown",
      "metadata": {
        "id": "BpP9qtYp9ylV"
      },
      "source": [
        "##Frequency of emotion words per string"
      ]
    },
    {
      "cell_type": "code",
      "execution_count": 11,
      "metadata": {
        "id": "GSMzK8isl8Qh"
      },
      "outputs": [],
      "source": [
        "#Let's count the frequency of teh emotion words... \n",
        "\n",
        "text_column = df[\"text\"]\n",
        "\n",
        "#Define the word to count \n",
        "\n",
        "word_counts = text_column.str.count(keyword)\n",
        "\n",
        "#Apply the variable back to the dataframe\n",
        "\n",
        "df[\"emo_word_count\"] = word_counts                                "
      ]
    },
    {
      "cell_type": "code",
      "execution_count": 12,
      "metadata": {
        "colab": {
          "base_uri": "https://localhost:8080/"
        },
        "id": "vwmZuscDnXtS",
        "outputId": "4e1e61b8-b764-4ffa-d268-b55b3f553b11"
      },
      "outputs": [
        {
          "output_type": "execute_result",
          "data": {
            "text/plain": [
              "1     98996\n",
              "2     23512\n",
              "4      8555\n",
              "5      7464\n",
              "3      5707\n",
              "6      2509\n",
              "10      832\n",
              "11      830\n",
              "7       805\n",
              "12      617\n",
              "13      529\n",
              "9       399\n",
              "8       377\n",
              "14      204\n",
              "15      170\n",
              "16       79\n",
              "17       44\n",
              "18       33\n",
              "19       24\n",
              "21       15\n",
              "20       13\n",
              "22        6\n",
              "23        2\n",
              "25        1\n",
              "28        1\n",
              "Name: emo_word_count, dtype: int64"
            ]
          },
          "metadata": {},
          "execution_count": 12
        }
      ],
      "source": [
        "#Let's look at the value counts of this thing\n",
        "\n",
        "df[\"emo_word_count\"].value_counts()\n",
        "\n",
        "#print(df.shape)"
      ]
    },
    {
      "cell_type": "markdown",
      "metadata": {
        "id": "R9k2_Z_TAalY"
      },
      "source": [
        "##Subsetting the data with 2 or less emotion words "
      ]
    },
    {
      "cell_type": "code",
      "execution_count": 13,
      "metadata": {
        "id": "NIVbPA2JAaH-"
      },
      "outputs": [],
      "source": [
        "# define the emotion word and the frequency threshold\n",
        "#emotion_word = 'emotions' \n",
        "#frequency_threshold = 2\n",
        "\n",
        "# subset the dataframe based on the frequency of the emotion word\n",
        "#df = df[df['text'].str.count(emotion_word) <= frequency_threshold]"
      ]
    },
    {
      "cell_type": "code",
      "execution_count": 14,
      "metadata": {
        "colab": {
          "base_uri": "https://localhost:8080/"
        },
        "id": "l_PswrdqAzI5",
        "outputId": "840782c0-e658-4c10-a960-62e85519a4b5"
      },
      "outputs": [
        {
          "output_type": "execute_result",
          "data": {
            "text/plain": [
              "(151724, 5)"
            ]
          },
          "metadata": {},
          "execution_count": 14
        }
      ],
      "source": [
        "#Let's check the size of this dataset to make sure the splice worked...\n",
        "\n",
        "df.shape"
      ]
    },
    {
      "cell_type": "markdown",
      "metadata": {
        "id": "rIfZ9h0XCRzK"
      },
      "source": [
        "#Sampling and shuffling the dataset... "
      ]
    },
    {
      "cell_type": "code",
      "execution_count": 15,
      "metadata": {
        "id": "BQW7llsR2L2_"
      },
      "outputs": [],
      "source": [
        "#Shuffling and sampling the dataset... this works... \n",
        "#0.5 means half the dataset is used\n",
        "\n",
        "df = df.sample(frac=1)"
      ]
    },
    {
      "cell_type": "markdown",
      "metadata": {
        "id": "VCS_938f3Q-7"
      },
      "source": [
        "#Vocab Size and Truncating the string\n",
        "\n",
        "This step is important to make sure, there are no \"chopped\" words the NLTK collocation seems to just chop words. "
      ]
    },
    {
      "cell_type": "code",
      "execution_count": 16,
      "metadata": {
        "colab": {
          "base_uri": "https://localhost:8080/"
        },
        "id": "mIW1-vs15xjP",
        "outputId": "1d2e5cf8-edfa-4668-8c7a-24f32978a006"
      },
      "outputs": [
        {
          "output_type": "execute_result",
          "data": {
            "text/plain": [
              "Index(['Unnamed: 0', 'text', 'emotion1', 'label', 'emo_word_count'], dtype='object')"
            ]
          },
          "metadata": {},
          "execution_count": 16
        }
      ],
      "source": [
        "df.columns"
      ]
    },
    {
      "cell_type": "markdown",
      "metadata": {
        "id": "zmrFMqdf-Xv-"
      },
      "source": [
        "##Counting vocab size prior to mods"
      ]
    },
    {
      "cell_type": "code",
      "execution_count": 17,
      "metadata": {
        "id": "Q4icomGT5jzD"
      },
      "outputs": [],
      "source": [
        "#Total vocabulary size prior to truncation \n",
        "\n",
        "from tensorflow.keras.preprocessing.text import Tokenizer\n",
        "\n",
        "# convert the text into a list\n",
        "text = df['text'].tolist()\n",
        "\n",
        "# create a Tokenizer object\n",
        "tokenizer = Tokenizer()\n",
        "\n",
        "# fit the tokenizer on the text data\n",
        "tokenizer.fit_on_texts(text)\n",
        "\n",
        "# calculate the vocabulary size\n",
        "vocab_size = len(tokenizer.word_index) + 1"
      ]
    },
    {
      "cell_type": "code",
      "execution_count": 18,
      "metadata": {
        "colab": {
          "base_uri": "https://localhost:8080/"
        },
        "id": "2ADQpyvY56Ns",
        "outputId": "f174ae76-3e8a-42f4-f89c-fe6c09976ec0"
      },
      "outputs": [
        {
          "output_type": "execute_result",
          "data": {
            "text/plain": [
              "129829"
            ]
          },
          "metadata": {},
          "execution_count": 18
        }
      ],
      "source": [
        "#How big is the vocabulary size? \n",
        "\n",
        "vocab_size"
      ]
    },
    {
      "cell_type": "markdown",
      "metadata": {
        "id": "sab43PDW6pCq"
      },
      "source": [
        "##Cutting a single word off either side of string - var: \"text_minus1\" \n",
        "\n",
        "###Feb 4: Need to test this - is the word count minus 2? "
      ]
    },
    {
      "cell_type": "code",
      "execution_count": 19,
      "metadata": {
        "id": "0TcEqkQn6og9"
      },
      "outputs": [],
      "source": [
        "#Cutting a single word off of both ends... \n",
        "\n",
        "def truncate_words(text, n=1):\n",
        "    words = text.split()\n",
        "    return ' '.join(words[n:-n])\n",
        "\n",
        "df['text_minus1'] = df['text'].apply(lambda x: truncate_words(x))"
      ]
    },
    {
      "cell_type": "markdown",
      "metadata": {
        "id": "-p-hjLdVpCQM"
      },
      "source": [
        "##Filter out the rare words - threshold value is 2 "
      ]
    },
    {
      "cell_type": "code",
      "execution_count": 20,
      "metadata": {
        "id": "oLMpD0--oym3"
      },
      "outputs": [],
      "source": [
        "#Creating a function to filer rare words of data \n",
        "#Or do it for, df[\"text_minus1\"]\n",
        "\n",
        "from collections import Counter\n",
        "\n",
        "def filter_rare_words(data, threshold=2):\n",
        "    # Create a list of all words in the dataset\n",
        "    words = [word for line in data.text for word in line.split()]\n",
        "    \n",
        "    # Use Counter to calculate the frequency of each word\n",
        "    word_counts = Counter(words)\n",
        "    \n",
        "    # Create a set of words that occur more than the threshold number of times\n",
        "    common_words = set([word for word, count in word_counts.items() if count >= threshold])\n",
        "    \n",
        "    # Filter out the rare words from each text sample\n",
        "    filtered_data = data.copy()\n",
        "    filtered_data['text'] = filtered_data['text'].apply(lambda x: \" \".join([word for word in x.split() if word in common_words]))\n",
        "    \n",
        "    return filtered_data, word_counts\n"
      ]
    },
    {
      "cell_type": "code",
      "execution_count": 21,
      "metadata": {
        "id": "M5W2D0zMqKId"
      },
      "outputs": [],
      "source": [
        "#Applying the function to filter the dataframe \n",
        "\n",
        "# Apply the filter_rare_words function to the 'text' column\n",
        "filtered_data, word_counts = filter_rare_words(df, threshold=2)\n",
        "\n",
        "# Create a new variable 'filtered_text' from the 'text' column of filtered_data\n",
        "#I think we need this variable: text_minus1\n",
        "filtered_text = filtered_data['text_minus1']\n",
        "\n",
        "# Add the filtered_text variable as a new column in the original data DataFrame\n",
        "df['filtered_text_minus1'] = filtered_text\n"
      ]
    },
    {
      "cell_type": "markdown",
      "metadata": {
        "id": "oQxtQxm-d7hE"
      },
      "source": [
        "#Vocab size after processing "
      ]
    },
    {
      "cell_type": "code",
      "execution_count": 22,
      "metadata": {
        "id": "vc7PQUFV7NKw"
      },
      "outputs": [],
      "source": [
        "#Counting the word frequency again...\n",
        "#Different variables: df['filtered_text'], df['text_minus1']\n",
        "\n",
        "# convert the text into a list\n",
        "text = df['filtered_text_minus1'].tolist()\n",
        "\n",
        "# create a Tokenizer object\n",
        "tokenizer = Tokenizer()\n",
        "\n",
        "# fit the tokenizer on the text data\n",
        "tokenizer.fit_on_texts(text)\n",
        "\n",
        "# calculate the vocabulary size\n",
        "vocab_size_minus1 = len(tokenizer.word_index) + 1"
      ]
    },
    {
      "cell_type": "code",
      "execution_count": 23,
      "metadata": {
        "colab": {
          "base_uri": "https://localhost:8080/"
        },
        "id": "V4b_jOTH7X5x",
        "outputId": "954f7c91-2ecd-4e1f-a438-badf5131b770"
      },
      "outputs": [
        {
          "output_type": "execute_result",
          "data": {
            "text/plain": [
              "113162"
            ]
          },
          "metadata": {},
          "execution_count": 23
        }
      ],
      "source": [
        "#Checking the value of the number \n",
        "\n",
        "vocab_size_minus1"
      ]
    },
    {
      "cell_type": "markdown",
      "source": [
        "##Not in use: Truncating length of rows based on max word length...\n",
        "\n",
        "Yes, the modified truncate_text function will remove words from both ends of the text to make it fit within the max_length limit.\n",
        "\n",
        "The function calculates the number of words to keep in the truncated text by subtracting max_length from the total number of words, then dividing the result by 2 and using the floor division operator // to round down to the nearest integer. This gives the number of words to remove from each end of the text.\n",
        "\n",
        "The function then searches for the nearest word boundary before the end index and after the start index, as described in my previous answer, to ensure that the truncated text contains complete words.\n",
        "\n",
        "So, depending on the length of the original text and the max_length limit, some words may be removed from both ends of the text in order to create the truncated version. However, the function tries to minimize the number of words that are removed, and ensures that the truncated text contains complete words. "
      ],
      "metadata": {
        "id": "cdLL-wgJQDVm"
      }
    },
    {
      "cell_type": "code",
      "execution_count": 24,
      "metadata": {
        "id": "-chBn3IOqY1j",
        "colab": {
          "base_uri": "https://localhost:8080/",
          "height": 346
        },
        "outputId": "d17bd6c1-120d-45d1-accc-6b12cda118ed"
      },
      "outputs": [
        {
          "output_type": "error",
          "ename": "IndexError",
          "evalue": "ignored",
          "traceback": [
            "\u001b[0;31m---------------------------------------------------------------------------\u001b[0m",
            "\u001b[0;31mIndexError\u001b[0m                                Traceback (most recent call last)",
            "\u001b[0;32m<ipython-input-24-ffaba6949948>\u001b[0m in \u001b[0;36m<module>\u001b[0;34m\u001b[0m\n\u001b[1;32m     22\u001b[0m \u001b[0;31m# Define a new variable to truncate the text in each row to max_length words\u001b[0m\u001b[0;34m\u001b[0m\u001b[0;34m\u001b[0m\u001b[0;34m\u001b[0m\u001b[0m\n\u001b[1;32m     23\u001b[0m \u001b[0mmax_length\u001b[0m \u001b[0;34m=\u001b[0m \u001b[0;36m50\u001b[0m\u001b[0;34m\u001b[0m\u001b[0;34m\u001b[0m\u001b[0m\n\u001b[0;32m---> 24\u001b[0;31m \u001b[0mdf\u001b[0m\u001b[0;34m[\u001b[0m\u001b[0;34m'truncated_text'\u001b[0m\u001b[0;34m]\u001b[0m \u001b[0;34m=\u001b[0m \u001b[0mtext_column\u001b[0m\u001b[0;34m.\u001b[0m\u001b[0mapply\u001b[0m\u001b[0;34m(\u001b[0m\u001b[0;32mlambda\u001b[0m \u001b[0mx\u001b[0m\u001b[0;34m:\u001b[0m \u001b[0mtruncate_text\u001b[0m\u001b[0;34m(\u001b[0m\u001b[0mx\u001b[0m\u001b[0;34m,\u001b[0m \u001b[0mmax_length\u001b[0m\u001b[0;34m)\u001b[0m\u001b[0;34m)\u001b[0m\u001b[0;34m\u001b[0m\u001b[0;34m\u001b[0m\u001b[0m\n\u001b[0m",
            "\u001b[0;32m/usr/local/lib/python3.8/dist-packages/pandas/core/series.py\u001b[0m in \u001b[0;36mapply\u001b[0;34m(self, func, convert_dtype, args, **kwargs)\u001b[0m\n\u001b[1;32m   4355\u001b[0m         \u001b[0mdtype\u001b[0m\u001b[0;34m:\u001b[0m \u001b[0mfloat64\u001b[0m\u001b[0;34m\u001b[0m\u001b[0;34m\u001b[0m\u001b[0m\n\u001b[1;32m   4356\u001b[0m         \"\"\"\n\u001b[0;32m-> 4357\u001b[0;31m         \u001b[0;32mreturn\u001b[0m \u001b[0mSeriesApply\u001b[0m\u001b[0;34m(\u001b[0m\u001b[0mself\u001b[0m\u001b[0;34m,\u001b[0m \u001b[0mfunc\u001b[0m\u001b[0;34m,\u001b[0m \u001b[0mconvert_dtype\u001b[0m\u001b[0;34m,\u001b[0m \u001b[0margs\u001b[0m\u001b[0;34m,\u001b[0m \u001b[0mkwargs\u001b[0m\u001b[0;34m)\u001b[0m\u001b[0;34m.\u001b[0m\u001b[0mapply\u001b[0m\u001b[0;34m(\u001b[0m\u001b[0;34m)\u001b[0m\u001b[0;34m\u001b[0m\u001b[0;34m\u001b[0m\u001b[0m\n\u001b[0m\u001b[1;32m   4358\u001b[0m \u001b[0;34m\u001b[0m\u001b[0m\n\u001b[1;32m   4359\u001b[0m     def _reduce(\n",
            "\u001b[0;32m/usr/local/lib/python3.8/dist-packages/pandas/core/apply.py\u001b[0m in \u001b[0;36mapply\u001b[0;34m(self)\u001b[0m\n\u001b[1;32m   1041\u001b[0m             \u001b[0;32mreturn\u001b[0m \u001b[0mself\u001b[0m\u001b[0;34m.\u001b[0m\u001b[0mapply_str\u001b[0m\u001b[0;34m(\u001b[0m\u001b[0;34m)\u001b[0m\u001b[0;34m\u001b[0m\u001b[0;34m\u001b[0m\u001b[0m\n\u001b[1;32m   1042\u001b[0m \u001b[0;34m\u001b[0m\u001b[0m\n\u001b[0;32m-> 1043\u001b[0;31m         \u001b[0;32mreturn\u001b[0m \u001b[0mself\u001b[0m\u001b[0;34m.\u001b[0m\u001b[0mapply_standard\u001b[0m\u001b[0;34m(\u001b[0m\u001b[0;34m)\u001b[0m\u001b[0;34m\u001b[0m\u001b[0;34m\u001b[0m\u001b[0m\n\u001b[0m\u001b[1;32m   1044\u001b[0m \u001b[0;34m\u001b[0m\u001b[0m\n\u001b[1;32m   1045\u001b[0m     \u001b[0;32mdef\u001b[0m \u001b[0magg\u001b[0m\u001b[0;34m(\u001b[0m\u001b[0mself\u001b[0m\u001b[0;34m)\u001b[0m\u001b[0;34m:\u001b[0m\u001b[0;34m\u001b[0m\u001b[0;34m\u001b[0m\u001b[0m\n",
            "\u001b[0;32m/usr/local/lib/python3.8/dist-packages/pandas/core/apply.py\u001b[0m in \u001b[0;36mapply_standard\u001b[0;34m(self)\u001b[0m\n\u001b[1;32m   1096\u001b[0m                 \u001b[0;31m# List[Union[Callable[..., Any], str]]]]]\"; expected\u001b[0m\u001b[0;34m\u001b[0m\u001b[0;34m\u001b[0m\u001b[0;34m\u001b[0m\u001b[0m\n\u001b[1;32m   1097\u001b[0m                 \u001b[0;31m# \"Callable[[Any], Any]\"\u001b[0m\u001b[0;34m\u001b[0m\u001b[0;34m\u001b[0m\u001b[0;34m\u001b[0m\u001b[0m\n\u001b[0;32m-> 1098\u001b[0;31m                 mapped = lib.map_infer(\n\u001b[0m\u001b[1;32m   1099\u001b[0m                     \u001b[0mvalues\u001b[0m\u001b[0;34m,\u001b[0m\u001b[0;34m\u001b[0m\u001b[0;34m\u001b[0m\u001b[0m\n\u001b[1;32m   1100\u001b[0m                     \u001b[0mf\u001b[0m\u001b[0;34m,\u001b[0m  \u001b[0;31m# type: ignore[arg-type]\u001b[0m\u001b[0;34m\u001b[0m\u001b[0;34m\u001b[0m\u001b[0m\n",
            "\u001b[0;32m/usr/local/lib/python3.8/dist-packages/pandas/_libs/lib.pyx\u001b[0m in \u001b[0;36mpandas._libs.lib.map_infer\u001b[0;34m()\u001b[0m\n",
            "\u001b[0;32m<ipython-input-24-ffaba6949948>\u001b[0m in \u001b[0;36m<lambda>\u001b[0;34m(x)\u001b[0m\n\u001b[1;32m     22\u001b[0m \u001b[0;31m# Define a new variable to truncate the text in each row to max_length words\u001b[0m\u001b[0;34m\u001b[0m\u001b[0;34m\u001b[0m\u001b[0;34m\u001b[0m\u001b[0m\n\u001b[1;32m     23\u001b[0m \u001b[0mmax_length\u001b[0m \u001b[0;34m=\u001b[0m \u001b[0;36m50\u001b[0m\u001b[0;34m\u001b[0m\u001b[0;34m\u001b[0m\u001b[0m\n\u001b[0;32m---> 24\u001b[0;31m \u001b[0mdf\u001b[0m\u001b[0;34m[\u001b[0m\u001b[0;34m'truncated_text'\u001b[0m\u001b[0;34m]\u001b[0m \u001b[0;34m=\u001b[0m \u001b[0mtext_column\u001b[0m\u001b[0;34m.\u001b[0m\u001b[0mapply\u001b[0m\u001b[0;34m(\u001b[0m\u001b[0;32mlambda\u001b[0m \u001b[0mx\u001b[0m\u001b[0;34m:\u001b[0m \u001b[0mtruncate_text\u001b[0m\u001b[0;34m(\u001b[0m\u001b[0mx\u001b[0m\u001b[0;34m,\u001b[0m \u001b[0mmax_length\u001b[0m\u001b[0;34m)\u001b[0m\u001b[0;34m)\u001b[0m\u001b[0;34m\u001b[0m\u001b[0;34m\u001b[0m\u001b[0m\n\u001b[0m",
            "\u001b[0;32m<ipython-input-24-ffaba6949948>\u001b[0m in \u001b[0;36mtruncate_text\u001b[0;34m(text, max_length)\u001b[0m\n\u001b[1;32m      9\u001b[0m         \u001b[0mend_index\u001b[0m \u001b[0;34m=\u001b[0m \u001b[0mstart_index\u001b[0m \u001b[0;34m+\u001b[0m \u001b[0mmax_length\u001b[0m\u001b[0;34m\u001b[0m\u001b[0;34m\u001b[0m\u001b[0m\n\u001b[1;32m     10\u001b[0m         \u001b[0;31m# find the nearest word boundary before the end index\u001b[0m\u001b[0;34m\u001b[0m\u001b[0;34m\u001b[0m\u001b[0;34m\u001b[0m\u001b[0m\n\u001b[0;32m---> 11\u001b[0;31m         \u001b[0;32mwhile\u001b[0m \u001b[0mend_index\u001b[0m \u001b[0;34m<\u001b[0m \u001b[0mlen\u001b[0m\u001b[0;34m(\u001b[0m\u001b[0mwords\u001b[0m\u001b[0;34m)\u001b[0m \u001b[0;32mand\u001b[0m \u001b[0;32mnot\u001b[0m \u001b[0mwords\u001b[0m\u001b[0;34m[\u001b[0m\u001b[0mend_index\u001b[0m\u001b[0;34m-\u001b[0m\u001b[0;36m1\u001b[0m\u001b[0;34m]\u001b[0m\u001b[0;34m.\u001b[0m\u001b[0mendswith\u001b[0m\u001b[0;34m(\u001b[0m\u001b[0;34m'.'\u001b[0m\u001b[0;34m)\u001b[0m\u001b[0;34m:\u001b[0m\u001b[0;34m\u001b[0m\u001b[0;34m\u001b[0m\u001b[0m\n\u001b[0m\u001b[1;32m     12\u001b[0m             \u001b[0mend_index\u001b[0m \u001b[0;34m-=\u001b[0m \u001b[0;36m1\u001b[0m\u001b[0;34m\u001b[0m\u001b[0;34m\u001b[0m\u001b[0m\n\u001b[1;32m     13\u001b[0m         \u001b[0;31m# find the nearest word boundary after the start index\u001b[0m\u001b[0;34m\u001b[0m\u001b[0;34m\u001b[0m\u001b[0;34m\u001b[0m\u001b[0m\n",
            "\u001b[0;31mIndexError\u001b[0m: list index out of range"
          ]
        }
      ],
      "source": [
        "# Select the column containing the text data\n",
        "text_column = df['text']\n",
        "\n",
        "# Function to truncate text\n",
        "def truncate_text(text, max_length):\n",
        "    words = text.split()\n",
        "    if len(words) > max_length:\n",
        "        start_index = (len(words) - max_length) // 2\n",
        "        end_index = start_index + max_length\n",
        "        # find the nearest word boundary before the end index\n",
        "        while end_index < len(words) and not words[end_index-1].endswith('.'):\n",
        "            end_index -= 1\n",
        "        # find the nearest word boundary after the start index\n",
        "        while start_index > 0 and not words[start_index].endswith('.'):\n",
        "            start_index += 1\n",
        "        truncated_words = words[start_index:end_index]\n",
        "        truncated_text = ' '.join(truncated_words)\n",
        "        return truncated_text\n",
        "    else:\n",
        "        return text\n",
        "\n",
        "# Define a new variable to truncate the text in each row to max_length words\n",
        "max_length = 50\n",
        "df['truncated_text'] = text_column.apply(lambda x: truncate_text(x, max_length))\n"
      ]
    },
    {
      "cell_type": "markdown",
      "metadata": {
        "id": "HAPVIwQUI2QV"
      },
      "source": [
        "##Length of text columns "
      ]
    },
    {
      "cell_type": "code",
      "execution_count": 25,
      "metadata": {
        "id": "D9qbLA0JsxcF"
      },
      "outputs": [],
      "source": [
        "# This works as intended\n",
        "text_column = df[\"text\"]\n",
        "trunc_text = df['text_minus1']\n",
        "\n",
        "# Split the text in each row into words\n",
        "def split_text(text):\n",
        "    words = text.split()\n",
        "    return len(words)\n",
        "\n",
        "#Applying the function to count the words in both the pre and and post truncated text\n",
        "\n",
        "df[\"word_count\"] = text_column.apply(split_text)\n",
        "df[\"text1_count\"] = trunc_text.apply(split_text)\n"
      ]
    },
    {
      "cell_type": "code",
      "execution_count": 26,
      "metadata": {
        "id": "8LNtQRMeeLnU",
        "colab": {
          "base_uri": "https://localhost:8080/"
        },
        "outputId": "d7432313-750e-41c8-b5dc-1b6e4b19467f"
      },
      "outputs": [
        {
          "output_type": "stream",
          "name": "stdout",
          "text": [
            "count    151724.000000\n",
            "mean         77.097901\n",
            "std           5.668543\n",
            "min          31.000000\n",
            "25%          73.000000\n",
            "50%          77.000000\n",
            "75%          81.000000\n",
            "max         135.000000\n",
            "Name: word_count, dtype: float64\n",
            "count    151724.000000\n",
            "mean         75.097901\n",
            "std           5.668543\n",
            "min          29.000000\n",
            "25%          71.000000\n",
            "50%          75.000000\n",
            "75%          79.000000\n",
            "max         133.000000\n",
            "Name: text1_count, dtype: float64\n"
          ]
        }
      ],
      "source": [
        "#Testing the frequency of words per row \n",
        "\n",
        "print(df[\"word_count\"].describe())\n",
        "print(df[\"text1_count\"].describe())"
      ]
    },
    {
      "cell_type": "code",
      "execution_count": 27,
      "metadata": {
        "id": "d1D6NNxNun4m",
        "colab": {
          "base_uri": "https://localhost:8080/"
        },
        "outputId": "c06a55ab-3381-4dd9-ef03-be531830edd9"
      },
      "outputs": [
        {
          "output_type": "execute_result",
          "data": {
            "text/plain": [
              "Index(['Unnamed: 0', 'text', 'emotion1', 'label', 'emo_word_count',\n",
              "       'text_minus1', 'filtered_text_minus1', 'word_count', 'text1_count'],\n",
              "      dtype='object')"
            ]
          },
          "metadata": {},
          "execution_count": 27
        }
      ],
      "source": [
        "#Let's see what the DataFrame looks like \n",
        "df.columns"
      ]
    },
    {
      "cell_type": "code",
      "execution_count": null,
      "metadata": {
        "id": "SZSun-Hm5-A7"
      },
      "outputs": [],
      "source": [
        "#Plot the histograms of word counts before and after truncation\n",
        "#plt.hist(df[\"word_count\"],bins=50, alpha=0.5, label=\"Before Truncation\")\n",
        "#plt.hist(df[\"truncated_word_count\"],bins=50, alpha=0.5, label=\"After Truncation\")\n",
        "#plt.legend()\n",
        "#plt.show()"
      ]
    },
    {
      "cell_type": "markdown",
      "metadata": {
        "id": "0ZZsG81Q8Uzd"
      },
      "source": [
        "# Splitting into train, validate and test datasets\n",
        "---\n"
      ]
    },
    {
      "cell_type": "code",
      "execution_count": null,
      "metadata": {
        "id": "FT1VWNCOzqDR"
      },
      "outputs": [],
      "source": [
        "df.shape"
      ]
    },
    {
      "cell_type": "code",
      "execution_count": 28,
      "metadata": {
        "id": "VtS3l_rg8Xkm"
      },
      "outputs": [],
      "source": [
        "#This seems to be hte simplest way to do the 3 way training split...\n",
        "#And then this outputs 3 different dataframes... originally 0.6 and 0.8\n",
        "\n",
        "train, validate, test = np.split(df, \n",
        "                       [int(.8*len(df)), int(.9*len(df))])"
      ]
    },
    {
      "cell_type": "code",
      "execution_count": 29,
      "metadata": {
        "id": "bubq_oEq8gj3",
        "colab": {
          "base_uri": "https://localhost:8080/"
        },
        "outputId": "8b073dca-a802-4164-a886-9aaad8993501"
      },
      "outputs": [
        {
          "output_type": "execute_result",
          "data": {
            "text/plain": [
              "(pandas.core.frame.DataFrame,\n",
              " pandas.core.frame.DataFrame,\n",
              " pandas.core.frame.DataFrame)"
            ]
          },
          "metadata": {},
          "execution_count": 29
        }
      ],
      "source": [
        "#Checking to make sure that all three are dataframes... \n",
        "\n",
        "type(train),type(validate),type(test)"
      ]
    },
    {
      "cell_type": "code",
      "execution_count": 30,
      "metadata": {
        "id": "9kIsd4amA6Kc",
        "colab": {
          "base_uri": "https://localhost:8080/"
        },
        "outputId": "3c9841ff-15bb-42e5-976c-10f59b5602cf"
      },
      "outputs": [
        {
          "output_type": "stream",
          "name": "stdout",
          "text": [
            "(121379, 9)\n",
            "(15173, 9)\n",
            "(15172, 9)\n"
          ]
        }
      ],
      "source": [
        "#Let's try to look at the proportion here... \n",
        "\n",
        "print(train.shape)\n",
        "print(test.shape)\n",
        "print(validate.shape)"
      ]
    },
    {
      "cell_type": "markdown",
      "metadata": {
        "id": "tWxTXZIYFGG7"
      },
      "source": [
        "# 6. Preparing the Labels\n",
        "\n",
        "## In terms of sequence, I think this should go right below the dataframe -> List code"
      ]
    },
    {
      "cell_type": "code",
      "execution_count": 31,
      "metadata": {
        "id": "0ZhihM_F_hF7"
      },
      "outputs": [],
      "source": [
        "#Converting the pandas dataframe into a list of labels... \n",
        "#We may consider puting this into a function... \n",
        "\n",
        "trainlabel=train['label'].tolist()\n",
        "vallabel=validate['label'].tolist()\n",
        "testlabel=test['label'].tolist()"
      ]
    },
    {
      "cell_type": "code",
      "execution_count": 32,
      "metadata": {
        "id": "wqUE5EbpFKug",
        "colab": {
          "base_uri": "https://localhost:8080/",
          "height": 285
        },
        "outputId": "4961f037-ee91-4df5-ba5b-8757d715273d"
      },
      "outputs": [
        {
          "output_type": "stream",
          "name": "stdout",
          "text": [
            "{'concern', 'dread', 'calm', 'worry', 'anxiety', 'fear'}\n"
          ]
        },
        {
          "output_type": "display_data",
          "data": {
            "text/plain": [
              "<Figure size 432x288 with 1 Axes>"
            ],
            "image/png": "[encoded data removed]"
          },
          "metadata": {
            "needs_background": "light"
          }
        }
      ],
      "source": [
        "#Convert the labels into a a set(just unique values) and print them...\n",
        "#Labels is a list... \n",
        "\n",
        "classes = set(trainlabel)\n",
        "print(classes)\n",
        "\n",
        "#What is the distribution of emotions in our literature? Histogram...  \n",
        "#Bins 11 -> number of classifiers, with the number of spaces imbetween...\n",
        "\n",
        "plt.hist(trainlabel, bins=11)\n",
        "plt.show()"
      ]
    },
    {
      "cell_type": "code",
      "execution_count": 33,
      "metadata": {
        "id": "tIWRC5sZFne_"
      },
      "outputs": [],
      "source": [
        "#One thing that ***I don't*** like about this way of doing things is that the ordering of the variables is a bit...!?!\n",
        "\n",
        "classes_to_index = dict((c, i) for i, c in enumerate(classes))\n",
        "index_to_classes = dict((v, k) for k, v in classes_to_index.items())"
      ]
    },
    {
      "cell_type": "code",
      "execution_count": 34,
      "metadata": {
        "id": "P1HJWPQrFpb6",
        "colab": {
          "base_uri": "https://localhost:8080/"
        },
        "outputId": "97d714f0-19a6-40b4-b5c1-9666f030994b"
      },
      "outputs": [
        {
          "output_type": "execute_result",
          "data": {
            "text/plain": [
              "{0: 'concern', 1: 'dread', 2: 'calm', 3: 'worry', 4: 'anxiety', 5: 'fear'}"
            ]
          },
          "metadata": {},
          "execution_count": 34
        }
      ],
      "source": [
        "#This is simply a dictionary -> and it becomes an input into an \n",
        "\n",
        "classes_to_index\n",
        "\n",
        "#Dec 12, I'm not sure what this is supposed to be for.. \n",
        "\n",
        "index_to_classes"
      ]
    },
    {
      "cell_type": "code",
      "execution_count": 35,
      "metadata": {
        "id": "6qWycl4CFxNM"
      },
      "outputs": [],
      "source": [
        "#Creating a lambda function...called \"names_to_ids\"\n",
        "\n",
        "names_to_ids = lambda labels: np.array([classes_to_index.get(x) for x in labels])"
      ]
    },
    {
      "cell_type": "code",
      "execution_count": 36,
      "metadata": {
        "id": "cJY-y9VOF1Fc",
        "colab": {
          "base_uri": "https://localhost:8080/"
        },
        "outputId": "5a418c16-0e19-4898-d401-95495903aa86"
      },
      "outputs": [
        {
          "output_type": "stream",
          "name": "stdout",
          "text": [
            "5\n"
          ]
        }
      ],
      "source": [
        "#Applying the names_to_ids functions to the labels\n",
        "\n",
        "train_labels = names_to_ids(trainlabel)\n",
        "val_labels = names_to_ids(vallabel)\n",
        "test_labels = names_to_ids(testlabel)\n",
        "\n",
        "#Testing out the labels...\n",
        "print(train_labels[10])"
      ]
    },
    {
      "cell_type": "markdown",
      "metadata": {
        "id": "BdpFa9wHADEt"
      },
      "source": [
        "# 4. Input Training text and Tokenizing the Tweets\n",
        " \n",
        "\n",
        "See reference [here](https://www.tensorflow.org/api_docs/python/tf/keras/preprocessing/text/Tokenizer)\n"
      ]
    },
    {
      "cell_type": "code",
      "execution_count": 37,
      "metadata": {
        "id": "fXmzPywn--AS"
      },
      "outputs": [],
      "source": [
        "#Converting the different pandas dataframes into a list of text fields...\n",
        "#Choice of variables: truncated_text, text_minus1, 'filtered_text',''filtered_text_minus1'\n",
        "\n",
        "traintext=train['filtered_text_minus1'].tolist()\n",
        "valtext=validate['filtered_text_minus1'].tolist()\n",
        "testtext=test['filtered_text_minus1'].tolist()"
      ]
    },
    {
      "cell_type": "code",
      "execution_count": 38,
      "metadata": {
        "id": "HqdSl1naGEwL",
        "colab": {
          "base_uri": "https://localhost:8080/"
        },
        "outputId": "1ffb6abb-a612-4ee1-d0c2-811c5982beb8"
      },
      "outputs": [
        {
          "output_type": "stream",
          "name": "stdout",
          "text": [
            "121379\n",
            "15172\n",
            "15173\n"
          ]
        },
        {
          "output_type": "execute_result",
          "data": {
            "text/plain": [
              "(None, None, None)"
            ]
          },
          "metadata": {},
          "execution_count": 38
        }
      ],
      "source": [
        "#What's the length of each of these things... \n",
        "\n",
        "print(len(traintext)),print(len(valtext)),print(len(testtext))"
      ]
    },
    {
      "cell_type": "code",
      "execution_count": 39,
      "metadata": {
        "id": "RDwQr0FjAD9n"
      },
      "outputs": [],
      "source": [
        "#Importing the tokenizer...\n",
        "#Input into the tokenizer is a list\n",
        "\n",
        "from tensorflow.keras.preprocessing.text import Tokenizer"
      ]
    },
    {
      "cell_type": "code",
      "execution_count": 40,
      "metadata": {
        "id": "DmrNxvsUAHio"
      },
      "outputs": [],
      "source": [
        "#Input into the tokenizer is a list\n",
        "\n",
        "tokenizer = Tokenizer(num_words=113162, oov_token='<UNK>')\n",
        "\n",
        "#I think that this is the missing piece...I'm not really sure what it does...  \n",
        "\n",
        "tokenizer.fit_on_texts(traintext)\n",
        "#tokenizer.fit_on_texts(valtext)\n",
        "\n",
        "#Testing the tokenization... \n",
        "\n",
        "#print(tokenizer.texts_to_sequences([tweets[10]]))"
      ]
    },
    {
      "cell_type": "markdown",
      "metadata": {
        "id": "EPLJVNZ_AMA4"
      },
      "source": [
        "## 5. Padding and Truncating Sequences\n",
        "\n",
        "See this resource on padding sequence by Keras\n",
        "https://www.tensorflow.org/api_docs/python/tf/keras/utils/pad_sequences"
      ]
    },
    {
      "cell_type": "code",
      "execution_count": 41,
      "metadata": {
        "id": "feqCoDlwARiG"
      },
      "outputs": [],
      "source": [
        "from tensorflow.keras.preprocessing.sequence import pad_sequences"
      ]
    },
    {
      "cell_type": "code",
      "execution_count": 42,
      "metadata": {
        "id": "vvitI3F2ATP0"
      },
      "outputs": [],
      "source": [
        "#Creating a function that tokenizes and pads the sequences...\n",
        "\n",
        "def get_sequences(tokenizer, texts):\n",
        "    sequences = tokenizer.texts_to_sequences(texts)\n",
        "    padded_sequences = pad_sequences(sequences, truncating='post', maxlen=400, padding='post')\n",
        "    return padded_sequences"
      ]
    },
    {
      "cell_type": "code",
      "execution_count": 43,
      "metadata": {
        "id": "IltQHNneAVLj"
      },
      "outputs": [],
      "source": [
        "#Applying the function to tokenize and pad... to all test,validate and test\n",
        "#Syntax: val_sequences = get_sequences(tokenizer, val_tweets)\n",
        "\n",
        "padded_train_sequences = get_sequences(tokenizer, traintext)\n",
        "val_sequence = get_sequences(tokenizer,valtext)\n",
        "test_sequence = get_sequences(tokenizer,testtext)\n"
      ]
    },
    {
      "cell_type": "markdown",
      "metadata": {
        "id": "N1FWFl1uGSeb"
      },
      "source": [
        "# 7. Creating the Model\n",
        "\n",
        "##Description of Hyperparameters \n",
        "\n",
        "\n",
        "1.   Embedding layer: nt in it? Words, X and input length...\n",
        "2.   List item\n"
      ]
    },
    {
      "cell_type": "code",
      "execution_count": 53,
      "metadata": {
        "id": "8UWfWEYAGVgx",
        "colab": {
          "base_uri": "https://localhost:8080/"
        },
        "outputId": "d6ae831e-4415-4d19-fcef-f6ae89d7d473"
      },
      "outputs": [
        {
          "output_type": "stream",
          "name": "stdout",
          "text": [
            "Model: \"sequential_1\"\n",
            "_________________________________________________________________\n",
            " Layer (type)                Output Shape              Param #   \n",
            "=================================================================\n",
            " embedding_1 (Embedding)     (None, 400, 500)          56581000  \n",
            "                                                                 \n",
            " bidirectional_2 (Bidirectio  (None, 400, 400)         1121600   \n",
            " nal)                                                            \n",
            "                                                                 \n",
            " bidirectional_3 (Bidirectio  (None, 400)              961600    \n",
            " nal)                                                            \n",
            "                                                                 \n",
            " dense_1 (Dense)             (None, 6)                 2406      \n",
            "                                                                 \n",
            "=================================================================\n",
            "Total params: 58,666,606\n",
            "Trainable params: 58,666,606\n",
            "Non-trainable params: 0\n",
            "_________________________________________________________________\n"
          ]
        }
      ],
      "source": [
        "#Embedding layer works on number of tokens -> approximately words... \n",
        "#Adding another layer: tf.keras.layers.Bidirectional(tf.keras.layers.LSTM(500, return_sequences=True)),\n",
        "\n",
        "model = tf.keras.models.Sequential([\n",
        "    tf.keras.layers.Embedding(113162, 500, input_length=400),\n",
        "    tf.keras.layers.Bidirectional(tf.keras.layers.LSTM(200, return_sequences=True)),\n",
        "    tf.keras.layers.Bidirectional(tf.keras.layers.LSTM(200)),\n",
        "    tf.keras.layers.Dense(6, activation='softmax')\n",
        "])\n",
        "\n",
        "model.compile(\n",
        "    loss='sparse_categorical_crossentropy',\n",
        "    optimizer='adam',\n",
        "    metrics=['accuracy']\n",
        ")\n",
        "\n",
        "model.summary()"
      ]
    },
    {
      "cell_type": "markdown",
      "metadata": {
        "id": "JYLOSNwZGqqF"
      },
      "source": [
        "\n",
        "\n",
        "\n",
        "\n",
        "\n",
        "\n",
        "\n",
        "\n",
        "\n",
        "\n",
        "\n",
        "\n",
        "\n",
        "\n",
        "\n",
        "\n",
        "\n",
        "\n",
        "\n",
        "\n",
        "\n",
        "\n",
        "\n",
        "\n",
        "\n",
        "\n",
        "\n",
        "\n",
        "\n",
        "\n",
        "\n",
        "\n",
        "\n",
        "\n",
        "\n",
        "\n",
        "## 8. Training the Model"
      ]
    },
    {
      "cell_type": "code",
      "execution_count": 54,
      "metadata": {
        "id": "N6B28KLxGtlT",
        "colab": {
          "base_uri": "https://localhost:8080/"
        },
        "outputId": "8d4cc42f-b021-4af3-e988-edb7e0e439e6"
      },
      "outputs": [
        {
          "output_type": "stream",
          "name": "stdout",
          "text": [
            "Epoch 1/3\n",
            "3794/3794 [==============================] - 486s 126ms/step - loss: 0.9965 - accuracy: 0.6416 - val_loss: 0.6795 - val_accuracy: 0.7576\n",
            "Epoch 2/3\n",
            "3794/3794 [==============================] - 435s 115ms/step - loss: 0.5045 - accuracy: 0.8217 - val_loss: 0.5718 - val_accuracy: 0.7948\n",
            "Epoch 3/3\n",
            "3794/3794 [==============================] - 434s 114ms/step - loss: 0.2789 - accuracy: 0.9044 - val_loss: 0.6337 - val_accuracy: 0.7878\n"
          ]
        }
      ],
      "source": [
        "#Having the callbacks option on means that the model stops once you are like over-generalizing... \n",
        "#Let's leave the callback option on for now...\n",
        "\n",
        "\n",
        "h = model.fit(\n",
        "    padded_train_sequences, train_labels,\n",
        "    validation_data=(val_sequence, val_labels),\n",
        "    epochs=3,\n",
        "    callbacks=[\n",
        "        tf.keras.callbacks.EarlyStopping(monitor='val_accuracy', patience=2)\n",
        "   ]\n",
        ")"
      ]
    },
    {
      "cell_type": "markdown",
      "metadata": {
        "id": "g-5Zxtm3U3kH"
      },
      "source": [
        "#9. Evaluating the model "
      ]
    },
    {
      "cell_type": "code",
      "execution_count": 46,
      "metadata": {
        "id": "obidyH6VU99S",
        "colab": {
          "base_uri": "https://localhost:8080/",
          "height": 392
        },
        "outputId": "5d9f7967-7413-4e11-df3b-442be53f31b1"
      },
      "outputs": [
        {
          "output_type": "display_data",
          "data": {
            "text/plain": [
              "<Figure size 1152x432 with 2 Axes>"
            ],
            "image/png": "[encoded data removed]"
          },
          "metadata": {
            "needs_background": "light"
          }
        }
      ],
      "source": [
        "def show_history(h):\n",
        "    epochs_trained = len(h.history['loss'])\n",
        "    plt.figure(figsize=(16, 6))\n",
        "\n",
        "    plt.subplot(1, 2, 1)\n",
        "    plt.plot(range(0, epochs_trained), h.history.get('accuracy'), label='Training')\n",
        "    plt.plot(range(0, epochs_trained), h.history.get('val_accuracy'), label='Validation')\n",
        "    plt.ylim([0., 1.])\n",
        "    plt.xlabel('Epochs')\n",
        "    plt.ylabel('Accuracy')\n",
        "    plt.legend()\n",
        "\n",
        "    plt.subplot(1, 2, 2)\n",
        "    plt.plot(range(0, epochs_trained), h.history.get('loss'), label='Training')\n",
        "    plt.plot(range(0, epochs_trained), h.history.get('val_loss'), label='Validation')\n",
        "    plt.xlabel('Epochs')\n",
        "    plt.ylabel('Loss')\n",
        "    plt.legend()\n",
        "    plt.show()\n",
        "\n",
        "show_history(h)"
      ]
    },
    {
      "cell_type": "code",
      "execution_count": 56,
      "metadata": {
        "id": "GZz-Z123VBCQ",
        "colab": {
          "base_uri": "https://localhost:8080/"
        },
        "outputId": "4f2cc8d6-a65f-48eb-acfc-0deb2b86794b"
      },
      "outputs": [
        {
          "output_type": "stream",
          "name": "stdout",
          "text": [
            "475/475 [==============================] - 19s 40ms/step - loss: 0.6201 - accuracy: 0.7958\n"
          ]
        }
      ],
      "source": [
        "#Running the model on the test sequence and test labels... \n",
        "\n",
        "eval = model.evaluate(test_sequence, test_labels)"
      ]
    },
    {
      "cell_type": "code",
      "execution_count": 55,
      "metadata": {
        "id": "LEwvckEyVP8Q",
        "colab": {
          "base_uri": "https://localhost:8080/"
        },
        "outputId": "8271d9a2-87fc-46b7-ef12-3da802c2aadf"
      },
      "outputs": [
        {
          "output_type": "stream",
          "name": "stdout",
          "text": [
            "475/475 [==============================] - 20s 37ms/step\n"
          ]
        },
        {
          "output_type": "execute_result",
          "data": {
            "text/plain": [
              "((15173, 6), (15173,))"
            ]
          },
          "metadata": {},
          "execution_count": 55
        }
      ],
      "source": [
        "#preds = model.predict_classes(test_sequence)\n",
        "preds=model.predict(test_sequence) \n",
        "classes_x=np.argmax(preds,axis=1)\n",
        "preds.shape, test_labels.shape"
      ]
    },
    {
      "cell_type": "code",
      "source": [
        "#Creating an inference dataframe \n",
        "\n",
        "inf_df=pd.DataFrame({\n",
        "    'data':testtext,\n",
        "    \"labels_predicted\": classes_x                    \n",
        "})\n",
        "inf_df[\"labels_predicted_marked\"]=inf_df['labels_predicted'].apply(lambda x: index_to_classes[x])\n",
        "inf_df[\"actual_labels\"]=testlabel\n",
        "\n",
        "#Creating the labels index datastructure...\n",
        "\n",
        "inf_df[\"actual_label_index\"]=inf_df['actual_labels'].apply(lambda x: classes_to_index[x])\n",
        "\n",
        "#Checking the data structure\n",
        "\n",
        "#inf_df"
      ],
      "metadata": {
        "id": "qHa7AVRt6Ab7"
      },
      "execution_count": 58,
      "outputs": []
    },
    {
      "cell_type": "code",
      "source": [
        "#Making the correct prediction \n",
        "\n",
        "# marking the corrcet predictions.\n",
        "inf_df['correct_pred']=0 # first assigning all to 0.\n",
        "inf_df.loc[(inf_df['labels_predicted']==inf_df['actual_label_index']),'correct_pred']=1 # labelling 1 if the prediction is right."
      ],
      "metadata": {
        "id": "H2KhO5XV6ag2"
      },
      "execution_count": 59,
      "outputs": []
    },
    {
      "cell_type": "code",
      "source": [
        "# magnitutde of error\n",
        "inf_df['error_magnitude']=abs(inf_df['labels_predicted']-inf_df['actual_label_index'])"
      ],
      "metadata": {
        "id": "qSl-kJOd6ghs"
      },
      "execution_count": 60,
      "outputs": []
    },
    {
      "cell_type": "code",
      "source": [
        "#creating a table of high level prediction scores \n",
        "\n",
        "inf_df1=pd.DataFrame(inf_df['correct_pred'].value_counts()).reset_index()\n",
        "inf_df1"
      ],
      "metadata": {
        "id": "d3wDTxSt6pPz"
      },
      "execution_count": null,
      "outputs": []
    },
    {
      "cell_type": "markdown",
      "source": [
        "##Creating Histogram for Error Magnitude "
      ],
      "metadata": {
        "id": "mhXOBpUJ6zAQ"
      }
    },
    {
      "cell_type": "code",
      "source": [
        "# Count the frequency of each class in the error_magnitude column\n",
        "counts = inf_df['error_magnitude'].value_counts()\n",
        "\n",
        "# Create a histogram with one bar for each class\n",
        "plt.bar(counts.index, counts.values)\n",
        "\n",
        "# Set the title and axis labels\n",
        "plt.suptitle('Histogram of Error Magnitude')\n",
        "plt.xlabel('Magnitude')\n",
        "plt.ylabel('Frequency')"
      ],
      "metadata": {
        "colab": {
          "base_uri": "https://localhost:8080/",
          "height": 325
        },
        "id": "pvSNpPMN6xgP",
        "outputId": "a169f7b6-e8ef-4ae1-94dc-f2339e27db0d"
      },
      "execution_count": 61,
      "outputs": [
        {
          "output_type": "execute_result",
          "data": {
            "text/plain": [
              "Text(0, 0.5, 'Frequency')"
            ]
          },
          "metadata": {},
          "execution_count": 61
        },
        {
          "output_type": "display_data",
          "data": {
            "text/plain": [
              "<Figure size 432x288 with 1 Axes>"
            ],
            "image/png": "[encoded data removed]"
          },
          "metadata": {
            "needs_background": "light"
          }
        }
      ]
    },
    {
      "cell_type": "code",
      "source": [
        "#Filtering error magnitude - if necessary...\n",
        "\n",
        "inf_df[inf_df['error_magnitude']==5].head(10)"
      ],
      "metadata": {
        "id": "nChwgyH568tk"
      },
      "execution_count": null,
      "outputs": []
    },
    {
      "cell_type": "markdown",
      "metadata": {
        "id": "EgjLQKz-VkDI"
      },
      "source": [
        "#Saving the model \n",
        "\n",
        "##Questions: At what point do we save the model...\n",
        "\n",
        "\n",
        "1.   Resolve the character / length piece in looking at the inference dataset...\n",
        "2.   I want the 75% run / run before I save it... \n",
        "\n"
      ]
    },
    {
      "cell_type": "code",
      "execution_count": 52,
      "metadata": {
        "id": "DBwsFHQpVl5c",
        "colab": {
          "base_uri": "https://localhost:8080/"
        },
        "outputId": "23e69f1e-597a-404d-8575-f5da3b12e9b3"
      },
      "outputs": [
        {
          "output_type": "stream",
          "name": "stderr",
          "text": [
            "WARNING:absl:Found untraced functions such as lstm_cell_1_layer_call_fn, lstm_cell_1_layer_call_and_return_conditional_losses, lstm_cell_2_layer_call_fn, lstm_cell_2_layer_call_and_return_conditional_losses, lstm_cell_4_layer_call_fn while saving (showing 5 of 8). These functions will not be directly callable after loading.\n"
          ]
        }
      ],
      "source": [
        "#So this works but we need to make sure that we install Keras as a dependency \n",
        "\n",
        "from keras.models import load_model\n",
        "\n",
        "model.save('/content/drive/MyDrive/Sean/Emoclass_Dec2022/Model_Fear_78acc_Feb17b,2022')"
      ]
    }
  ],
  "metadata": {
    "accelerator": "GPU",
    "colab": {
      "provenance": [],
      "include_colab_link": true
    },
    "gpuClass": "standard",
    "kernelspec": {
      "display_name": "Python 3 (ipykernel)",
      "language": "python",
      "name": "python3"
    },
    "language_info": {
      "codemirror_mode": {
        "name": "ipython",
        "version": 3
      },
      "file_extension": ".py",
      "mimetype": "text/x-python",
      "name": "python",
      "nbconvert_exporter": "python",
      "pygments_lexer": "ipython3",
      "version": "3.9.12"
    }
  },
  "nbformat": 4,
  "nbformat_minor": 0
}