{
  "cells": [
    {
      "cell_type": "markdown",
      "metadata": {
        "id": "view-in-github",
        "colab_type": "text"
      },
      "source": [
        "<a href=\"https://colab.research.google.com/github/Approach-Analytics/Emotion-Classifier/blob/main/Fear_Train_Refactor_RNN_Jan4%2C2023.ipynb\" target=\"_parent\"><img src=\"https://colab.research.google.com/assets/colab-badge.svg\" alt=\"Open In Colab\"/></a>"
      ]
    },
    {
      "cell_type": "markdown",
      "metadata": {
        "id": "9tixBc_S1GRe"
      },
      "source": [
        "#Refactoring the code for RNN training \n",
        "\n",
        "##Want as few training steps as possible...\n",
        "\n",
        "##Source of [codebook](https://katoch.medium.com/twitter-emotion-recognition-using-rnn-d3cd59862957)\n",
        "\n",
        "Data source: \n",
        "\n",
        "df=pd.read_csv(\"/content/drive/MyDrive/Sean/Emoclass_Dec2022/Fear_arousal/Emotion datasets/fear_arousal_first2000books_w400.csv\")\n",
        "\n",
        "Shape: (151724, 4)\n",
        "\n",
        "#To do: \n",
        "\n",
        "\n",
        "1.  Adding column modifications...!?\n",
        "2.   List item\n",
        "\n"
      ]
    },
    {
      "cell_type": "code",
      "execution_count": 50,
      "metadata": {
        "colab": {
          "base_uri": "https://localhost:8080/"
        },
        "id": "vE1Ijd8o06uz",
        "outputId": "e05c996d-04a7-4b86-aad2-5fbbcf5b7905"
      },
      "outputs": [
        {
          "output_type": "stream",
          "name": "stdout",
          "text": [
            "Looking in indexes: https://pypi.org/simple, https://us-python.pkg.dev/colab-wheels/public/simple/\n",
            "Requirement already satisfied: nlp in /usr/local/lib/python3.8/dist-packages (0.4.0)\n",
            "Requirement already satisfied: requests>=2.19.0 in /usr/local/lib/python3.8/dist-packages (from nlp) (2.25.1)\n",
            "Requirement already satisfied: filelock in /usr/local/lib/python3.8/dist-packages (from nlp) (3.9.0)\n",
            "Requirement already satisfied: pyarrow>=0.16.0 in /usr/local/lib/python3.8/dist-packages (from nlp) (9.0.0)\n",
            "Requirement already satisfied: tqdm>=4.27 in /usr/local/lib/python3.8/dist-packages (from nlp) (4.64.1)\n",
            "Requirement already satisfied: numpy in /usr/local/lib/python3.8/dist-packages (from nlp) (1.21.6)\n",
            "Requirement already satisfied: xxhash in /usr/local/lib/python3.8/dist-packages (from nlp) (3.2.0)\n",
            "Requirement already satisfied: dill in /usr/local/lib/python3.8/dist-packages (from nlp) (0.3.6)\n",
            "Requirement already satisfied: pandas in /usr/local/lib/python3.8/dist-packages (from nlp) (1.3.5)\n",
            "Requirement already satisfied: idna<3,>=2.5 in /usr/local/lib/python3.8/dist-packages (from requests>=2.19.0->nlp) (2.10)\n",
            "Requirement already satisfied: certifi>=2017.4.17 in /usr/local/lib/python3.8/dist-packages (from requests>=2.19.0->nlp) (2022.12.7)\n",
            "Requirement already satisfied: urllib3<1.27,>=1.21.1 in /usr/local/lib/python3.8/dist-packages (from requests>=2.19.0->nlp) (1.24.3)\n",
            "Requirement already satisfied: chardet<5,>=3.0.2 in /usr/local/lib/python3.8/dist-packages (from requests>=2.19.0->nlp) (4.0.0)\n",
            "Requirement already satisfied: python-dateutil>=2.7.3 in /usr/local/lib/python3.8/dist-packages (from pandas->nlp) (2.8.2)\n",
            "Requirement already satisfied: pytz>=2017.3 in /usr/local/lib/python3.8/dist-packages (from pandas->nlp) (2022.7.1)\n",
            "Requirement already satisfied: six>=1.5 in /usr/local/lib/python3.8/dist-packages (from python-dateutil>=2.7.3->pandas->nlp) (1.15.0)\n"
          ]
        }
      ],
      "source": [
        "#Need pip install tensorflow with...Jupyter Notebook\n",
        "\n",
        "!pip install nlp\n",
        "#!pip install tensorflow"
      ]
    },
    {
      "cell_type": "code",
      "execution_count": 51,
      "metadata": {
        "id": "lG1RPDrQ1rf3"
      },
      "outputs": [],
      "source": [
        "%matplotlib inline\n",
        "\n",
        "import tensorflow as tf\n",
        "from tensorflow import keras\n",
        "import numpy as np\n",
        "import matplotlib.pyplot as plt\n",
        "import random\n",
        "import pandas as pd\n"
      ]
    },
    {
      "cell_type": "code",
      "execution_count": 52,
      "metadata": {
        "id": "eE0V3of61sIH"
      },
      "outputs": [],
      "source": [
        "#Dec 7, 2022: Not sure what this piece of code is used for... \n",
        "\n",
        "import warnings\n",
        "warnings.filterwarnings('ignore')"
      ]
    },
    {
      "cell_type": "markdown",
      "metadata": {
        "id": "L8_S3LY11v6H"
      },
      "source": [
        "##Importing the dataset.. "
      ]
    },
    {
      "cell_type": "code",
      "execution_count": 53,
      "metadata": {
        "colab": {
          "base_uri": "https://localhost:8080/"
        },
        "id": "FioSZTOm1t9M",
        "outputId": "6747225c-2d97-4428-f0ab-da4ef8847a05"
      },
      "outputs": [
        {
          "output_type": "stream",
          "name": "stdout",
          "text": [
            "Drive already mounted at /content/drive; to attempt to forcibly remount, call drive.mount(\"/content/drive\", force_remount=True).\n"
          ]
        }
      ],
      "source": [
        "# Load the Drive helper and mount\n",
        "\n",
        "from google.colab import drive\n",
        "drive.mount('/content/drive')"
      ]
    },
    {
      "cell_type": "code",
      "execution_count": 54,
      "metadata": {
        "id": "iAxdCs1hSvfv"
      },
      "outputs": [],
      "source": [
        "#Load dataset for the \n",
        "\n",
        "#/content/drive/MyDrive/Sean/Emoclass_Dec2022/Fear_arousal/Emotion datasets/fear_arousal_first2000books_w400.csv\n",
        "\n",
        "df=pd.read_csv(\"/content/drive/MyDrive/Sean/Emoclass_Dec2022/Fear_arousal/Emotion datasets/fear_arousal_first2000books_w400.csv\")"
      ]
    },
    {
      "cell_type": "code",
      "execution_count": 55,
      "metadata": {
        "colab": {
          "base_uri": "https://localhost:8080/",
          "height": 223
        },
        "id": "wHLrvCre15Ut",
        "outputId": "3967ef82-b500-442e-9f8b-a304338cca77"
      },
      "outputs": [
        {
          "output_type": "stream",
          "name": "stdout",
          "text": [
            "(151724, 4)\n"
          ]
        },
        {
          "output_type": "execute_result",
          "data": {
            "text/plain": [
              "   Unnamed: 0                                               text emotion1  \\\n",
              "0           0  of a safe next instant the street was empty ba...    panic   \n",
              "1           1  aw now horn and pelt our peoples melt in cover...    dread   \n",
              "2           2   an unwatched flame brightened for a moment an...    dread   \n",
              "3           3   sign turn thee from thy morning mist or twili...    dread   \n",
              "4           4  nted hathi oh but my tusks were red at bhurtpo...   horror   \n",
              "\n",
              "  emotion2  \n",
              "0    dread  \n",
              "1    dread  \n",
              "2    dread  \n",
              "3    dread  \n",
              "4    dread  "
            ],
            "text/html": [
              "\n",
              "  <div id=\"df-543ab630-818d-4d85-b899-472985b79aa2\">\n",
              "    <div class=\"colab-df-container\">\n",
              "      <div>\n",
              "<style scoped>\n",
              "    .dataframe tbody tr th:only-of-type {\n",
              "        vertical-align: middle;\n",
              "    }\n",
              "\n",
              "    .dataframe tbody tr th {\n",
              "        vertical-align: top;\n",
              "    }\n",
              "\n",
              "    .dataframe thead th {\n",
              "        text-align: right;\n",
              "    }\n",
              "</style>\n",
              "<table border=\"1\" class=\"dataframe\">\n",
              "  <thead>\n",
              "    <tr style=\"text-align: right;\">\n",
              "      <th></th>\n",
              "      <th>Unnamed: 0</th>\n",
              "      <th>text</th>\n",
              "      <th>emotion1</th>\n",
              "      <th>emotion2</th>\n",
              "    </tr>\n",
              "  </thead>\n",
              "  <tbody>\n",
              "    <tr>\n",
              "      <th>0</th>\n",
              "      <td>0</td>\n",
              "      <td>of a safe next instant the street was empty ba...</td>\n",
              "      <td>panic</td>\n",
              "      <td>dread</td>\n",
              "    </tr>\n",
              "    <tr>\n",
              "      <th>1</th>\n",
              "      <td>1</td>\n",
              "      <td>aw now horn and pelt our peoples melt in cover...</td>\n",
              "      <td>dread</td>\n",
              "      <td>dread</td>\n",
              "    </tr>\n",
              "    <tr>\n",
              "      <th>2</th>\n",
              "      <td>2</td>\n",
              "      <td>an unwatched flame brightened for a moment an...</td>\n",
              "      <td>dread</td>\n",
              "      <td>dread</td>\n",
              "    </tr>\n",
              "    <tr>\n",
              "      <th>3</th>\n",
              "      <td>3</td>\n",
              "      <td>sign turn thee from thy morning mist or twili...</td>\n",
              "      <td>dread</td>\n",
              "      <td>dread</td>\n",
              "    </tr>\n",
              "    <tr>\n",
              "      <th>4</th>\n",
              "      <td>4</td>\n",
              "      <td>nted hathi oh but my tusks were red at bhurtpo...</td>\n",
              "      <td>horror</td>\n",
              "      <td>dread</td>\n",
              "    </tr>\n",
              "  </tbody>\n",
              "</table>\n",
              "</div>\n",
              "      <button class=\"colab-df-convert\" onclick=\"convertToInteractive('df-543ab630-818d-4d85-b899-472985b79aa2')\"\n",
              "              title=\"Convert this dataframe to an interactive table.\"\n",
              "              style=\"display:none;\">\n",
              "        \n",
              "  <svg xmlns=\"http://www.w3.org/2000/svg\" height=\"24px\"viewBox=\"0 0 24 24\"\n",
              "       width=\"24px\">\n",
              "    <path d=\"M0 0h24v24H0V0z\" fill=\"none\"/>\n",
              "    <path d=\"M18.56 5.44l.94 2.06.94-2.06 2.06-.94-2.06-.94-.94-2.06-.94 2.06-2.06.94zm-11 1L8.5 8.5l.94-2.06 2.06-.94-2.06-.94L8.5 2.5l-.94 2.06-2.06.94zm10 10l.94 2.06.94-2.06 2.06-.94-2.06-.94-.94-2.06-.94 2.06-2.06.94z\"/><path d=\"M17.41 7.96l-1.37-1.37c-.4-.4-.92-.59-1.43-.59-.52 0-1.04.2-1.43.59L10.3 9.45l-7.72 7.72c-.78.78-.78 2.05 0 2.83L4 21.41c.39.39.9.59 1.41.59.51 0 1.02-.2 1.41-.59l7.78-7.78 2.81-2.81c.8-.78.8-2.07 0-2.86zM5.41 20L4 18.59l7.72-7.72 1.47 1.35L5.41 20z\"/>\n",
              "  </svg>\n",
              "      </button>\n",
              "      \n",
              "  <style>\n",
              "    .colab-df-container {\n",
              "      display:flex;\n",
              "      flex-wrap:wrap;\n",
              "      gap: 12px;\n",
              "    }\n",
              "\n",
              "    .colab-df-convert {\n",
              "      background-color: #E8F0FE;\n",
              "      border: none;\n",
              "      border-radius: 50%;\n",
              "      cursor: pointer;\n",
              "      display: none;\n",
              "      fill: #1967D2;\n",
              "      height: 32px;\n",
              "      padding: 0 0 0 0;\n",
              "      width: 32px;\n",
              "    }\n",
              "\n",
              "    .colab-df-convert:hover {\n",
              "      background-color: #E2EBFA;\n",
              "      box-shadow: 0px 1px 2px rgba(60, 64, 67, 0.3), 0px 1px 3px 1px rgba(60, 64, 67, 0.15);\n",
              "      fill: #174EA6;\n",
              "    }\n",
              "\n",
              "    [theme=dark] .colab-df-convert {\n",
              "      background-color: #3B4455;\n",
              "      fill: #D2E3FC;\n",
              "    }\n",
              "\n",
              "    [theme=dark] .colab-df-convert:hover {\n",
              "      background-color: #434B5C;\n",
              "      box-shadow: 0px 1px 3px 1px rgba(0, 0, 0, 0.15);\n",
              "      filter: drop-shadow(0px 1px 2px rgba(0, 0, 0, 0.3));\n",
              "      fill: #FFFFFF;\n",
              "    }\n",
              "  </style>\n",
              "\n",
              "      <script>\n",
              "        const buttonEl =\n",
              "          document.querySelector('#df-543ab630-818d-4d85-b899-472985b79aa2 button.colab-df-convert');\n",
              "        buttonEl.style.display =\n",
              "          google.colab.kernel.accessAllowed ? 'block' : 'none';\n",
              "\n",
              "        async function convertToInteractive(key) {\n",
              "          const element = document.querySelector('#df-543ab630-818d-4d85-b899-472985b79aa2');\n",
              "          const dataTable =\n",
              "            await google.colab.kernel.invokeFunction('convertToInteractive',\n",
              "                                                     [key], {});\n",
              "          if (!dataTable) return;\n",
              "\n",
              "          const docLinkHtml = 'Like what you see? Visit the ' +\n",
              "            '<a target=\"_blank\" href=https://colab.research.google.com/notebooks/data_table.ipynb>data table notebook</a>'\n",
              "            + ' to learn more about interactive tables.';\n",
              "          element.innerHTML = '';\n",
              "          dataTable['output_type'] = 'display_data';\n",
              "          await google.colab.output.renderOutput(dataTable, element);\n",
              "          const docLink = document.createElement('div');\n",
              "          docLink.innerHTML = docLinkHtml;\n",
              "          element.appendChild(docLink);\n",
              "        }\n",
              "      </script>\n",
              "    </div>\n",
              "  </div>\n",
              "  "
            ]
          },
          "metadata": {},
          "execution_count": 55
        }
      ],
      "source": [
        "print(df.shape)\n",
        "df.head(5)"
      ]
    },
    {
      "cell_type": "code",
      "execution_count": 56,
      "metadata": {
        "id": "JiJYmZdS17cT",
        "colab": {
          "base_uri": "https://localhost:8080/"
        },
        "outputId": "517af0ef-7ef7-4d54-8eab-27f7aeb9e582"
      },
      "outputs": [
        {
          "output_type": "stream",
          "name": "stdout",
          "text": [
            "fear           35438\n",
            "afraid         19448\n",
            "anxious        10561\n",
            "calm            9192\n",
            "concerning      8439\n",
            "anxiety         7629\n",
            "frightened      7498\n",
            "horror          7451\n",
            "concerned       7416\n",
            "dread           6722\n",
            "fearful         5134\n",
            "concern         4422\n",
            "peaceful        4043\n",
            "worry           3604\n",
            "fright          3286\n",
            "worried         2691\n",
            "serene          2640\n",
            "panic           2582\n",
            "horrified       1697\n",
            "frightening     1035\n",
            "worrying         784\n",
            "angst             12\n",
            "Name: emotion1, dtype: int64\n",
            "fear       71839\n",
            "concern    20277\n",
            "dread      18452\n",
            "anxiety    18202\n",
            "calm       15875\n",
            "worry       7079\n",
            "Name: emotion2, dtype: int64\n"
          ]
        }
      ],
      "source": [
        "#What emotion categories do we have? \n",
        "\n",
        "print(df['emotion1'].value_counts())\n",
        "\n",
        "print(df['emotion2'].value_counts())"
      ]
    },
    {
      "cell_type": "code",
      "execution_count": 57,
      "metadata": {
        "id": "beTlBPtm2I7J"
      },
      "outputs": [],
      "source": [
        "#Relabelling a column... if needed... \n",
        "\n",
        "df.rename(columns={\"emotion2\": \"label\"},inplace =True)"
      ]
    },
    {
      "cell_type": "code",
      "execution_count": 58,
      "metadata": {
        "colab": {
          "base_uri": "https://localhost:8080/"
        },
        "id": "yVBV-5YC2L6X",
        "outputId": "e4a6f57f-d863-40a7-9c08-935fd50d7c3b"
      },
      "outputs": [
        {
          "output_type": "execute_result",
          "data": {
            "text/plain": [
              "Unnamed: 0    0\n",
              "text          0\n",
              "emotion1      0\n",
              "label         0\n",
              "dtype: int64"
            ]
          },
          "metadata": {},
          "execution_count": 58
        }
      ],
      "source": [
        "#Let's see if we have missing values...No missing values... \n",
        "\n",
        "df.isna().sum()"
      ]
    },
    {
      "cell_type": "markdown",
      "metadata": {
        "id": "qY34VTlw2wkw"
      },
      "source": [
        "#Replacing the emotion words in the dataset.. "
      ]
    },
    {
      "cell_type": "code",
      "execution_count": 59,
      "metadata": {
        "id": "kIVlQ2eR2Lq9"
      },
      "outputs": [],
      "source": [
        "#Generate all the unique emotion words that then get replaced... \n",
        "\n",
        "a = df['emotion1'].unique().tolist()\n",
        "\n",
        "#The list a is our list of variable responses from the dataset... \n",
        "keyword = \"emotions\"\n",
        "words = a\n",
        "for j in words: \n",
        "  df['text'] = df['text'].str.replace(j,keyword)"
      ]
    },
    {
      "cell_type": "code",
      "source": [
        "#Let's count the frequency of teh emotion words... \n",
        "\n",
        "text_column = df[\"text\"]\n",
        "\n",
        "#Define the word to count \n",
        "\n",
        "word_counts = text_column.str.count(keyword)\n",
        "\n",
        "#Apply the variable back to the dataframe\n",
        "\n",
        "df[\"emo_word_count\"] = word_counts                                "
      ],
      "metadata": {
        "id": "GSMzK8isl8Qh"
      },
      "execution_count": 60,
      "outputs": []
    },
    {
      "cell_type": "code",
      "source": [
        "#Let's look at the value counts of this thing\n",
        "\n",
        "df[\"emo_word_count\"].value_counts()"
      ],
      "metadata": {
        "colab": {
          "base_uri": "https://localhost:8080/"
        },
        "id": "vwmZuscDnXtS",
        "outputId": "c2a34fb5-3fa3-41a8-fcfa-2669497e81d2"
      },
      "execution_count": 61,
      "outputs": [
        {
          "output_type": "execute_result",
          "data": {
            "text/plain": [
              "1     98996\n",
              "2     23512\n",
              "4      8555\n",
              "5      7464\n",
              "3      5707\n",
              "6      2509\n",
              "10      832\n",
              "11      830\n",
              "7       805\n",
              "12      617\n",
              "13      529\n",
              "9       399\n",
              "8       377\n",
              "14      204\n",
              "15      170\n",
              "16       79\n",
              "17       44\n",
              "18       33\n",
              "19       24\n",
              "21       15\n",
              "20       13\n",
              "22        6\n",
              "23        2\n",
              "25        1\n",
              "28        1\n",
              "Name: emo_word_count, dtype: int64"
            ]
          },
          "metadata": {},
          "execution_count": 61
        }
      ]
    },
    {
      "cell_type": "code",
      "execution_count": 62,
      "metadata": {
        "id": "BQW7llsR2L2_"
      },
      "outputs": [],
      "source": [
        "#Shuffling the dataset\n",
        "\n",
        "df = df.sample(frac=1)"
      ]
    },
    {
      "cell_type": "markdown",
      "metadata": {
        "id": "VCS_938f3Q-7"
      },
      "source": [
        "#Experimenting with truncating string length from both sides... \n",
        "\n",
        "##This section needs work\n",
        "\n",
        "##Splitting string without word gap  [link here](https://stackoverflow.com/questions/250357/truncate-a-string-without-ending-in-the-middle-of-a-word)\n",
        "\n"
      ]
    },
    {
      "cell_type": "code",
      "source": [
        "# Select the column containing the text data\n",
        "text_column = df[\"text\"]\n",
        "\n",
        "# Function to truncate text\n",
        "def truncate_text(text, max_length):\n",
        "    words = text.split()\n",
        "    if len(words) > max_length:\n",
        "        start_index = (len(words) - max_length) // 2\n",
        "        end_index = start_index + max_length\n",
        "        truncated_words = words[start_index:end_index]\n",
        "        truncated_text = \" \".join(truncated_words)\n",
        "        return truncated_text\n",
        "    else:\n",
        "        return text\n",
        "\n",
        "# Truncate the text in each row to max_length words\n",
        "max_length = 75\n",
        "df[\"truncated_text\"] = text_column.apply(lambda x: truncate_text(x, max_length))\n"
      ],
      "metadata": {
        "id": "-chBn3IOqY1j"
      },
      "execution_count": 63,
      "outputs": []
    },
    {
      "cell_type": "code",
      "source": [
        "# Select the column containing the text data\n",
        "text_column = df[\"text\"]\n",
        "trunc_text = df['truncated_text']\n",
        "\n",
        "# Split the text in each row into words\n",
        "def split_text(text):\n",
        "    words = text.split()\n",
        "    return len(words)\n",
        "\n",
        "\n",
        "#Applying the function to count two both the pre and and post truncated text\n",
        "\n",
        "df[\"word_count\"] = text_column.apply(split_text)\n",
        "df[\"truncated_word_count\"] = trunc_text.apply(split_text)\n"
      ],
      "metadata": {
        "id": "D9qbLA0JsxcF"
      },
      "execution_count": 64,
      "outputs": []
    },
    {
      "cell_type": "code",
      "source": [
        "#Let's see what the DataFrame looks like \n",
        "df.columns"
      ],
      "metadata": {
        "colab": {
          "base_uri": "https://localhost:8080/"
        },
        "id": "d1D6NNxNun4m",
        "outputId": "12f25d80-eb38-4f94-d98b-a8e08a09a17f"
      },
      "execution_count": 65,
      "outputs": [
        {
          "output_type": "execute_result",
          "data": {
            "text/plain": [
              "Index(['Unnamed: 0', 'text', 'emotion1', 'label', 'emo_word_count',\n",
              "       'truncated_text', 'word_count', 'truncated_word_count'],\n",
              "      dtype='object')"
            ]
          },
          "metadata": {},
          "execution_count": 65
        }
      ]
    },
    {
      "cell_type": "code",
      "execution_count": 66,
      "metadata": {
        "id": "SZSun-Hm5-A7",
        "colab": {
          "base_uri": "https://localhost:8080/",
          "height": 265
        },
        "outputId": "15e6f6b0-b4a0-44ba-b10f-105bce08a8e0"
      },
      "outputs": [
        {
          "output_type": "display_data",
          "data": {
            "text/plain": [
              "<Figure size 432x288 with 1 Axes>"
            ],
            "image/png": "[encoded data removed]"
          },
          "metadata": {
            "needs_background": "light"
          }
        }
      ],
      "source": [
        "\n",
        "#Plot the histograms of word counts before and after truncation\n",
        "plt.hist(df[\"word_count\"],bins=50, alpha=0.5, label=\"Before Truncation\")\n",
        "plt.hist(df[\"truncated_word_count\"],bins=50, alpha=0.5, label=\"After Truncation\")\n",
        "plt.legend()\n",
        "plt.show()"
      ]
    },
    {
      "cell_type": "markdown",
      "metadata": {
        "id": "0ZZsG81Q8Uzd"
      },
      "source": [
        "# Splitting dataset into train, validate and test datasets\n",
        "---\n",
        "\n",
        "Dec 12: May want to split dataset in half again...to see impact of sample size on training...hypothesis: more data will increase accuracy...with RNN...."
      ]
    },
    {
      "cell_type": "code",
      "execution_count": 67,
      "metadata": {
        "id": "VtS3l_rg8Xkm"
      },
      "outputs": [],
      "source": [
        "#This seems to be hte simplest way to do the 3 way training split...\n",
        "#And then this outputs 3 different dataframes... \n",
        "\n",
        "train, validate, test = np.split(df, \n",
        "                       [int(.6*len(df)), int(.8*len(df))])"
      ]
    },
    {
      "cell_type": "code",
      "execution_count": 68,
      "metadata": {
        "id": "bubq_oEq8gj3",
        "colab": {
          "base_uri": "https://localhost:8080/"
        },
        "outputId": "a776aa56-6659-4809-9c76-abf4f302ce48"
      },
      "outputs": [
        {
          "output_type": "execute_result",
          "data": {
            "text/plain": [
              "(pandas.core.frame.DataFrame,\n",
              " pandas.core.frame.DataFrame,\n",
              " pandas.core.frame.DataFrame)"
            ]
          },
          "metadata": {},
          "execution_count": 68
        }
      ],
      "source": [
        "#Checking to make sure that all three are dataframes... \n",
        "\n",
        "type(train),type(validate),type(test)"
      ]
    },
    {
      "cell_type": "code",
      "execution_count": 69,
      "metadata": {
        "id": "9kIsd4amA6Kc",
        "colab": {
          "base_uri": "https://localhost:8080/"
        },
        "outputId": "0103bfb3-becc-4126-cb66-73715025be85"
      },
      "outputs": [
        {
          "output_type": "stream",
          "name": "stdout",
          "text": [
            "(91034, 8)\n"
          ]
        }
      ],
      "source": [
        "#Looking at the dataframe...\n",
        "\n",
        "train.head()\n",
        "print(train.shape)"
      ]
    },
    {
      "cell_type": "markdown",
      "metadata": {
        "id": "tWxTXZIYFGG7"
      },
      "source": [
        "# 6. Preparing the Labels\n",
        "\n",
        "## In terms of sequence, I think this should go right below the dataframe -> List code"
      ]
    },
    {
      "cell_type": "code",
      "execution_count": 70,
      "metadata": {
        "id": "0ZhihM_F_hF7"
      },
      "outputs": [],
      "source": [
        "#Converting the pandas dataframe into a list of labels... \n",
        "#We may consider puting this into a function... \n",
        "\n",
        "trainlabel=train['label'].tolist()\n",
        "vallabel=validate['label'].tolist()\n",
        "testlabel=test['label'].tolist()"
      ]
    },
    {
      "cell_type": "code",
      "execution_count": 71,
      "metadata": {
        "id": "wqUE5EbpFKug",
        "colab": {
          "base_uri": "https://localhost:8080/",
          "height": 282
        },
        "outputId": "9b306825-d57a-494a-8ddf-db88c4e188ba"
      },
      "outputs": [
        {
          "output_type": "stream",
          "name": "stdout",
          "text": [
            "{'concern', 'fear', 'dread', 'calm', 'anxiety', 'worry'}\n"
          ]
        },
        {
          "output_type": "display_data",
          "data": {
            "text/plain": [
              "<Figure size 432x288 with 1 Axes>"
            ],
            "image/png": "[encoded data removed]"
          },
          "metadata": {
            "needs_background": "light"
          }
        }
      ],
      "source": [
        "#Convert the labels into a a set(just unique values) and print them...\n",
        "#Labels is a list... \n",
        "\n",
        "classes = set(trainlabel)\n",
        "print(classes)\n",
        "\n",
        "#What is the distribution of emotions in our literature? Histogram...  \n",
        "#Bins 11 -> number of classifiers, with the number of spaces imbetween...\n",
        "\n",
        "plt.hist(trainlabel, bins=11)\n",
        "plt.show()"
      ]
    },
    {
      "cell_type": "code",
      "execution_count": 72,
      "metadata": {
        "id": "tIWRC5sZFne_"
      },
      "outputs": [],
      "source": [
        "#One thing that ***I don't*** like about this way of doing things is that the ordering of the variables is a bit...!?!\n",
        "\n",
        "classes_to_index = dict((c, i) for i, c in enumerate(classes))\n",
        "index_to_classes = dict((v, k) for k, v in classes_to_index.items())"
      ]
    },
    {
      "cell_type": "code",
      "execution_count": 73,
      "metadata": {
        "id": "P1HJWPQrFpb6",
        "colab": {
          "base_uri": "https://localhost:8080/"
        },
        "outputId": "4c35de13-79e2-4d5a-a8ce-259edbbea224"
      },
      "outputs": [
        {
          "output_type": "execute_result",
          "data": {
            "text/plain": [
              "{0: 'concern', 1: 'fear', 2: 'dread', 3: 'calm', 4: 'anxiety', 5: 'worry'}"
            ]
          },
          "metadata": {},
          "execution_count": 73
        }
      ],
      "source": [
        "#This is simply a dictionary -> and it becomes an input into an \n",
        "\n",
        "classes_to_index\n",
        "\n",
        "#Dec 12, I'm not sure what this is supposed to be for.. \n",
        "\n",
        "index_to_classes"
      ]
    },
    {
      "cell_type": "code",
      "execution_count": 74,
      "metadata": {
        "id": "6qWycl4CFxNM"
      },
      "outputs": [],
      "source": [
        "#Creating a lambda function...called \"names_to_ids\"\n",
        "\n",
        "names_to_ids = lambda labels: np.array([classes_to_index.get(x) for x in labels])"
      ]
    },
    {
      "cell_type": "code",
      "execution_count": 75,
      "metadata": {
        "id": "cJY-y9VOF1Fc",
        "colab": {
          "base_uri": "https://localhost:8080/"
        },
        "outputId": "57cbbcbd-4d66-4592-b7fe-cc80f54b701c"
      },
      "outputs": [
        {
          "output_type": "stream",
          "name": "stdout",
          "text": [
            "0\n"
          ]
        }
      ],
      "source": [
        "#Applying the names_to_ids functions to the labels\n",
        "\n",
        "train_labels = names_to_ids(trainlabel)\n",
        "val_labels = names_to_ids(vallabel)\n",
        "test_labels = names_to_ids(testlabel)\n",
        "\n",
        "#Testing out the labels...\n",
        "print(train_labels[10])"
      ]
    },
    {
      "cell_type": "code",
      "execution_count": 76,
      "metadata": {
        "id": "atCwPDd6EMTN"
      },
      "outputs": [],
      "source": [
        "#Dec 13, 2022 - I am getting an error because my x and y are not matching...\n",
        "#train_labels is an ndarray -> 99789... \n",
        "#val_labels is: 33253\n",
        "\n",
        "#val_labels\n"
      ]
    },
    {
      "cell_type": "markdown",
      "metadata": {
        "id": "BdpFa9wHADEt"
      },
      "source": [
        "# 4. Tokenizing the Tweets\n",
        "\n",
        "## I don't know what \"fit on texts\" is supposed to do... \n",
        "\n",
        "See reference [here](https://www.tensorflow.org/api_docs/python/tf/keras/preprocessing/text/Tokenizer)\n"
      ]
    },
    {
      "cell_type": "code",
      "execution_count": 77,
      "metadata": {
        "id": "fXmzPywn--AS"
      },
      "outputs": [],
      "source": [
        "#Converting the different pandas dataframes into a list of text fields...\n",
        "#The field: truncated_text\n",
        "\n",
        "traintext=train['truncated_text'].tolist()\n",
        "valtext=validate['truncated_text'].tolist()\n",
        "testtext=test['truncated_text'].tolist()"
      ]
    },
    {
      "cell_type": "code",
      "execution_count": 78,
      "metadata": {
        "id": "HqdSl1naGEwL",
        "colab": {
          "base_uri": "https://localhost:8080/"
        },
        "outputId": "f24d7ad6-07ae-4c49-a7f7-a44ca4d793cb"
      },
      "outputs": [
        {
          "output_type": "stream",
          "name": "stdout",
          "text": [
            "91034\n",
            "30345\n",
            "30345\n"
          ]
        },
        {
          "output_type": "execute_result",
          "data": {
            "text/plain": [
              "(None, None, None)"
            ]
          },
          "metadata": {},
          "execution_count": 78
        }
      ],
      "source": [
        "#What's the length of each of these things... \n",
        "\n",
        "print(len(traintext)),print(len(valtext)),print(len(testtext))"
      ]
    },
    {
      "cell_type": "code",
      "execution_count": 79,
      "metadata": {
        "id": "RDwQr0FjAD9n"
      },
      "outputs": [],
      "source": [
        "#Importing the tokenizer...\n",
        "#Input into the tokenizer is a list\n",
        "\n",
        "from tensorflow.keras.preprocessing.text import Tokenizer"
      ]
    },
    {
      "cell_type": "code",
      "execution_count": 80,
      "metadata": {
        "id": "DmrNxvsUAHio"
      },
      "outputs": [],
      "source": [
        "#Input into the tokenizer is a list\n",
        "\n",
        "tokenizer = Tokenizer(num_words=50000, oov_token='<UNK>')\n",
        "\n",
        "#I think that this is the missing piece...I'm not really sure what it does...  \n",
        "\n",
        "tokenizer.fit_on_texts(traintext)\n",
        "#tokenizer.fit_on_texts(valtext)\n",
        "\n",
        "#Testing the tokenization... \n",
        "\n",
        "#print(tokenizer.texts_to_sequences([tweets[10]]))"
      ]
    },
    {
      "cell_type": "markdown",
      "metadata": {
        "id": "EPLJVNZ_AMA4"
      },
      "source": [
        "## 5. Padding and Truncating Sequences\n",
        "\n",
        "See this resource on padding sequence by Keras\n",
        "https://www.tensorflow.org/api_docs/python/tf/keras/utils/pad_sequences"
      ]
    },
    {
      "cell_type": "code",
      "execution_count": 81,
      "metadata": {
        "id": "feqCoDlwARiG"
      },
      "outputs": [],
      "source": [
        "from tensorflow.keras.preprocessing.sequence import pad_sequences"
      ]
    },
    {
      "cell_type": "code",
      "execution_count": 82,
      "metadata": {
        "id": "vvitI3F2ATP0"
      },
      "outputs": [],
      "source": [
        "#Creating a function that tokenizes and pads the sequences...\n",
        "\n",
        "def get_sequences(tokenizer, texts):\n",
        "    sequences = tokenizer.texts_to_sequences(texts)\n",
        "    padded_sequences = pad_sequences(sequences, truncating='post', maxlen=400, padding='post')\n",
        "    return padded_sequences"
      ]
    },
    {
      "cell_type": "code",
      "execution_count": 83,
      "metadata": {
        "id": "IltQHNneAVLj"
      },
      "outputs": [],
      "source": [
        "#Applying the function to tokenize and pad... to all test,validate and test\n",
        "#Syntax: val_sequences = get_sequences(tokenizer, val_tweets)\n",
        "\n",
        "padded_train_sequences = get_sequences(tokenizer, traintext)\n",
        "val_sequence = get_sequences(tokenizer,valtext)\n",
        "test_sequence = get_sequences(tokenizer,testtext)\n"
      ]
    },
    {
      "cell_type": "code",
      "execution_count": 84,
      "metadata": {
        "id": "ORT6NGqBEnJU"
      },
      "outputs": [],
      "source": [
        "#Let's see what kind of shape these things are...\n",
        "#padded_train_sequences is an Ndarray is 99789\n",
        "\n",
        "#Alright...val_sequence is 99789....\n",
        "\n",
        "#val_sequence\n",
        "\n"
      ]
    },
    {
      "cell_type": "markdown",
      "metadata": {
        "id": "N1FWFl1uGSeb"
      },
      "source": [
        "# 7. Creating the Model\n",
        "\n",
        "##Dec 7: Need to better understand the hyperparameters here... \n",
        "\n",
        "\n",
        "1.   What is the 2nd argument in it? Words, X and input length...\n",
        "2.   List item\n"
      ]
    },
    {
      "cell_type": "code",
      "execution_count": 85,
      "metadata": {
        "id": "8UWfWEYAGVgx",
        "colab": {
          "base_uri": "https://localhost:8080/"
        },
        "outputId": "39e8355f-23fe-4511-a042-0852d505f1f1"
      },
      "outputs": [
        {
          "output_type": "stream",
          "name": "stdout",
          "text": [
            "Model: \"sequential\"\n",
            "_________________________________________________________________\n",
            " Layer (type)                Output Shape              Param #   \n",
            "=================================================================\n",
            " embedding (Embedding)       (None, 400, 1000)         50000000  \n",
            "                                                                 \n",
            " bidirectional (Bidirectiona  (None, 400, 400)         1921600   \n",
            " l)                                                              \n",
            "                                                                 \n",
            " bidirectional_1 (Bidirectio  (None, 400)              961600    \n",
            " nal)                                                            \n",
            "                                                                 \n",
            " dense (Dense)               (None, 6)                 2406      \n",
            "                                                                 \n",
            "=================================================================\n",
            "Total params: 52,885,606\n",
            "Trainable params: 52,885,606\n",
            "Non-trainable params: 0\n",
            "_________________________________________________________________\n"
          ]
        }
      ],
      "source": [
        "#Embedding layer works on number of tokens -> approximately words... \n",
        "#\n",
        "\n",
        "model = tf.keras.models.Sequential([\n",
        "    tf.keras.layers.Embedding(50000, 1000, input_length=400),\n",
        "    tf.keras.layers.Bidirectional(tf.keras.layers.LSTM(200, return_sequences=True)),\n",
        "    tf.keras.layers.Bidirectional(tf.keras.layers.LSTM(200)),\n",
        "    tf.keras.layers.Dense(6, activation='softmax')\n",
        "])\n",
        "\n",
        "model.compile(\n",
        "    loss='sparse_categorical_crossentropy',\n",
        "    optimizer='adam',\n",
        "    metrics=['accuracy']\n",
        ")\n",
        "\n",
        "model.summary()"
      ]
    },
    {
      "cell_type": "markdown",
      "metadata": {
        "id": "JYLOSNwZGqqF"
      },
      "source": [
        "\n",
        "\n",
        "\n",
        "\n",
        "\n",
        "\n",
        "\n",
        "\n",
        "\n",
        "\n",
        "\n",
        "\n",
        "\n",
        "\n",
        "\n",
        "\n",
        "\n",
        "\n",
        "\n",
        "\n",
        "\n",
        "\n",
        "\n",
        "\n",
        "\n",
        "\n",
        "\n",
        "\n",
        "\n",
        "\n",
        "\n",
        "\n",
        "\n",
        "\n",
        "\n",
        "\n",
        "## 8. Training the Model"
      ]
    },
    {
      "cell_type": "code",
      "execution_count": null,
      "metadata": {
        "id": "N6B28KLxGtlT",
        "colab": {
          "base_uri": "https://localhost:8080/"
        },
        "outputId": "1f0ff99c-c0a6-4295-feaa-5054bf5a81ab"
      },
      "outputs": [
        {
          "output_type": "stream",
          "name": "stdout",
          "text": [
            "Epoch 1/10\n",
            "2845/2845 [==============================] - 451s 155ms/step - loss: 1.0591 - accuracy: 0.6223 - val_loss: 0.7224 - val_accuracy: 0.7331\n",
            "Epoch 2/10\n",
            " 577/2845 [=====>........................] - ETA: 5:15 - loss: 0.5942 - accuracy: 0.7885"
          ]
        }
      ],
      "source": [
        "#Having the callbacks option on means that the model stops once you are like over-generalizing... \n",
        "#Let's leave the callback option on for now...\n",
        "\n",
        "\n",
        "h = model.fit(\n",
        "    padded_train_sequences, train_labels,\n",
        "    validation_data=(val_sequence, val_labels),\n",
        "    epochs=10,\n",
        "    callbacks=[\n",
        "        tf.keras.callbacks.EarlyStopping(monitor='val_accuracy', patience=2)\n",
        "   ]\n",
        ")"
      ]
    },
    {
      "cell_type": "markdown",
      "metadata": {
        "id": "g-5Zxtm3U3kH"
      },
      "source": [
        "#9. Evaluating the model "
      ]
    },
    {
      "cell_type": "code",
      "execution_count": null,
      "metadata": {
        "id": "obidyH6VU99S"
      },
      "outputs": [],
      "source": [
        "def show_history(h):\n",
        "    epochs_trained = len(h.history['loss'])\n",
        "    plt.figure(figsize=(16, 6))\n",
        "\n",
        "    plt.subplot(1, 2, 1)\n",
        "    plt.plot(range(0, epochs_trained), h.history.get('accuracy'), label='Training')\n",
        "    plt.plot(range(0, epochs_trained), h.history.get('val_accuracy'), label='Validation')\n",
        "    plt.ylim([0., 1.])\n",
        "    plt.xlabel('Epochs')\n",
        "    plt.ylabel('Accuracy')\n",
        "    plt.legend()\n",
        "\n",
        "    plt.subplot(1, 2, 2)\n",
        "    plt.plot(range(0, epochs_trained), h.history.get('loss'), label='Training')\n",
        "    plt.plot(range(0, epochs_trained), h.history.get('val_loss'), label='Validation')\n",
        "    plt.xlabel('Epochs')\n",
        "    plt.ylabel('Loss')\n",
        "    plt.legend()\n",
        "    plt.show()\n",
        "\n",
        "show_history(h)"
      ]
    },
    {
      "cell_type": "code",
      "execution_count": null,
      "metadata": {
        "id": "GZz-Z123VBCQ"
      },
      "outputs": [],
      "source": [
        "#Running the model on the test sequence and test labels... \n",
        "\n",
        "eval = model.evaluate(test_sequence, test_labels)"
      ]
    },
    {
      "cell_type": "code",
      "execution_count": null,
      "metadata": {
        "id": "LEwvckEyVP8Q"
      },
      "outputs": [],
      "source": [
        "#preds = model.predict_classes(test_sequences)\n",
        "preds=model.predict(test_sequences) \n",
        "classes_x=np.argmax(preds,axis=1)\n",
        "preds.shape, test_labels.shape"
      ]
    },
    {
      "cell_type": "markdown",
      "metadata": {
        "id": "EgjLQKz-VkDI"
      },
      "source": [
        "#Saving the model \n",
        "\n",
        "##Questions: At what point do we save the model...\n",
        "\n",
        "\n",
        "1.   Resolve the character / length piece in looking at the inference dataset...\n",
        "2.   I want the 75% run / run before I save it... \n",
        "\n"
      ]
    },
    {
      "cell_type": "code",
      "execution_count": null,
      "metadata": {
        "id": "DBwsFHQpVl5c"
      },
      "outputs": [],
      "source": [
        "#So this works but we need to make sure that we install Keras as a dependency \n",
        "\n",
        "from keras.models import load_model\n",
        "\n",
        "model.save(\"my_model\")\n",
        "\n",
        "fearmodel.save('/content/drive/MyDrive/Sean/Emoclass_Dec2022/Fear_arousal/Fear_Arousal_Model_6cat_dec10,2022')"
      ]
    }
  ],
  "metadata": {
    "colab": {
      "provenance": [],
      "include_colab_link": true
    },
    "gpuClass": "premium",
    "kernelspec": {
      "display_name": "Python 3 (ipykernel)",
      "language": "python",
      "name": "python3"
    },
    "language_info": {
      "codemirror_mode": {
        "name": "ipython",
        "version": 3
      },
      "file_extension": ".py",
      "mimetype": "text/x-python",
      "name": "python",
      "nbconvert_exporter": "python",
      "pygments_lexer": "ipython3",
      "version": "3.9.12"
    },
    "accelerator": "GPU"
  },
  "nbformat": 4,
  "nbformat_minor": 0
}