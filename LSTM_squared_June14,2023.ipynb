{
  "nbformat": 4,
  "nbformat_minor": 0,
  "metadata": {
    "colab": {
      "provenance": [],
      "machine_shape": "hm",
      "gpuType": "A100",
      "authorship_tag": "ABX9TyPqTmWzbXsGIrmTDSseE9RJ",
      "include_colab_link": true
    },
    "kernelspec": {
      "name": "python3",
      "display_name": "Python 3"
    },
    "language_info": {
      "name": "python"
    },
    "accelerator": "GPU"
  },
  "cells": [
    {
      "cell_type": "markdown",
      "metadata": {
        "id": "view-in-github",
        "colab_type": "text"
      },
      "source": [
        "<a href=\"https://colab.research.google.com/github/Approach-Analytics/Emotion-Classifier/blob/main/LSTM_squared_June14%2C2023.ipynb\" target=\"_parent\"><img src=\"https://colab.research.google.com/assets/colab-badge.svg\" alt=\"Open In Colab\"/></a>"
      ]
    },
    {
      "cell_type": "markdown",
      "source": [
        "#I want to integrate a language model and an emotion classifier"
      ],
      "metadata": {
        "id": "jlIO7XaVosuB"
      }
    },
    {
      "cell_type": "code",
      "execution_count": 1,
      "metadata": {
        "id": "HTab765molzf"
      },
      "outputs": [],
      "source": [
        "#install depdencies\n",
        "\n",
        "!pip install keras tensorflow scikit-learn numpy"
      ]
    },
    {
      "cell_type": "code",
      "source": [
        "#Import dependencies\n",
        "\n",
        "import tensorflow as tf\n",
        "from tensorflow import keras\n",
        "\n",
        "import os\n",
        "import tensorflow as tf\n",
        "from tensorflow.keras.preprocessing.text import Tokenizer\n",
        "from tensorflow.keras.preprocessing.sequence import pad_sequences\n",
        "import numpy as np\n",
        "import pandas as pd\n",
        "import pickle"
      ],
      "metadata": {
        "id": "gGvUFUmYo6qu"
      },
      "execution_count": 2,
      "outputs": []
    },
    {
      "cell_type": "code",
      "source": [
        "#Creating afile to hold the path\n",
        "\n",
        "from google.colab import drive\n",
        "\n",
        "# This will prompt for authorization.\n",
        "drive.mount('/content/drive')"
      ],
      "metadata": {
        "colab": {
          "base_uri": "https://localhost:8080/"
        },
        "id": "50hkb76wo84q",
        "outputId": "a4511c87-282e-48f2-db7d-0b57a04c188f"
      },
      "execution_count": 3,
      "outputs": [
        {
          "output_type": "stream",
          "name": "stdout",
          "text": [
            "Mounted at /content/drive\n"
          ]
        }
      ]
    },
    {
      "cell_type": "markdown",
      "source": [
        "#Load Dataset and Tokenizer"
      ],
      "metadata": {
        "id": "XmGy2EjgpFnn"
      }
    },
    {
      "cell_type": "code",
      "source": [
        "# Load dataset\n",
        "path = \"/content/drive/MyDrive/Sean/Chatbot_May,2023/Inference_Fear_Gut_100books,2023.csv\"\n",
        "df = pd.read_csv(path)\n",
        "\n",
        "# Load tokenizer\n",
        "tokenizer_path = '/content/drive/MyDrive/Sean/Emoclass/Tokenizer_Universal_125Kvoc_May5.2023.pickle'\n",
        "with open(tokenizer_path, 'rb') as f:\n",
        "    tokenizer = pickle.load(f)"
      ],
      "metadata": {
        "id": "BSdcYfNPpIEd"
      },
      "execution_count": 4,
      "outputs": []
    },
    {
      "cell_type": "code",
      "source": [
        "df.head()"
      ],
      "metadata": {
        "colab": {
          "base_uri": "https://localhost:8080/",
          "height": 206
        },
        "id": "pQhrWAp5v4Rf",
        "outputId": "b4703f94-91d4-49c0-afac-4d14bf087e97"
      },
      "execution_count": 5,
      "outputs": [
        {
          "output_type": "execute_result",
          "data": {
            "text/plain": [
              "   Unnamed: 0                                               text emotion\n",
              "0           0  ballads by horatio alger contents ballads bald...    calm\n",
              "1           1  harvard odes i fair harvard dear guide of our ...    calm\n",
              "2           2  in the days of whig and tory under royal georg...    calm\n",
              "3           3  while beneath are stalled the cattle with thei...    calm\n",
              "4           4  daughters growing up from childish plays one b...    calm"
            ],
            "text/html": [
              "\n",
              "  <div id=\"df-27144a9d-4e3c-4c7e-8915-f3911ecaa58e\">\n",
              "    <div class=\"colab-df-container\">\n",
              "      <div>\n",
              "<style scoped>\n",
              "    .dataframe tbody tr th:only-of-type {\n",
              "        vertical-align: middle;\n",
              "    }\n",
              "\n",
              "    .dataframe tbody tr th {\n",
              "        vertical-align: top;\n",
              "    }\n",
              "\n",
              "    .dataframe thead th {\n",
              "        text-align: right;\n",
              "    }\n",
              "</style>\n",
              "<table border=\"1\" class=\"dataframe\">\n",
              "  <thead>\n",
              "    <tr style=\"text-align: right;\">\n",
              "      <th></th>\n",
              "      <th>Unnamed: 0</th>\n",
              "      <th>text</th>\n",
              "      <th>emotion</th>\n",
              "    </tr>\n",
              "  </thead>\n",
              "  <tbody>\n",
              "    <tr>\n",
              "      <th>0</th>\n",
              "      <td>0</td>\n",
              "      <td>ballads by horatio alger contents ballads bald...</td>\n",
              "      <td>calm</td>\n",
              "    </tr>\n",
              "    <tr>\n",
              "      <th>1</th>\n",
              "      <td>1</td>\n",
              "      <td>harvard odes i fair harvard dear guide of our ...</td>\n",
              "      <td>calm</td>\n",
              "    </tr>\n",
              "    <tr>\n",
              "      <th>2</th>\n",
              "      <td>2</td>\n",
              "      <td>in the days of whig and tory under royal georg...</td>\n",
              "      <td>calm</td>\n",
              "    </tr>\n",
              "    <tr>\n",
              "      <th>3</th>\n",
              "      <td>3</td>\n",
              "      <td>while beneath are stalled the cattle with thei...</td>\n",
              "      <td>calm</td>\n",
              "    </tr>\n",
              "    <tr>\n",
              "      <th>4</th>\n",
              "      <td>4</td>\n",
              "      <td>daughters growing up from childish plays one b...</td>\n",
              "      <td>calm</td>\n",
              "    </tr>\n",
              "  </tbody>\n",
              "</table>\n",
              "</div>\n",
              "      <button class=\"colab-df-convert\" onclick=\"convertToInteractive('df-27144a9d-4e3c-4c7e-8915-f3911ecaa58e')\"\n",
              "              title=\"Convert this dataframe to an interactive table.\"\n",
              "              style=\"display:none;\">\n",
              "        \n",
              "  <svg xmlns=\"http://www.w3.org/2000/svg\" height=\"24px\"viewBox=\"0 0 24 24\"\n",
              "       width=\"24px\">\n",
              "    <path d=\"M0 0h24v24H0V0z\" fill=\"none\"/>\n",
              "    <path d=\"M18.56 5.44l.94 2.06.94-2.06 2.06-.94-2.06-.94-.94-2.06-.94 2.06-2.06.94zm-11 1L8.5 8.5l.94-2.06 2.06-.94-2.06-.94L8.5 2.5l-.94 2.06-2.06.94zm10 10l.94 2.06.94-2.06 2.06-.94-2.06-.94-.94-2.06-.94 2.06-2.06.94z\"/><path d=\"M17.41 7.96l-1.37-1.37c-.4-.4-.92-.59-1.43-.59-.52 0-1.04.2-1.43.59L10.3 9.45l-7.72 7.72c-.78.78-.78 2.05 0 2.83L4 21.41c.39.39.9.59 1.41.59.51 0 1.02-.2 1.41-.59l7.78-7.78 2.81-2.81c.8-.78.8-2.07 0-2.86zM5.41 20L4 18.59l7.72-7.72 1.47 1.35L5.41 20z\"/>\n",
              "  </svg>\n",
              "      </button>\n",
              "      \n",
              "  <style>\n",
              "    .colab-df-container {\n",
              "      display:flex;\n",
              "      flex-wrap:wrap;\n",
              "      gap: 12px;\n",
              "    }\n",
              "\n",
              "    .colab-df-convert {\n",
              "      background-color: #E8F0FE;\n",
              "      border: none;\n",
              "      border-radius: 50%;\n",
              "      cursor: pointer;\n",
              "      display: none;\n",
              "      fill: #1967D2;\n",
              "      height: 32px;\n",
              "      padding: 0 0 0 0;\n",
              "      width: 32px;\n",
              "    }\n",
              "\n",
              "    .colab-df-convert:hover {\n",
              "      background-color: #E2EBFA;\n",
              "      box-shadow: 0px 1px 2px rgba(60, 64, 67, 0.3), 0px 1px 3px 1px rgba(60, 64, 67, 0.15);\n",
              "      fill: #174EA6;\n",
              "    }\n",
              "\n",
              "    [theme=dark] .colab-df-convert {\n",
              "      background-color: #3B4455;\n",
              "      fill: #D2E3FC;\n",
              "    }\n",
              "\n",
              "    [theme=dark] .colab-df-convert:hover {\n",
              "      background-color: #434B5C;\n",
              "      box-shadow: 0px 1px 3px 1px rgba(0, 0, 0, 0.15);\n",
              "      filter: drop-shadow(0px 1px 2px rgba(0, 0, 0, 0.3));\n",
              "      fill: #FFFFFF;\n",
              "    }\n",
              "  </style>\n",
              "\n",
              "      <script>\n",
              "        const buttonEl =\n",
              "          document.querySelector('#df-27144a9d-4e3c-4c7e-8915-f3911ecaa58e button.colab-df-convert');\n",
              "        buttonEl.style.display =\n",
              "          google.colab.kernel.accessAllowed ? 'block' : 'none';\n",
              "\n",
              "        async function convertToInteractive(key) {\n",
              "          const element = document.querySelector('#df-27144a9d-4e3c-4c7e-8915-f3911ecaa58e');\n",
              "          const dataTable =\n",
              "            await google.colab.kernel.invokeFunction('convertToInteractive',\n",
              "                                                     [key], {});\n",
              "          if (!dataTable) return;\n",
              "\n",
              "          const docLinkHtml = 'Like what you see? Visit the ' +\n",
              "            '<a target=\"_blank\" href=https://colab.research.google.com/notebooks/data_table.ipynb>data table notebook</a>'\n",
              "            + ' to learn more about interactive tables.';\n",
              "          element.innerHTML = '';\n",
              "          dataTable['output_type'] = 'display_data';\n",
              "          await google.colab.output.renderOutput(dataTable, element);\n",
              "          const docLink = document.createElement('div');\n",
              "          docLink.innerHTML = docLinkHtml;\n",
              "          element.appendChild(docLink);\n",
              "        }\n",
              "      </script>\n",
              "    </div>\n",
              "  </div>\n",
              "  "
            ]
          },
          "metadata": {},
          "execution_count": 5
        }
      ]
    },
    {
      "cell_type": "code",
      "source": [
        "df.shape"
      ],
      "metadata": {
        "colab": {
          "base_uri": "https://localhost:8080/"
        },
        "id": "4EScjcBmw29M",
        "outputId": "b4896a99-edff-493d-c613-bc6a0f3339b1"
      },
      "execution_count": 6,
      "outputs": [
        {
          "output_type": "execute_result",
          "data": {
            "text/plain": [
              "(79125, 3)"
            ]
          },
          "metadata": {},
          "execution_count": 6
        }
      ]
    },
    {
      "cell_type": "markdown",
      "source": [
        "#Defining Emotion Axis"
      ],
      "metadata": {
        "id": "hTgPUenD3crW"
      }
    },
    {
      "cell_type": "code",
      "source": [
        "emotion_dict = {'dread': 0, 'fear': 1, 'anxiety': 2, 'worry': 3, 'concern': 4, 'calm': 5}"
      ],
      "metadata": {
        "id": "1Dy1qFlg3jFW"
      },
      "execution_count": null,
      "outputs": []
    },
    {
      "cell_type": "markdown",
      "source": [
        "#Processing Text\n",
        "\n",
        "1) Needs to be changed to accomodate new input dataset\n",
        "2) Add an embedding layer...\n"
      ],
      "metadata": {
        "id": "HaQTpFHGpRQt"
      }
    },
    {
      "cell_type": "code",
      "source": [
        "import numpy as np\n",
        "import pandas as pd\n",
        "\n",
        "from keras.layers import Embedding, LSTM, Dense\n",
        "from keras.models import Sequential\n",
        "import tensorflow as tf\n",
        "import pickle\n",
        "\n",
        "# Load dataset\n",
        "path = \"/content/drive/MyDrive/Sean/Chatbot_May,2023/Inference_Fear_Gut_100books,2023.csv\"\n",
        "df = pd.read_csv(path)\n",
        "\n",
        "# Load tokenizer\n",
        "tokenizer_path = '/content/drive/MyDrive/Sean/Emoclass/Tokenizer_Universal_125Kvoc_May5.2023.pickle'\n",
        "with open(tokenizer_path, 'rb') as f:\n",
        "    tokenizer = pickle.load(f)\n",
        "\n",
        "# Define parameters\n",
        "sequence_length = 75\n",
        "word_embedding_dim = 100\n",
        "emotion_embedding_dim = 10\n",
        "emotion_dict = {'dread': 0, 'fear': 1, 'anxiety': 2, 'worry': 3, 'concern': 4, 'calm': 5}\n",
        "\n",
        "# Initialize lists to hold X and y\n",
        "X = []\n",
        "X_emotion = []\n",
        "y = []\n",
        "\n",
        "# Iterate over each text and emotion in the dataframe\n",
        "for text, emotion in zip(df['text'], df['emotion']):\n",
        "    # Convert text to a sequence of tokens\n",
        "    sequence = tokenizer.texts_to_sequences([text])[0]\n",
        "    emotion_index = emotion_dict[emotion]\n",
        "\n",
        "    # Slide a window across the sequence\n",
        "    for i in range(sequence_length, len(sequence)):\n",
        "        # Add the window to X and the corresponding emotion to X_emotion\n",
        "        X.append(sequence[i-sequence_length:i])\n",
        "        X_emotion.append([emotion_index]*sequence_length)\n",
        "        y.append(sequence[i])\n",
        "\n",
        "# Convert X and y to numpy arrays\n",
        "X = np.array(X)\n",
        "X_emotion = np.array(X_emotion)\n",
        "y = np.array(y)\n",
        "\n",
        "# Vocabulary size\n",
        "vocab_size = len(tokenizer.word_index) + 1\n",
        "\n",
        "# Generate word embeddings\n",
        "word_embedding_layer = Embedding(input_dim=vocab_size, output_dim=word_embedding_dim, input_length=sequence_length)\n",
        "word_embeddings = word_embedding_layer(X)\n",
        "\n",
        "# Generate emotion embeddings\n",
        "emotion_embedding_layer = Embedding(input_dim=len(emotion_dict), output_dim=emotion_embedding_dim, input_length=sequence_length)\n",
        "emotion_embeddings = emotion_embedding_layer(X_emotion)\n",
        "\n",
        "# Concatenate word and emotion embeddings\n",
        "concatenated_embeddings = tf.keras.layers.concatenate([word_embeddings, emotion_embeddings], axis=-1)\n",
        "\n",
        "# Specify the model\n",
        "model = Sequential()\n",
        "model.add(LSTM(256, input_shape=(sequence_length, word_embedding_dim + emotion_embedding_dim)))\n",
        "model.add(Dense(vocab_size, activation='softmax'))\n",
        "\n",
        "# Compile the model\n",
        "model.compile(loss='sparse_categorical_crossentropy', optimizer='adam')\n",
        "\n",
        "# Train the model\n",
        "model.fit(concatenated_embeddings, np.expand_dims(y, -1), epochs=10, batch_size=16)\n"
      ],
      "metadata": {
        "colab": {
          "base_uri": "https://localhost:8080/"
        },
        "id": "nSLHinzd3bTS",
        "outputId": "29e86ec6-137a-4974-9860-0a16a483950b"
      },
      "execution_count": null,
      "outputs": [
        {
          "output_type": "stream",
          "name": "stdout",
          "text": [
            "Epoch 1/10\n",
            "23420/24697 [===========================>..] - ETA: 13s - loss: 7.2310"
          ]
        }
      ]
    },
    {
      "cell_type": "code",
      "source": [],
      "metadata": {
        "id": "_HdI5FZ73bP6"
      },
      "execution_count": null,
      "outputs": []
    },
    {
      "cell_type": "code",
      "source": [],
      "metadata": {
        "id": "mSHs4BEu3bNb"
      },
      "execution_count": null,
      "outputs": []
    },
    {
      "cell_type": "code",
      "source": [],
      "metadata": {
        "id": "T3H2FRjG3bK1"
      },
      "execution_count": null,
      "outputs": []
    },
    {
      "cell_type": "code",
      "source": [],
      "metadata": {
        "id": "FkIdHkkd3bIU"
      },
      "execution_count": null,
      "outputs": []
    },
    {
      "cell_type": "code",
      "source": [],
      "metadata": {
        "id": "FOjc_txA3bF5"
      },
      "execution_count": null,
      "outputs": []
    },
    {
      "cell_type": "code",
      "source": [
        "import numpy as np\n",
        "from keras.preprocessing.text import Tokenizer\n",
        "\n",
        "\n",
        "# Load tokenizer\n",
        "tokenizer_path = '/content/drive/MyDrive/Sean/Emoclass/Tokenizer_Universal_125Kvoc_May5.2023.pickle'\n",
        "with open(tokenizer_path, 'rb') as f:\n",
        "    tokenizer = pickle.load(f)\n",
        "\n",
        "# Initialize lists to hold X and y\n",
        "X = []\n",
        "y = []\n",
        "\n",
        "# Iterate over each text in the dataframe\n",
        "for text in df['text']:\n",
        "    # Convert text to a sequence of tokens\n",
        "    sequence = tokenizer.texts_to_sequences([text])[0]\n",
        "\n",
        "    # Slide a window across the sequence\n",
        "    for i in range(100, len(sequence)):\n",
        "        # Add the window to X\n",
        "        X.append(sequence[i-100:i])\n",
        "\n",
        "        # Add the next word to y\n",
        "        y.append(sequence[i])\n",
        "\n",
        "# Convert X and y to numpy arrays\n",
        "X = np.array(X)\n",
        "y = np.array(y)\n"
      ],
      "metadata": {
        "id": "hrGUg5ZxpVmG"
      },
      "execution_count": 7,
      "outputs": []
    },
    {
      "cell_type": "markdown",
      "source": [
        "#New way for text processing"
      ],
      "metadata": {
        "id": "kwGtudrD1pO_"
      }
    },
    {
      "cell_type": "code",
      "source": [
        "from keras.layers import Embedding, concatenate, LSTM, Dense, TimeDistributed\n",
        "from keras.models import Sequential\n",
        "\n",
        "import tensorflow as tf\n",
        "import numpy as np\n",
        "\n",
        "# Load the tokenizer\n",
        "with open(tokenizer_path, 'rb') as f:\n",
        "    tokenizer = pickle.load(f)\n",
        "\n",
        "# Initialize lists to hold X and y\n",
        "X = []\n",
        "y = []\n",
        "\n",
        "# Iterate over each text and emotion in the dataframe\n",
        "for text, emotion in zip(df['text'], df['emotion']):\n",
        "    # Convert text to a sequence of tokens\n",
        "    sequence = tokenizer.texts_to_sequences([text])[0]\n",
        "    emotion_index = emotion_dict[emotion]\n",
        "\n",
        "    # Slide a window across the sequence\n",
        "    for i in range(75, len(sequence)):\n",
        "        # Add the window to X and the corresponding word to y\n",
        "        X.append(sequence[i-75:i])\n",
        "        y.append(sequence[i])\n",
        "\n",
        "# Convert X and y to numpy arrays\n",
        "X = np.array(X)\n",
        "y = np.array(y)\n",
        "\n",
        "# Generate word embeddings\n",
        "vocab_size = len(tokenizer.word_index) + 1\n",
        "word_embedding_dim = 100\n",
        "word_embedding_layer = Embedding(input_dim=vocab_size, output_dim=word_embedding_dim)\n",
        "word_embeddings = word_embedding_layer(X)\n",
        "\n",
        "# Encode emotions to indices and generate emotion embeddings\n",
        "emotion_dict = {'dread': 0, 'fear': 1, 'anxiety': 2, 'worry': 3, 'concern': 4, 'calm': 5}\n",
        "emotion_indices = df['emotion'].map(emotion_dict).values\n",
        "emotion_vocab_size = len(emotion_dict)\n",
        "emotion_embedding_dim = 10\n",
        "emotion_embedding_layer = Embedding(input_dim=emotion_vocab_size, output_dim=emotion_embedding_dim)\n",
        "emotion_embeddings = emotion_embedding_layer(emotion_indices)\n",
        "\n",
        "# Repeat emotion embeddings for each word in the sequence\n",
        "emotion_embeddings = tf.keras.backend.expand_dims(emotion_embeddings, 1)\n",
        "emotion_embeddings = tf.keras.backend.repeat_elements(emotion_embeddings, rep=75, axis=1)\n",
        "\n",
        "# Concatenate word and emotion embeddings\n",
        "concatenated_embeddings = np.concatenate([word_embeddings, emotion_embeddings], axis=-1)\n",
        "\n",
        "# Specify and compile the model\n",
        "model = Sequential()\n",
        "model.add(LSTM(256, input_shape=(75, word_embedding_dim + emotion_embedding_dim)))\n",
        "model.add(Dense(vocab_size, activation='softmax'))\n",
        "model.compile(loss='sparse_categorical_crossentropy', optimizer='adam')\n"
      ],
      "metadata": {
        "colab": {
          "base_uri": "https://localhost:8080/",
          "height": 287
        },
        "id": "rNC5sGGy2z-M",
        "outputId": "d238242a-972a-45f0-a737-4f0130850dbc"
      },
      "execution_count": 10,
      "outputs": [
        {
          "output_type": "error",
          "ename": "ValueError",
          "evalue": "ignored",
          "traceback": [
            "\u001b[0;31m---------------------------------------------------------------------------\u001b[0m",
            "\u001b[0;31mValueError\u001b[0m                                Traceback (most recent call last)",
            "\u001b[0;32m<ipython-input-10-f1a458576d5b>\u001b[0m in \u001b[0;36m<cell line: 50>\u001b[0;34m()\u001b[0m\n\u001b[1;32m     48\u001b[0m \u001b[0;34m\u001b[0m\u001b[0m\n\u001b[1;32m     49\u001b[0m \u001b[0;31m# Concatenate word and emotion embeddings\u001b[0m\u001b[0;34m\u001b[0m\u001b[0;34m\u001b[0m\u001b[0m\n\u001b[0;32m---> 50\u001b[0;31m \u001b[0mconcatenated_embeddings\u001b[0m \u001b[0;34m=\u001b[0m \u001b[0mnp\u001b[0m\u001b[0;34m.\u001b[0m\u001b[0mconcatenate\u001b[0m\u001b[0;34m(\u001b[0m\u001b[0;34m[\u001b[0m\u001b[0mword_embeddings\u001b[0m\u001b[0;34m,\u001b[0m \u001b[0memotion_embeddings\u001b[0m\u001b[0;34m]\u001b[0m\u001b[0;34m,\u001b[0m \u001b[0maxis\u001b[0m\u001b[0;34m=\u001b[0m\u001b[0;34m-\u001b[0m\u001b[0;36m1\u001b[0m\u001b[0;34m)\u001b[0m\u001b[0;34m\u001b[0m\u001b[0;34m\u001b[0m\u001b[0m\n\u001b[0m\u001b[1;32m     51\u001b[0m \u001b[0;34m\u001b[0m\u001b[0m\n\u001b[1;32m     52\u001b[0m \u001b[0;31m# Specify and compile the model\u001b[0m\u001b[0;34m\u001b[0m\u001b[0;34m\u001b[0m\u001b[0m\n",
            "\u001b[0;32m/usr/local/lib/python3.10/dist-packages/numpy/core/overrides.py\u001b[0m in \u001b[0;36mconcatenate\u001b[0;34m(*args, **kwargs)\u001b[0m\n",
            "\u001b[0;31mValueError\u001b[0m: all the input array dimensions for the concatenation axis must match exactly, but along dimension 0, the array at index 0 has size 395147 and the array at index 1 has size 79125"
          ]
        }
      ]
    },
    {
      "cell_type": "code",
      "source": [],
      "metadata": {
        "id": "ssDxPGbW2z6y"
      },
      "execution_count": null,
      "outputs": []
    },
    {
      "cell_type": "code",
      "source": [],
      "metadata": {
        "id": "rHMnV6O12zto"
      },
      "execution_count": null,
      "outputs": []
    },
    {
      "cell_type": "code",
      "source": [
        "# Initialize lists to hold X and y\n",
        "X = []\n",
        "y = []\n",
        "\n",
        "# Iterate over each text and emotion in the dataframe\n",
        "for text, emotion in zip(df['text'], df['emotion']):\n",
        "    # Convert text to a sequence of tokens\n",
        "    sequence = tokenizer.texts_to_sequences([text])[0]\n",
        "    emotion_index = emotion_dict[emotion]\n",
        "\n",
        "    # Slide a window across the sequence\n",
        "    for i in range(75, len(sequence)):\n",
        "        # Add the window to X and the corresponding emotion to X_emotion\n",
        "        X.append(sequence[i-75:i])\n",
        "        y.append(sequence[i])\n",
        "\n",
        "# Convert X and y to numpy arrays\n",
        "X = np.array(X)\n",
        "y = np.array(y)\n"
      ],
      "metadata": {
        "id": "-12jLazW0mhn"
      },
      "execution_count": 7,
      "outputs": []
    },
    {
      "cell_type": "code",
      "source": [
        "\n",
        "from keras.layers import Embedding, concatenate, LSTM, Dense, TimeDistributed\n",
        "from keras.models import Sequential\n",
        "import tensorflow as tf\n",
        "\n",
        "# Load the tokenizer and generate sequences\n",
        "with open(tokenizer_path, 'rb') as f:\n",
        "    tokenizer = pickle.load(f)\n",
        "sequences = tokenizer.texts_to_sequences(df['text'])\n",
        "sequences = pad_sequences(sequences, maxlen=75)\n",
        "\n",
        "# Generate word embeddings\n",
        "vocab_size = len(tokenizer.word_index) + 1\n",
        "word_embedding_dim = 100\n",
        "word_embedding_layer = Embedding(input_dim=vocab_size, output_dim=word_embedding_dim)\n",
        "word_embeddings = word_embedding_layer(sequences)\n",
        "\n",
        "# Encode emotions to indices and generate emotion embeddings\n",
        "emotion_dict = {'dread': 0, 'fear': 1, 'anxiety': 2, 'worry': 3, 'concern': 4, 'calm': 5}\n",
        "emotion_indices = df['emotion'].map(emotion_dict).values\n",
        "emotion_vocab_size = len(emotion_dict)\n",
        "emotion_embedding_dim = 10\n",
        "emotion_embedding_layer = Embedding(input_dim=emotion_vocab_size, output_dim=emotion_embedding_dim)\n",
        "emotion_embeddings = emotion_embedding_layer(emotion_indices)\n",
        "\n",
        "# Repeat emotion embeddings for each word in the sequence\n",
        "emotion_embeddings = tf.keras.backend.expand_dims(emotion_embeddings, 1)\n",
        "emotion_embeddings = tf.keras.backend.repeat_elements(emotion_embeddings, rep=75, axis=1)\n",
        "\n",
        "# Concatenate word and emotion embeddings\n",
        "concatenated_embeddings = np.concatenate([word_embeddings, emotion_embeddings], axis=-1)\n",
        "\n",
        "# Specify and compile the model\n",
        "model = Sequential()\n",
        "model.add(LSTM(256, input_shape=(75, word_embedding_dim + emotion_embedding_dim)))\n",
        "model.add(Dense(vocab_size, activation='softmax'))\n",
        "model.compile(loss='sparse_categorical_crossentropy', optimizer='adam')\n"
      ],
      "metadata": {
        "id": "Eldsx1UUzjBU"
      },
      "execution_count": 6,
      "outputs": []
    },
    {
      "cell_type": "code",
      "source": [
        "#Train the model\n",
        "\n",
        "model.fit(concatenated_embeddings, np.expand_dims(y, -1), epochs=10)\n"
      ],
      "metadata": {
        "id": "UsfA902q0yuo"
      },
      "execution_count": null,
      "outputs": []
    },
    {
      "cell_type": "code",
      "source": [
        "model.fit(concatenated_embeddings, np.expand_dims(y, -1), epochs=10, batch_size=16)\n"
      ],
      "metadata": {
        "colab": {
          "base_uri": "https://localhost:8080/",
          "height": 363
        },
        "id": "yDMth1sM1Pq0",
        "outputId": "7a2ad9a5-9a52-4232-d7e8-e9128ed17b68"
      },
      "execution_count": 8,
      "outputs": [
        {
          "output_type": "error",
          "ename": "ValueError",
          "evalue": "ignored",
          "traceback": [
            "\u001b[0;31m---------------------------------------------------------------------------\u001b[0m",
            "\u001b[0;31mValueError\u001b[0m                                Traceback (most recent call last)",
            "\u001b[0;32m<ipython-input-8-d1a89fd0ce34>\u001b[0m in \u001b[0;36m<cell line: 1>\u001b[0;34m()\u001b[0m\n\u001b[0;32m----> 1\u001b[0;31m \u001b[0mmodel\u001b[0m\u001b[0;34m.\u001b[0m\u001b[0mfit\u001b[0m\u001b[0;34m(\u001b[0m\u001b[0mconcatenated_embeddings\u001b[0m\u001b[0;34m,\u001b[0m \u001b[0mnp\u001b[0m\u001b[0;34m.\u001b[0m\u001b[0mexpand_dims\u001b[0m\u001b[0;34m(\u001b[0m\u001b[0my\u001b[0m\u001b[0;34m,\u001b[0m \u001b[0;34m-\u001b[0m\u001b[0;36m1\u001b[0m\u001b[0;34m)\u001b[0m\u001b[0;34m,\u001b[0m \u001b[0mepochs\u001b[0m\u001b[0;34m=\u001b[0m\u001b[0;36m10\u001b[0m\u001b[0;34m,\u001b[0m \u001b[0mbatch_size\u001b[0m\u001b[0;34m=\u001b[0m\u001b[0;36m16\u001b[0m\u001b[0;34m)\u001b[0m\u001b[0;34m\u001b[0m\u001b[0;34m\u001b[0m\u001b[0m\n\u001b[0m",
            "\u001b[0;32m/usr/local/lib/python3.10/dist-packages/keras/utils/traceback_utils.py\u001b[0m in \u001b[0;36merror_handler\u001b[0;34m(*args, **kwargs)\u001b[0m\n\u001b[1;32m     68\u001b[0m             \u001b[0;31m# To get the full stack trace, call:\u001b[0m\u001b[0;34m\u001b[0m\u001b[0;34m\u001b[0m\u001b[0m\n\u001b[1;32m     69\u001b[0m             \u001b[0;31m# `tf.debugging.disable_traceback_filtering()`\u001b[0m\u001b[0;34m\u001b[0m\u001b[0;34m\u001b[0m\u001b[0m\n\u001b[0;32m---> 70\u001b[0;31m             \u001b[0;32mraise\u001b[0m \u001b[0me\u001b[0m\u001b[0;34m.\u001b[0m\u001b[0mwith_traceback\u001b[0m\u001b[0;34m(\u001b[0m\u001b[0mfiltered_tb\u001b[0m\u001b[0;34m)\u001b[0m \u001b[0;32mfrom\u001b[0m \u001b[0;32mNone\u001b[0m\u001b[0;34m\u001b[0m\u001b[0;34m\u001b[0m\u001b[0m\n\u001b[0m\u001b[1;32m     71\u001b[0m         \u001b[0;32mfinally\u001b[0m\u001b[0;34m:\u001b[0m\u001b[0;34m\u001b[0m\u001b[0;34m\u001b[0m\u001b[0m\n\u001b[1;32m     72\u001b[0m             \u001b[0;32mdel\u001b[0m \u001b[0mfiltered_tb\u001b[0m\u001b[0;34m\u001b[0m\u001b[0;34m\u001b[0m\u001b[0m\n",
            "\u001b[0;32m/usr/local/lib/python3.10/dist-packages/keras/engine/data_adapter.py\u001b[0m in \u001b[0;36m_check_data_cardinality\u001b[0;34m(data)\u001b[0m\n\u001b[1;32m   1850\u001b[0m             )\n\u001b[1;32m   1851\u001b[0m         \u001b[0mmsg\u001b[0m \u001b[0;34m+=\u001b[0m \u001b[0;34m\"Make sure all arrays contain the same number of samples.\"\u001b[0m\u001b[0;34m\u001b[0m\u001b[0;34m\u001b[0m\u001b[0m\n\u001b[0;32m-> 1852\u001b[0;31m         \u001b[0;32mraise\u001b[0m \u001b[0mValueError\u001b[0m\u001b[0;34m(\u001b[0m\u001b[0mmsg\u001b[0m\u001b[0;34m)\u001b[0m\u001b[0;34m\u001b[0m\u001b[0;34m\u001b[0m\u001b[0m\n\u001b[0m\u001b[1;32m   1853\u001b[0m \u001b[0;34m\u001b[0m\u001b[0m\n\u001b[1;32m   1854\u001b[0m \u001b[0;34m\u001b[0m\u001b[0m\n",
            "\u001b[0;31mValueError\u001b[0m: Data cardinality is ambiguous:\n  x sizes: 79125\n  y sizes: 395147\nMake sure all arrays contain the same number of samples."
          ]
        }
      ]
    }
  ]
}