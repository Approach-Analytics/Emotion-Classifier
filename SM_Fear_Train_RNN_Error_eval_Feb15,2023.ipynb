{
  "cells": [
    {
      "cell_type": "markdown",
      "metadata": {
        "id": "view-in-github",
        "colab_type": "text"
      },
      "source": [
        "<a href=\"https://colab.research.google.com/github/Approach-Analytics/Emotion-Classifier/blob/main/SM_Fear_Train_RNN_Error_eval_Feb15%2C2023.ipynb\" target=\"_parent\"><img src=\"https://colab.research.google.com/assets/colab-badge.svg\" alt=\"Open In Colab\"/></a>"
      ]
    },
    {
      "cell_type": "markdown",
      "metadata": {
        "id": "9tixBc_S1GRe"
      },
      "source": [
        "#Refactoring the code for RNN training \n",
        "\n",
        "##Want as few training steps as possible...\n",
        "\n",
        "##Source of [codebook](https://katoch.medium.com/twitter-emotion-recognition-using-rnn-d3cd59862957)\n",
        "\n",
        "Data source: Gutenberg 2000 ~ 166K rows...\n",
        "\n",
        "#To do: \n",
        "\n",
        "\n",
        "1.  Adding column modifications...!?\n",
        "2.   List item\n",
        "\n"
      ]
    },
    {
      "cell_type": "code",
      "execution_count": 1,
      "metadata": {
        "colab": {
          "base_uri": "https://localhost:8080/"
        },
        "id": "vE1Ijd8o06uz",
        "outputId": "7407098d-0337-490e-969e-76c7fd2773e1"
      },
      "outputs": [
        {
          "output_type": "stream",
          "name": "stdout",
          "text": [
            "Looking in indexes: https://pypi.org/simple, https://us-python.pkg.dev/colab-wheels/public/simple/\n",
            "Collecting nlp\n",
            "  Downloading nlp-0.4.0-py3-none-any.whl (1.7 MB)\n",
            "\u001b[2K     \u001b[90m━━━━━━━━━━━━━━━━━━━━━━━━━━━━━━━━━━━━━━━━\u001b[0m \u001b[32m1.7/1.7 MB\u001b[0m \u001b[31m19.6 MB/s\u001b[0m eta \u001b[36m0:00:00\u001b[0m\n",
            "\u001b[?25hRequirement already satisfied: numpy in /usr/local/lib/python3.8/dist-packages (from nlp) (1.21.6)\n",
            "Requirement already satisfied: requests>=2.19.0 in /usr/local/lib/python3.8/dist-packages (from nlp) (2.25.1)\n",
            "Requirement already satisfied: pyarrow>=0.16.0 in /usr/local/lib/python3.8/dist-packages (from nlp) (9.0.0)\n",
            "Requirement already satisfied: tqdm>=4.27 in /usr/local/lib/python3.8/dist-packages (from nlp) (4.64.1)\n",
            "Requirement already satisfied: pandas in /usr/local/lib/python3.8/dist-packages (from nlp) (1.3.5)\n",
            "Requirement already satisfied: filelock in /usr/local/lib/python3.8/dist-packages (from nlp) (3.9.0)\n",
            "Requirement already satisfied: dill in /usr/local/lib/python3.8/dist-packages (from nlp) (0.3.6)\n",
            "Collecting xxhash\n",
            "  Downloading xxhash-3.2.0-cp38-cp38-manylinux_2_17_x86_64.manylinux2014_x86_64.whl (213 kB)\n",
            "\u001b[2K     \u001b[90m━━━━━━━━━━━━━━━━━━━━━━━━━━━━━━━━━━━━━━\u001b[0m \u001b[32m213.0/213.0 KB\u001b[0m \u001b[31m10.9 MB/s\u001b[0m eta \u001b[36m0:00:00\u001b[0m\n",
            "\u001b[?25hRequirement already satisfied: idna<3,>=2.5 in /usr/local/lib/python3.8/dist-packages (from requests>=2.19.0->nlp) (2.10)\n",
            "Requirement already satisfied: chardet<5,>=3.0.2 in /usr/local/lib/python3.8/dist-packages (from requests>=2.19.0->nlp) (4.0.0)\n",
            "Requirement already satisfied: certifi>=2017.4.17 in /usr/local/lib/python3.8/dist-packages (from requests>=2.19.0->nlp) (2022.12.7)\n",
            "Requirement already satisfied: urllib3<1.27,>=1.21.1 in /usr/local/lib/python3.8/dist-packages (from requests>=2.19.0->nlp) (1.24.3)\n",
            "Requirement already satisfied: pytz>=2017.3 in /usr/local/lib/python3.8/dist-packages (from pandas->nlp) (2022.7.1)\n",
            "Requirement already satisfied: python-dateutil>=2.7.3 in /usr/local/lib/python3.8/dist-packages (from pandas->nlp) (2.8.2)\n",
            "Requirement already satisfied: six>=1.5 in /usr/local/lib/python3.8/dist-packages (from python-dateutil>=2.7.3->pandas->nlp) (1.15.0)\n",
            "Installing collected packages: xxhash, nlp\n",
            "Successfully installed nlp-0.4.0 xxhash-3.2.0\n"
          ]
        }
      ],
      "source": [
        "#Need pip install tensorflow with... \n",
        "\n",
        "!pip install nlp\n",
        "#!pip install tensorflow"
      ]
    },
    {
      "cell_type": "markdown",
      "source": [
        "#Import statements... "
      ],
      "metadata": {
        "id": "XZm6M5-ZX_fX"
      }
    },
    {
      "cell_type": "code",
      "execution_count": 2,
      "metadata": {
        "id": "lG1RPDrQ1rf3"
      },
      "outputs": [],
      "source": [
        "%matplotlib inline\n",
        "\n",
        "import tensorflow as tf\n",
        "from tensorflow import keras\n",
        "import numpy as np\n",
        "import matplotlib.pyplot as plt\n",
        "import random\n",
        "import pandas as pd\n",
        "import matplotlib.pyplot as plt\n",
        "\n"
      ]
    },
    {
      "cell_type": "code",
      "source": [
        "#Importing the tokenizer...\n",
        "#Input into the tokenizer is a list\n",
        "\n",
        "from tensorflow.keras.preprocessing.text import Tokenizer"
      ],
      "metadata": {
        "id": "2movicexNXYY"
      },
      "execution_count": 3,
      "outputs": []
    },
    {
      "cell_type": "code",
      "execution_count": 4,
      "metadata": {
        "id": "eE0V3of61sIH"
      },
      "outputs": [],
      "source": [
        "#Dec 7, 2022: Not sure what this piece of code is used for... \n",
        "\n",
        "import warnings\n",
        "warnings.filterwarnings('ignore')"
      ]
    },
    {
      "cell_type": "markdown",
      "metadata": {
        "id": "L8_S3LY11v6H"
      },
      "source": [
        "##Importing the dataset.. "
      ]
    },
    {
      "cell_type": "code",
      "execution_count": 5,
      "metadata": {
        "colab": {
          "base_uri": "https://localhost:8080/"
        },
        "id": "FioSZTOm1t9M",
        "outputId": "57988036-29e1-4a99-8ec9-fbc0c3b8095c"
      },
      "outputs": [
        {
          "output_type": "stream",
          "name": "stdout",
          "text": [
            "Mounted at /content/drive\n"
          ]
        }
      ],
      "source": [
        "# Load the Drive helper and mount\n",
        "\n",
        "from google.colab import drive\n",
        "drive.mount('/content/drive')"
      ]
    },
    {
      "cell_type": "markdown",
      "source": [
        "#Loading the dataset...\n",
        "\n",
        "Where is this dataset? It's 166K? \n",
        "\n",
        "\"/content/drive/MyDrive/Sean/Emoclass_Dec2022/Fear_arousal/G2000_w40_Dec22_2022.csv\"\n",
        "\n",
        "\"/content/drive/MyDrive/Sean/Emoclass_Dec2022/Fear_arousal/Generated_datasets/G2000_w400_Dec22_2022.csv\""
      ],
      "metadata": {
        "id": "7D_N8Ui3G-uz"
      }
    },
    {
      "cell_type": "code",
      "execution_count": 6,
      "metadata": {
        "id": "iAxdCs1hSvfv"
      },
      "outputs": [],
      "source": [
        "#Load dataset for the \n",
        "#Old path -> where\n",
        "#New path: \n",
        "\n",
        "\n",
        "\n",
        "path=\"/content/drive/MyDrive/Sean/Emoclass_Dec2022/Fear_arousal/Generated_datasets/G2000_w400_Dec22_2022.csv\"\n",
        "df=pd.read_csv(path)"
      ]
    },
    {
      "cell_type": "code",
      "execution_count": 7,
      "metadata": {
        "colab": {
          "base_uri": "https://localhost:8080/",
          "height": 224
        },
        "id": "wHLrvCre15Ut",
        "outputId": "3f9ae2c5-fd9f-4d51-f870-54461323602a"
      },
      "outputs": [
        {
          "output_type": "stream",
          "name": "stdout",
          "text": [
            "(166316, 4)\n"
          ]
        },
        {
          "output_type": "execute_result",
          "data": {
            "text/plain": [
              "   Unnamed: 0                                               text emotion1  \\\n",
              "0           0  of a safe next instant the street was empty ba...    panic   \n",
              "1           1  aw now horn and pelt our peoples melt in cover...    dread   \n",
              "2           2   an unwatched flame brightened for a moment an...    dread   \n",
              "3           3   sign turn thee from thy morning mist or twili...    dread   \n",
              "4           4  nted hathi oh but my tusks were red at bhurtpo...   horror   \n",
              "\n",
              "  emotion2  \n",
              "0    dread  \n",
              "1    dread  \n",
              "2    dread  \n",
              "3    dread  \n",
              "4    dread  "
            ],
            "text/html": [
              "\n",
              "  <div id=\"df-d226b72c-8a87-441e-9711-b5944169ed94\">\n",
              "    <div class=\"colab-df-container\">\n",
              "      <div>\n",
              "<style scoped>\n",
              "    .dataframe tbody tr th:only-of-type {\n",
              "        vertical-align: middle;\n",
              "    }\n",
              "\n",
              "    .dataframe tbody tr th {\n",
              "        vertical-align: top;\n",
              "    }\n",
              "\n",
              "    .dataframe thead th {\n",
              "        text-align: right;\n",
              "    }\n",
              "</style>\n",
              "<table border=\"1\" class=\"dataframe\">\n",
              "  <thead>\n",
              "    <tr style=\"text-align: right;\">\n",
              "      <th></th>\n",
              "      <th>Unnamed: 0</th>\n",
              "      <th>text</th>\n",
              "      <th>emotion1</th>\n",
              "      <th>emotion2</th>\n",
              "    </tr>\n",
              "  </thead>\n",
              "  <tbody>\n",
              "    <tr>\n",
              "      <th>0</th>\n",
              "      <td>0</td>\n",
              "      <td>of a safe next instant the street was empty ba...</td>\n",
              "      <td>panic</td>\n",
              "      <td>dread</td>\n",
              "    </tr>\n",
              "    <tr>\n",
              "      <th>1</th>\n",
              "      <td>1</td>\n",
              "      <td>aw now horn and pelt our peoples melt in cover...</td>\n",
              "      <td>dread</td>\n",
              "      <td>dread</td>\n",
              "    </tr>\n",
              "    <tr>\n",
              "      <th>2</th>\n",
              "      <td>2</td>\n",
              "      <td>an unwatched flame brightened for a moment an...</td>\n",
              "      <td>dread</td>\n",
              "      <td>dread</td>\n",
              "    </tr>\n",
              "    <tr>\n",
              "      <th>3</th>\n",
              "      <td>3</td>\n",
              "      <td>sign turn thee from thy morning mist or twili...</td>\n",
              "      <td>dread</td>\n",
              "      <td>dread</td>\n",
              "    </tr>\n",
              "    <tr>\n",
              "      <th>4</th>\n",
              "      <td>4</td>\n",
              "      <td>nted hathi oh but my tusks were red at bhurtpo...</td>\n",
              "      <td>horror</td>\n",
              "      <td>dread</td>\n",
              "    </tr>\n",
              "  </tbody>\n",
              "</table>\n",
              "</div>\n",
              "      <button class=\"colab-df-convert\" onclick=\"convertToInteractive('df-d226b72c-8a87-441e-9711-b5944169ed94')\"\n",
              "              title=\"Convert this dataframe to an interactive table.\"\n",
              "              style=\"display:none;\">\n",
              "        \n",
              "  <svg xmlns=\"http://www.w3.org/2000/svg\" height=\"24px\"viewBox=\"0 0 24 24\"\n",
              "       width=\"24px\">\n",
              "    <path d=\"M0 0h24v24H0V0z\" fill=\"none\"/>\n",
              "    <path d=\"M18.56 5.44l.94 2.06.94-2.06 2.06-.94-2.06-.94-.94-2.06-.94 2.06-2.06.94zm-11 1L8.5 8.5l.94-2.06 2.06-.94-2.06-.94L8.5 2.5l-.94 2.06-2.06.94zm10 10l.94 2.06.94-2.06 2.06-.94-2.06-.94-.94-2.06-.94 2.06-2.06.94z\"/><path d=\"M17.41 7.96l-1.37-1.37c-.4-.4-.92-.59-1.43-.59-.52 0-1.04.2-1.43.59L10.3 9.45l-7.72 7.72c-.78.78-.78 2.05 0 2.83L4 21.41c.39.39.9.59 1.41.59.51 0 1.02-.2 1.41-.59l7.78-7.78 2.81-2.81c.8-.78.8-2.07 0-2.86zM5.41 20L4 18.59l7.72-7.72 1.47 1.35L5.41 20z\"/>\n",
              "  </svg>\n",
              "      </button>\n",
              "      \n",
              "  <style>\n",
              "    .colab-df-container {\n",
              "      display:flex;\n",
              "      flex-wrap:wrap;\n",
              "      gap: 12px;\n",
              "    }\n",
              "\n",
              "    .colab-df-convert {\n",
              "      background-color: #E8F0FE;\n",
              "      border: none;\n",
              "      border-radius: 50%;\n",
              "      cursor: pointer;\n",
              "      display: none;\n",
              "      fill: #1967D2;\n",
              "      height: 32px;\n",
              "      padding: 0 0 0 0;\n",
              "      width: 32px;\n",
              "    }\n",
              "\n",
              "    .colab-df-convert:hover {\n",
              "      background-color: #E2EBFA;\n",
              "      box-shadow: 0px 1px 2px rgba(60, 64, 67, 0.3), 0px 1px 3px 1px rgba(60, 64, 67, 0.15);\n",
              "      fill: #174EA6;\n",
              "    }\n",
              "\n",
              "    [theme=dark] .colab-df-convert {\n",
              "      background-color: #3B4455;\n",
              "      fill: #D2E3FC;\n",
              "    }\n",
              "\n",
              "    [theme=dark] .colab-df-convert:hover {\n",
              "      background-color: #434B5C;\n",
              "      box-shadow: 0px 1px 3px 1px rgba(0, 0, 0, 0.15);\n",
              "      filter: drop-shadow(0px 1px 2px rgba(0, 0, 0, 0.3));\n",
              "      fill: #FFFFFF;\n",
              "    }\n",
              "  </style>\n",
              "\n",
              "      <script>\n",
              "        const buttonEl =\n",
              "          document.querySelector('#df-d226b72c-8a87-441e-9711-b5944169ed94 button.colab-df-convert');\n",
              "        buttonEl.style.display =\n",
              "          google.colab.kernel.accessAllowed ? 'block' : 'none';\n",
              "\n",
              "        async function convertToInteractive(key) {\n",
              "          const element = document.querySelector('#df-d226b72c-8a87-441e-9711-b5944169ed94');\n",
              "          const dataTable =\n",
              "            await google.colab.kernel.invokeFunction('convertToInteractive',\n",
              "                                                     [key], {});\n",
              "          if (!dataTable) return;\n",
              "\n",
              "          const docLinkHtml = 'Like what you see? Visit the ' +\n",
              "            '<a target=\"_blank\" href=https://colab.research.google.com/notebooks/data_table.ipynb>data table notebook</a>'\n",
              "            + ' to learn more about interactive tables.';\n",
              "          element.innerHTML = '';\n",
              "          dataTable['output_type'] = 'display_data';\n",
              "          await google.colab.output.renderOutput(dataTable, element);\n",
              "          const docLink = document.createElement('div');\n",
              "          docLink.innerHTML = docLinkHtml;\n",
              "          element.appendChild(docLink);\n",
              "        }\n",
              "      </script>\n",
              "    </div>\n",
              "  </div>\n",
              "  "
            ]
          },
          "metadata": {},
          "execution_count": 7
        }
      ],
      "source": [
        "print(df.shape)\n",
        "df.head(5)"
      ]
    },
    {
      "cell_type": "code",
      "execution_count": 8,
      "metadata": {
        "id": "JiJYmZdS17cT",
        "colab": {
          "base_uri": "https://localhost:8080/"
        },
        "outputId": "b66d77d7-b4d9-4efa-f668-d70c2abc0721"
      },
      "outputs": [
        {
          "output_type": "stream",
          "name": "stdout",
          "text": [
            "fear           35438\n",
            "afraid         19448\n",
            "anxious        10561\n",
            "terror         10099\n",
            "calm            9192\n",
            "concerning      8439\n",
            "anxiety         7629\n",
            "frightened      7498\n",
            "horror          7451\n",
            "concerned       7416\n",
            "dread           6722\n",
            "fearful         5134\n",
            "concern         4422\n",
            "peaceful        4043\n",
            "worry           3604\n",
            "fright          3286\n",
            "worried         2691\n",
            "serene          2640\n",
            "panic           2582\n",
            "terrified       2496\n",
            "scared          1997\n",
            "horrified       1697\n",
            "frightening     1035\n",
            "worrying         784\n",
            "angst             12\n",
            "Name: emotion1, dtype: int64\n",
            "fear       73836\n",
            "dread      31047\n",
            "concern    20277\n",
            "anxiety    18202\n",
            "calm       15875\n",
            "worry       7079\n",
            "Name: emotion2, dtype: int64\n"
          ]
        }
      ],
      "source": [
        "#What emotion categories do we have? \n",
        "\n",
        "print(df['emotion1'].value_counts())\n",
        "\n",
        "print(df['emotion2'].value_counts())"
      ]
    },
    {
      "cell_type": "code",
      "execution_count": 9,
      "metadata": {
        "id": "beTlBPtm2I7J"
      },
      "outputs": [],
      "source": [
        "#Relabelling a column... if needed... \n",
        "\n",
        "df.rename(columns={\"emotion2\": \"label\"},inplace =True)"
      ]
    },
    {
      "cell_type": "code",
      "execution_count": 10,
      "metadata": {
        "colab": {
          "base_uri": "https://localhost:8080/"
        },
        "id": "yVBV-5YC2L6X",
        "outputId": "76fb5fb8-a9c4-4371-cf53-09ddfe1c1ce5"
      },
      "outputs": [
        {
          "output_type": "execute_result",
          "data": {
            "text/plain": [
              "Unnamed: 0    0\n",
              "text          0\n",
              "emotion1      0\n",
              "label         0\n",
              "dtype: int64"
            ]
          },
          "metadata": {},
          "execution_count": 10
        }
      ],
      "source": [
        "#Let's see if we have missing values...No missing values... \n",
        "\n",
        "df.isna().sum()"
      ]
    },
    {
      "cell_type": "markdown",
      "metadata": {
        "id": "qY34VTlw2wkw"
      },
      "source": [
        "#Replacing the emotion words in the dataset.. "
      ]
    },
    {
      "cell_type": "code",
      "execution_count": 11,
      "metadata": {
        "id": "kIVlQ2eR2Lq9"
      },
      "outputs": [],
      "source": [
        "#Generate all the unique emotion words that then get replaced... \n",
        "\n",
        "a = df['emotion1'].unique().tolist()\n",
        "\n",
        "#The list a is our list of variable responses from the dataset... \n",
        "\n",
        "words = a\n",
        "for j in words: \n",
        "  df['text'] = df['text'].str.replace(j,'emotions')"
      ]
    },
    {
      "cell_type": "code",
      "execution_count": 12,
      "metadata": {
        "id": "BQW7llsR2L2_"
      },
      "outputs": [],
      "source": [
        "#Shuffling the dataset\n",
        "\n",
        "df = df.sample(frac=1)"
      ]
    },
    {
      "cell_type": "markdown",
      "source": [
        "##Counting total word count - before pre-processing\n",
        "\n"
      ],
      "metadata": {
        "id": "PfgYVPyNM1kH"
      }
    },
    {
      "cell_type": "code",
      "source": [
        "#Counting the word frequency again...\n",
        "#Different variables: df['filtered_text'], df['text_minus1']\n",
        "\n",
        "# convert the text into a list\n",
        "text = df['text'].tolist()\n",
        "\n",
        "# create a Tokenizer object\n",
        "tokenizer = Tokenizer()\n",
        "\n",
        "# fit the tokenizer on the text data\n",
        "tokenizer.fit_on_texts(text)\n",
        "\n",
        "# calculate the vocabulary size\n",
        "vocab_size = len(tokenizer.word_index) + 1\n",
        "\n",
        "#Print the vocab size\n",
        "print(vocab_size)"
      ],
      "metadata": {
        "colab": {
          "base_uri": "https://localhost:8080/"
        },
        "id": "QvFZMJ3SM4d0",
        "outputId": "c60b837f-f9c1-4f4d-af3b-f9e42275f995"
      },
      "execution_count": 13,
      "outputs": [
        {
          "output_type": "stream",
          "name": "stdout",
          "text": [
            "136455\n"
          ]
        }
      ]
    },
    {
      "cell_type": "markdown",
      "metadata": {
        "id": "VCS_938f3Q-7"
      },
      "source": [
        "##Changing string length - subtract off one end...\n",
        "\n",
        "\n"
      ]
    },
    {
      "cell_type": "code",
      "source": [
        "#Cutting a single word off of both ends... \n",
        "\n",
        "def truncate_words(text, n=1):\n",
        "    words = text.split()\n",
        "    return ' '.join(words[n:-n])\n",
        "\n",
        "df['text_minus1'] = df['text'].apply(lambda x: truncate_words(x))"
      ],
      "metadata": {
        "id": "87u23UbbOGpt"
      },
      "execution_count": 14,
      "outputs": []
    },
    {
      "cell_type": "code",
      "execution_count": 15,
      "metadata": {
        "colab": {
          "base_uri": "https://localhost:8080/"
        },
        "id": "zrjHyaUm3Qbl",
        "outputId": "61685d94-6953-443e-8d9f-4a03d4b2ddcc"
      },
      "outputs": [
        {
          "output_type": "stream",
          "name": "stdout",
          "text": [
            "count    166316.000000\n",
            "mean        404.632164\n",
            "std           7.886066\n",
            "min         206.000000\n",
            "25%         402.000000\n",
            "50%         403.000000\n",
            "75%         404.000000\n",
            "max         498.000000\n",
            "Name: text_len, dtype: float64 count    166316.000000\n",
            "mean        395.390233\n",
            "std           8.519220\n",
            "min         190.000000\n",
            "25%         391.000000\n",
            "50%         394.000000\n",
            "75%         397.000000\n",
            "max         488.000000\n",
            "Name: text_minus1_length, dtype: float64\n"
          ]
        }
      ],
      "source": [
        "#Let's create a string length variable...\n",
        "\n",
        "df['text_len'] = df['text'].str.len()\n",
        "df['text_minus1_length'] = df['text_minus1'].str.len()\n",
        "\n",
        "#Now, let's look at the value counts of this... \n",
        "\n",
        "print(df['text_len'].describe(), df['text_minus1_length'].describe())"
      ]
    },
    {
      "cell_type": "markdown",
      "source": [
        "#Checking vocab size after processing"
      ],
      "metadata": {
        "id": "7KItVIv4PZYv"
      }
    },
    {
      "cell_type": "code",
      "source": [
        "#Counting the word frequency again...\n",
        "#Different variables: df['filtered_text'], df['text_minus1']\n",
        "\n",
        "# convert the text into a list\n",
        "text = df['text_minus1'].tolist()\n",
        "\n",
        "# create a Tokenizer object\n",
        "tokenizer = Tokenizer()\n",
        "\n",
        "# fit the tokenizer on the text data\n",
        "tokenizer.fit_on_texts(text)\n",
        "\n",
        "# calculate the vocabulary size\n",
        "vocab_size = len(tokenizer.word_index) + 1\n",
        "\n",
        "#Print the vocab size\n",
        "print(vocab_size)"
      ],
      "metadata": {
        "colab": {
          "base_uri": "https://localhost:8080/"
        },
        "id": "Ajxq529TPHWr",
        "outputId": "d78af22c-1ec1-4c6d-cd70-affaf67579a1"
      },
      "execution_count": 16,
      "outputs": [
        {
          "output_type": "stream",
          "name": "stdout",
          "text": [
            "118965\n"
          ]
        }
      ]
    },
    {
      "cell_type": "markdown",
      "metadata": {
        "id": "0ZZsG81Q8Uzd"
      },
      "source": [
        "# Splitting dataset into train, validate and test datasets\n",
        "---\n",
        "\n",
        "Dec 12: May want to split dataset in half again...to see impact of sample size on training...hypothesis: more data will increase accuracy...with RNN...."
      ]
    },
    {
      "cell_type": "code",
      "execution_count": 17,
      "metadata": {
        "id": "VtS3l_rg8Xkm"
      },
      "outputs": [],
      "source": [
        "#This seems to be hte simplest way to do the 3 way training split...\n",
        "#And then this outputs 3 different dataframes... \n",
        "\n",
        "train, validate, test = np.split(df, \n",
        "                       [int(.6*len(df)), int(.8*len(df))])"
      ]
    },
    {
      "cell_type": "code",
      "execution_count": 18,
      "metadata": {
        "colab": {
          "base_uri": "https://localhost:8080/"
        },
        "id": "bubq_oEq8gj3",
        "outputId": "98aea188-4a9d-49e3-8db8-f6437bd44cc1"
      },
      "outputs": [
        {
          "output_type": "execute_result",
          "data": {
            "text/plain": [
              "(pandas.core.frame.DataFrame,\n",
              " pandas.core.frame.DataFrame,\n",
              " pandas.core.frame.DataFrame)"
            ]
          },
          "metadata": {},
          "execution_count": 18
        }
      ],
      "source": [
        "#Checking to make sure that all three are dataframes... \n",
        "\n",
        "type(train),type(validate),type(test)"
      ]
    },
    {
      "cell_type": "code",
      "execution_count": 19,
      "metadata": {
        "colab": {
          "base_uri": "https://localhost:8080/"
        },
        "id": "9kIsd4amA6Kc",
        "outputId": "66d3faca-6bc4-43a7-9381-beec4b9cd38a"
      },
      "outputs": [
        {
          "output_type": "stream",
          "name": "stdout",
          "text": [
            "(99789, 7)\n"
          ]
        }
      ],
      "source": [
        "#Looking at the dataframe...\n",
        "\n",
        "train.head()\n",
        "print(train.shape)"
      ]
    },
    {
      "cell_type": "markdown",
      "metadata": {
        "id": "tWxTXZIYFGG7"
      },
      "source": [
        "# 6. Preparing the Labels\n",
        "\n",
        "## In terms of sequence, I think this should go right below the dataframe -> List code"
      ]
    },
    {
      "cell_type": "code",
      "execution_count": 20,
      "metadata": {
        "id": "0ZhihM_F_hF7"
      },
      "outputs": [],
      "source": [
        "#Converting the pandas dataframe into a list of labels... \n",
        "\n",
        "trainlabel=train['label'].tolist()\n",
        "vallabel=validate['label'].tolist()\n",
        "testlabel=test['label'].tolist()"
      ]
    },
    {
      "cell_type": "code",
      "execution_count": 21,
      "metadata": {
        "colab": {
          "base_uri": "https://localhost:8080/",
          "height": 283
        },
        "id": "wqUE5EbpFKug",
        "outputId": "f379ad81-238d-4a01-fb55-5546b8a06f72"
      },
      "outputs": [
        {
          "output_type": "stream",
          "name": "stdout",
          "text": [
            "{'fear', 'anxiety', 'worry', 'calm', 'dread', 'concern'}\n"
          ]
        },
        {
          "output_type": "display_data",
          "data": {
            "text/plain": [
              "<Figure size 432x288 with 1 Axes>"
            ],
            "image/png": "[encoded data removed]"
          },
          "metadata": {
            "needs_background": "light"
          }
        }
      ],
      "source": [
        "#Convert the labels into a a set(just unique values) and print them...\n",
        "#Labels is a list... \n",
        "\n",
        "classes = set(trainlabel)\n",
        "print(classes)\n",
        "\n",
        "#What is the distribution of emotions in our literature? Histogram...  \n",
        "#Bins 11 -> number of classifiers, with the number of spaces imbetween...\n",
        "\n",
        "plt.hist(trainlabel, bins=11)\n",
        "plt.show()"
      ]
    },
    {
      "cell_type": "code",
      "source": [
        "#The classes are not in the proper order here...\n",
        "\n",
        "classes"
      ],
      "metadata": {
        "colab": {
          "base_uri": "https://localhost:8080/"
        },
        "id": "ILtkL-neWNwt",
        "outputId": "867f4e44-9241-4ee5-8fff-d92f7bf2fffa"
      },
      "execution_count": 22,
      "outputs": [
        {
          "output_type": "execute_result",
          "data": {
            "text/plain": [
              "{'anxiety', 'calm', 'concern', 'dread', 'fear', 'worry'}"
            ]
          },
          "metadata": {},
          "execution_count": 22
        }
      ]
    },
    {
      "cell_type": "code",
      "source": [
        "#Redo the classes variable with the propoer ordering..\n",
        "\n",
        "classes = ['calm', 'concern', 'worry', 'anxiety', 'fear', 'dread']"
      ],
      "metadata": {
        "id": "y0v2VFklN_y3"
      },
      "execution_count": 23,
      "outputs": []
    },
    {
      "cell_type": "code",
      "execution_count": 24,
      "metadata": {
        "id": "tIWRC5sZFne_"
      },
      "outputs": [],
      "source": [
        "#One thing that ***I don't*** like about this way of doing things is that the ordering of the variables is a bit...!?!\n",
        "\n",
        "classes_to_index = dict((c, i) for i, c in enumerate(classes))\n",
        "index_to_classes = dict((v, k) for k, v in classes_to_index.items())"
      ]
    },
    {
      "cell_type": "code",
      "execution_count": 25,
      "metadata": {
        "colab": {
          "base_uri": "https://localhost:8080/"
        },
        "id": "P1HJWPQrFpb6",
        "outputId": "8827b3a0-63d7-4d33-f6a1-333967eea848"
      },
      "outputs": [
        {
          "output_type": "execute_result",
          "data": {
            "text/plain": [
              "{0: 'calm', 1: 'concern', 2: 'worry', 3: 'anxiety', 4: 'fear', 5: 'dread'}"
            ]
          },
          "metadata": {},
          "execution_count": 25
        }
      ],
      "source": [
        "#This is simply a dictionary -> and it becomes an input into an \n",
        "\n",
        "classes_to_index\n",
        "\n",
        "#Dec 12, I'm not sure what this is supposed to be for.. \n",
        "\n",
        "index_to_classes"
      ]
    },
    {
      "cell_type": "code",
      "execution_count": 26,
      "metadata": {
        "id": "6qWycl4CFxNM"
      },
      "outputs": [],
      "source": [
        "#Creating a lambda function...called \"names_to_ids\"\n",
        "\n",
        "names_to_ids = lambda labels: np.array([classes_to_index.get(x) for x in labels])"
      ]
    },
    {
      "cell_type": "code",
      "execution_count": 27,
      "metadata": {
        "colab": {
          "base_uri": "https://localhost:8080/"
        },
        "id": "cJY-y9VOF1Fc",
        "outputId": "1cad9994-afe2-4491-b358-76f014bc9aa8"
      },
      "outputs": [
        {
          "output_type": "stream",
          "name": "stdout",
          "text": [
            "2\n"
          ]
        }
      ],
      "source": [
        "#Applying the names_to_ids functions to the labels\n",
        "\n",
        "train_labels = names_to_ids(trainlabel)\n",
        "val_labels = names_to_ids(vallabel)\n",
        "test_labels = names_to_ids(testlabel)\n",
        "\n",
        "#Testing out the labels...\n",
        "print(train_labels[10])"
      ]
    },
    {
      "cell_type": "code",
      "execution_count": 28,
      "metadata": {
        "id": "atCwPDd6EMTN"
      },
      "outputs": [],
      "source": [
        "#Dec 13, 2022 - I am getting an error because my x and y are not matching...\n",
        "#train_labels is an ndarray -> 99789... \n",
        "#val_labels is: 33253\n",
        "\n",
        "#val_labels\n"
      ]
    },
    {
      "cell_type": "markdown",
      "metadata": {
        "id": "BdpFa9wHADEt"
      },
      "source": [
        "# 4. Tokenizing the Tweets\n",
        "\n",
        "## I don't know what \"fit on texts\" is supposed to do... \n",
        "\n",
        "See reference [here](https://www.tensorflow.org/api_docs/python/tf/keras/preprocessing/text/Tokenizer)\n"
      ]
    },
    {
      "cell_type": "code",
      "execution_count": 29,
      "metadata": {
        "id": "fXmzPywn--AS"
      },
      "outputs": [],
      "source": [
        "#Converting the different pandas dataframes into a list of text fields...\n",
        "#This is like prime for be\n",
        "traintext=train['text_minus1'].tolist()\n",
        "valtext=validate['text_minus1'].tolist()\n",
        "testtext=test['text_minus1'].tolist()"
      ]
    },
    {
      "cell_type": "code",
      "execution_count": 30,
      "metadata": {
        "colab": {
          "base_uri": "https://localhost:8080/"
        },
        "id": "HqdSl1naGEwL",
        "outputId": "74e63904-0d78-43d9-a583-7eab752c15e4"
      },
      "outputs": [
        {
          "output_type": "stream",
          "name": "stdout",
          "text": [
            "99789\n",
            "33263\n",
            "33264\n"
          ]
        },
        {
          "output_type": "execute_result",
          "data": {
            "text/plain": [
              "(None, None, None)"
            ]
          },
          "metadata": {},
          "execution_count": 30
        }
      ],
      "source": [
        "#What's the length of each of these things... \n",
        "\n",
        "print(len(traintext)),print(len(valtext)),print(len(testtext))"
      ]
    },
    {
      "cell_type": "code",
      "execution_count": 31,
      "metadata": {
        "id": "DmrNxvsUAHio"
      },
      "outputs": [],
      "source": [
        "#Input into the tokenizer is a list\n",
        "\n",
        "tokenizer = Tokenizer(num_words=118965, oov_token='<UNK>')\n",
        "\n",
        "#I think that this is the missing piece...I'm not really sure what it does...  \n",
        "\n",
        "tokenizer.fit_on_texts(traintext)\n",
        "#tokenizer.fit_on_texts(valtext)\n",
        "\n",
        "#Testing the tokenization... \n",
        "\n",
        "#print(tokenizer.texts_to_sequences([tweets[10]]))"
      ]
    },
    {
      "cell_type": "markdown",
      "metadata": {
        "id": "EPLJVNZ_AMA4"
      },
      "source": [
        "## 5. Padding and Truncating Sequences\n",
        "\n",
        "See this resource on padding sequence by Keras\n",
        "https://www.tensorflow.org/api_docs/python/tf/keras/utils/pad_sequences"
      ]
    },
    {
      "cell_type": "code",
      "execution_count": 32,
      "metadata": {
        "id": "feqCoDlwARiG"
      },
      "outputs": [],
      "source": [
        "from tensorflow.keras.preprocessing.sequence import pad_sequences"
      ]
    },
    {
      "cell_type": "code",
      "execution_count": 33,
      "metadata": {
        "id": "vvitI3F2ATP0"
      },
      "outputs": [],
      "source": [
        "#Creating a function that tokenizes and pads the sequences...\n",
        "\n",
        "def get_sequences(tokenizer, texts):\n",
        "    sequences = tokenizer.texts_to_sequences(texts)\n",
        "    padded_sequences = pad_sequences(sequences, truncating='post', maxlen=75, padding='post')\n",
        "    return padded_sequences"
      ]
    },
    {
      "cell_type": "code",
      "execution_count": 34,
      "metadata": {
        "id": "IltQHNneAVLj"
      },
      "outputs": [],
      "source": [
        "#Applying the function to tokenize and pad... to all test,validate and test\n",
        "#Syntax: val_sequences = get_sequences(tokenizer, val_tweets)\n",
        "\n",
        "padded_train_sequences = get_sequences(tokenizer, traintext)\n",
        "val_sequence = get_sequences(tokenizer,valtext)\n",
        "test_sequence = get_sequences(tokenizer,testtext)\n"
      ]
    },
    {
      "cell_type": "markdown",
      "metadata": {
        "id": "N1FWFl1uGSeb"
      },
      "source": [
        "# 7. Creating the Model\n",
        "\n",
        "##Dec 7: Look into embedding more... \n",
        "\n",
        "\n",
        "1.   What is the 2nd argument in it? Words, X and input length...\n",
        "2.   List item\n"
      ]
    },
    {
      "cell_type": "code",
      "execution_count": 35,
      "metadata": {
        "colab": {
          "base_uri": "https://localhost:8080/"
        },
        "id": "8UWfWEYAGVgx",
        "outputId": "4d5b4c5d-4480-446a-9c13-f2347017b463"
      },
      "outputs": [
        {
          "output_type": "stream",
          "name": "stdout",
          "text": [
            "Model: \"sequential\"\n",
            "_________________________________________________________________\n",
            " Layer (type)                Output Shape              Param #   \n",
            "=================================================================\n",
            " embedding (Embedding)       (None, 75, 200)           23793000  \n",
            "                                                                 \n",
            " bidirectional (Bidirectiona  (None, 75, 400)          641600    \n",
            " l)                                                              \n",
            "                                                                 \n",
            " bidirectional_1 (Bidirectio  (None, 400)              961600    \n",
            " nal)                                                            \n",
            "                                                                 \n",
            " dense (Dense)               (None, 6)                 2406      \n",
            "                                                                 \n",
            "=================================================================\n",
            "Total params: 25,398,606\n",
            "Trainable params: 25,398,606\n",
            "Non-trainable params: 0\n",
            "_________________________________________________________________\n"
          ]
        }
      ],
      "source": [
        "#I think that the embedding layer works on the number of words... \n",
        "#\n",
        "\n",
        "model = tf.keras.models.Sequential([\n",
        "    tf.keras.layers.Embedding(118965, 200, input_length=75),\n",
        "    tf.keras.layers.Bidirectional(tf.keras.layers.LSTM(200, return_sequences=True)),\n",
        "    tf.keras.layers.Bidirectional(tf.keras.layers.LSTM(200)),\n",
        "    tf.keras.layers.Dense(6, activation='softmax')\n",
        "])\n",
        "\n",
        "model.compile(\n",
        "    loss='sparse_categorical_crossentropy',\n",
        "    optimizer='adam',\n",
        "    metrics=['accuracy']\n",
        ")\n",
        "\n",
        "model.summary()"
      ]
    },
    {
      "cell_type": "markdown",
      "metadata": {
        "id": "JYLOSNwZGqqF"
      },
      "source": [
        "## 8. Training the Model"
      ]
    },
    {
      "cell_type": "code",
      "execution_count": 36,
      "metadata": {
        "colab": {
          "base_uri": "https://localhost:8080/"
        },
        "id": "N6B28KLxGtlT",
        "outputId": "fd2b11a3-e8c4-48c6-c9fb-b3e116e8eaa9"
      },
      "outputs": [
        {
          "output_type": "stream",
          "name": "stdout",
          "text": [
            "Epoch 1/5\n",
            "3119/3119 [==============================] - 121s 35ms/step - loss: 1.0776 - accuracy: 0.5968 - val_loss: 0.8132 - val_accuracy: 0.7049\n",
            "Epoch 2/5\n",
            "3119/3119 [==============================] - 86s 28ms/step - loss: 0.6219 - accuracy: 0.7751 - val_loss: 0.6995 - val_accuracy: 0.7451\n",
            "Epoch 3/5\n",
            "3119/3119 [==============================] - 85s 27ms/step - loss: 0.3498 - accuracy: 0.8789 - val_loss: 0.7940 - val_accuracy: 0.7390\n",
            "Epoch 4/5\n",
            "3119/3119 [==============================] - 85s 27ms/step - loss: 0.1663 - accuracy: 0.9442 - val_loss: 0.9540 - val_accuracy: 0.7318\n"
          ]
        }
      ],
      "source": [
        "#Having the callbacks option on means that the model stops once you are like over-generalizing... \n",
        "#Let's leave the callback option on for now...\n",
        "\n",
        "\n",
        "h = model.fit(\n",
        "    padded_train_sequences, train_labels,\n",
        "    validation_data=(val_sequence, val_labels),\n",
        "    epochs=5,\n",
        "    callbacks=[\n",
        "        tf.keras.callbacks.EarlyStopping(monitor='val_accuracy', patience=2)\n",
        "   ]\n",
        ")"
      ]
    },
    {
      "cell_type": "markdown",
      "metadata": {
        "id": "g-5Zxtm3U3kH"
      },
      "source": [
        "#9. Evaluating the model "
      ]
    },
    {
      "cell_type": "code",
      "execution_count": 37,
      "metadata": {
        "colab": {
          "base_uri": "https://localhost:8080/",
          "height": 392
        },
        "id": "obidyH6VU99S",
        "outputId": "0e228a79-b87b-4a4b-bb44-b79cd4eab9a4"
      },
      "outputs": [
        {
          "output_type": "display_data",
          "data": {
            "text/plain": [
              "<Figure size 1152x432 with 2 Axes>"
            ],
            "image/png": "[encoded data removed]"
          },
          "metadata": {
            "needs_background": "light"
          }
        }
      ],
      "source": [
        "def show_history(h):\n",
        "    epochs_trained = len(h.history['loss'])\n",
        "    plt.figure(figsize=(16, 6))\n",
        "\n",
        "    plt.subplot(1, 2, 1)\n",
        "    plt.plot(range(0, epochs_trained), h.history.get('accuracy'), label='Training')\n",
        "    plt.plot(range(0, epochs_trained), h.history.get('val_accuracy'), label='Validation')\n",
        "    plt.ylim([0., 1.])\n",
        "    plt.xlabel('Epochs')\n",
        "    plt.ylabel('Accuracy')\n",
        "    plt.legend()\n",
        "\n",
        "    plt.subplot(1, 2, 2)\n",
        "    plt.plot(range(0, epochs_trained), h.history.get('loss'), label='Training')\n",
        "    plt.plot(range(0, epochs_trained), h.history.get('val_loss'), label='Validation')\n",
        "    plt.xlabel('Epochs')\n",
        "    plt.ylabel('Loss')\n",
        "    plt.legend()\n",
        "    plt.show()\n",
        "\n",
        "show_history(h)"
      ]
    },
    {
      "cell_type": "code",
      "execution_count": 38,
      "metadata": {
        "colab": {
          "base_uri": "https://localhost:8080/"
        },
        "id": "GZz-Z123VBCQ",
        "outputId": "77595b71-3bc1-45e2-adf3-700a0e3599ca"
      },
      "outputs": [
        {
          "output_type": "stream",
          "name": "stdout",
          "text": [
            "1040/1040 [==============================] - 9s 9ms/step - loss: 0.9281 - accuracy: 0.7374\n"
          ]
        }
      ],
      "source": [
        "#Running the model on the test sequence and test labels... \n",
        "\n",
        "eval = model.evaluate(test_sequence, test_labels)"
      ]
    },
    {
      "cell_type": "code",
      "execution_count": 39,
      "metadata": {
        "id": "LEwvckEyVP8Q",
        "colab": {
          "base_uri": "https://localhost:8080/"
        },
        "outputId": "82a4fc30-ea3b-45f2-f299-ec2e4be2c006"
      },
      "outputs": [
        {
          "output_type": "stream",
          "name": "stdout",
          "text": [
            "1040/1040 [==============================] - 9s 7ms/step\n"
          ]
        },
        {
          "output_type": "execute_result",
          "data": {
            "text/plain": [
              "((33264, 6), (33264,))"
            ]
          },
          "metadata": {},
          "execution_count": 39
        }
      ],
      "source": [
        "#preds = model.predict_classes(test_sequences)\n",
        "preds=model.predict(test_sequence) \n",
        "classes_x=np.argmax(preds,axis=1)\n",
        "preds.shape, test_labels.shape"
      ]
    },
    {
      "cell_type": "code",
      "execution_count": 40,
      "metadata": {
        "id": "5Nxq396ni5z6",
        "colab": {
          "base_uri": "https://localhost:8080/",
          "height": 423
        },
        "outputId": "fe9a1dc6-888f-4875-dbba-23013fe29cb1"
      },
      "outputs": [
        {
          "output_type": "execute_result",
          "data": {
            "text/plain": [
              "                                                    data  labels_predicted  \\\n",
              "0      on the people by those whom they esteem their ...                 4   \n",
              "1      you mean to kill yourself said he at last in a...                 4   \n",
              "2      the north i had no proper idea of the wealth r...                 1   \n",
              "3      which is one of the greatest , emotions , emot...                 4   \n",
              "4      begin an argument with him forthwith and set a...                 1   \n",
              "...                                                  ...               ...   \n",
              "33259  small consolation in times of general alarm to...                 3   \n",
              "33260  and then burst out barking like a puppy at the...                 4   \n",
              "33261  with perfect cheerfulness but was emotions abo...                 1   \n",
              "33262  from the canyons and dismayed at that far leng...                 1   \n",
              "33263  s part spoilt all and this was how lisbeth who...                 5   \n",
              "\n",
              "      labels_predicted_marked actual_labels  \n",
              "0                        fear          fear  \n",
              "1                        fear          fear  \n",
              "2                     concern       concern  \n",
              "3                        fear          fear  \n",
              "4                     concern       concern  \n",
              "...                       ...           ...  \n",
              "33259                 anxiety          fear  \n",
              "33260                    fear          fear  \n",
              "33261                 concern       concern  \n",
              "33262                 concern          calm  \n",
              "33263                   dread       anxiety  \n",
              "\n",
              "[33264 rows x 4 columns]"
            ],
            "text/html": [
              "\n",
              "  <div id=\"df-2df4a9ae-2f38-477d-adae-60c681c8f80e\">\n",
              "    <div class=\"colab-df-container\">\n",
              "      <div>\n",
              "<style scoped>\n",
              "    .dataframe tbody tr th:only-of-type {\n",
              "        vertical-align: middle;\n",
              "    }\n",
              "\n",
              "    .dataframe tbody tr th {\n",
              "        vertical-align: top;\n",
              "    }\n",
              "\n",
              "    .dataframe thead th {\n",
              "        text-align: right;\n",
              "    }\n",
              "</style>\n",
              "<table border=\"1\" class=\"dataframe\">\n",
              "  <thead>\n",
              "    <tr style=\"text-align: right;\">\n",
              "      <th></th>\n",
              "      <th>data</th>\n",
              "      <th>labels_predicted</th>\n",
              "      <th>labels_predicted_marked</th>\n",
              "      <th>actual_labels</th>\n",
              "    </tr>\n",
              "  </thead>\n",
              "  <tbody>\n",
              "    <tr>\n",
              "      <th>0</th>\n",
              "      <td>on the people by those whom they esteem their ...</td>\n",
              "      <td>4</td>\n",
              "      <td>fear</td>\n",
              "      <td>fear</td>\n",
              "    </tr>\n",
              "    <tr>\n",
              "      <th>1</th>\n",
              "      <td>you mean to kill yourself said he at last in a...</td>\n",
              "      <td>4</td>\n",
              "      <td>fear</td>\n",
              "      <td>fear</td>\n",
              "    </tr>\n",
              "    <tr>\n",
              "      <th>2</th>\n",
              "      <td>the north i had no proper idea of the wealth r...</td>\n",
              "      <td>1</td>\n",
              "      <td>concern</td>\n",
              "      <td>concern</td>\n",
              "    </tr>\n",
              "    <tr>\n",
              "      <th>3</th>\n",
              "      <td>which is one of the greatest , emotions , emot...</td>\n",
              "      <td>4</td>\n",
              "      <td>fear</td>\n",
              "      <td>fear</td>\n",
              "    </tr>\n",
              "    <tr>\n",
              "      <th>4</th>\n",
              "      <td>begin an argument with him forthwith and set a...</td>\n",
              "      <td>1</td>\n",
              "      <td>concern</td>\n",
              "      <td>concern</td>\n",
              "    </tr>\n",
              "    <tr>\n",
              "      <th>...</th>\n",
              "      <td>...</td>\n",
              "      <td>...</td>\n",
              "      <td>...</td>\n",
              "      <td>...</td>\n",
              "    </tr>\n",
              "    <tr>\n",
              "      <th>33259</th>\n",
              "      <td>small consolation in times of general alarm to...</td>\n",
              "      <td>3</td>\n",
              "      <td>anxiety</td>\n",
              "      <td>fear</td>\n",
              "    </tr>\n",
              "    <tr>\n",
              "      <th>33260</th>\n",
              "      <td>and then burst out barking like a puppy at the...</td>\n",
              "      <td>4</td>\n",
              "      <td>fear</td>\n",
              "      <td>fear</td>\n",
              "    </tr>\n",
              "    <tr>\n",
              "      <th>33261</th>\n",
              "      <td>with perfect cheerfulness but was emotions abo...</td>\n",
              "      <td>1</td>\n",
              "      <td>concern</td>\n",
              "      <td>concern</td>\n",
              "    </tr>\n",
              "    <tr>\n",
              "      <th>33262</th>\n",
              "      <td>from the canyons and dismayed at that far leng...</td>\n",
              "      <td>1</td>\n",
              "      <td>concern</td>\n",
              "      <td>calm</td>\n",
              "    </tr>\n",
              "    <tr>\n",
              "      <th>33263</th>\n",
              "      <td>s part spoilt all and this was how lisbeth who...</td>\n",
              "      <td>5</td>\n",
              "      <td>dread</td>\n",
              "      <td>anxiety</td>\n",
              "    </tr>\n",
              "  </tbody>\n",
              "</table>\n",
              "<p>33264 rows × 4 columns</p>\n",
              "</div>\n",
              "      <button class=\"colab-df-convert\" onclick=\"convertToInteractive('df-2df4a9ae-2f38-477d-adae-60c681c8f80e')\"\n",
              "              title=\"Convert this dataframe to an interactive table.\"\n",
              "              style=\"display:none;\">\n",
              "        \n",
              "  <svg xmlns=\"http://www.w3.org/2000/svg\" height=\"24px\"viewBox=\"0 0 24 24\"\n",
              "       width=\"24px\">\n",
              "    <path d=\"M0 0h24v24H0V0z\" fill=\"none\"/>\n",
              "    <path d=\"M18.56 5.44l.94 2.06.94-2.06 2.06-.94-2.06-.94-.94-2.06-.94 2.06-2.06.94zm-11 1L8.5 8.5l.94-2.06 2.06-.94-2.06-.94L8.5 2.5l-.94 2.06-2.06.94zm10 10l.94 2.06.94-2.06 2.06-.94-2.06-.94-.94-2.06-.94 2.06-2.06.94z\"/><path d=\"M17.41 7.96l-1.37-1.37c-.4-.4-.92-.59-1.43-.59-.52 0-1.04.2-1.43.59L10.3 9.45l-7.72 7.72c-.78.78-.78 2.05 0 2.83L4 21.41c.39.39.9.59 1.41.59.51 0 1.02-.2 1.41-.59l7.78-7.78 2.81-2.81c.8-.78.8-2.07 0-2.86zM5.41 20L4 18.59l7.72-7.72 1.47 1.35L5.41 20z\"/>\n",
              "  </svg>\n",
              "      </button>\n",
              "      \n",
              "  <style>\n",
              "    .colab-df-container {\n",
              "      display:flex;\n",
              "      flex-wrap:wrap;\n",
              "      gap: 12px;\n",
              "    }\n",
              "\n",
              "    .colab-df-convert {\n",
              "      background-color: #E8F0FE;\n",
              "      border: none;\n",
              "      border-radius: 50%;\n",
              "      cursor: pointer;\n",
              "      display: none;\n",
              "      fill: #1967D2;\n",
              "      height: 32px;\n",
              "      padding: 0 0 0 0;\n",
              "      width: 32px;\n",
              "    }\n",
              "\n",
              "    .colab-df-convert:hover {\n",
              "      background-color: #E2EBFA;\n",
              "      box-shadow: 0px 1px 2px rgba(60, 64, 67, 0.3), 0px 1px 3px 1px rgba(60, 64, 67, 0.15);\n",
              "      fill: #174EA6;\n",
              "    }\n",
              "\n",
              "    [theme=dark] .colab-df-convert {\n",
              "      background-color: #3B4455;\n",
              "      fill: #D2E3FC;\n",
              "    }\n",
              "\n",
              "    [theme=dark] .colab-df-convert:hover {\n",
              "      background-color: #434B5C;\n",
              "      box-shadow: 0px 1px 3px 1px rgba(0, 0, 0, 0.15);\n",
              "      filter: drop-shadow(0px 1px 2px rgba(0, 0, 0, 0.3));\n",
              "      fill: #FFFFFF;\n",
              "    }\n",
              "  </style>\n",
              "\n",
              "      <script>\n",
              "        const buttonEl =\n",
              "          document.querySelector('#df-2df4a9ae-2f38-477d-adae-60c681c8f80e button.colab-df-convert');\n",
              "        buttonEl.style.display =\n",
              "          google.colab.kernel.accessAllowed ? 'block' : 'none';\n",
              "\n",
              "        async function convertToInteractive(key) {\n",
              "          const element = document.querySelector('#df-2df4a9ae-2f38-477d-adae-60c681c8f80e');\n",
              "          const dataTable =\n",
              "            await google.colab.kernel.invokeFunction('convertToInteractive',\n",
              "                                                     [key], {});\n",
              "          if (!dataTable) return;\n",
              "\n",
              "          const docLinkHtml = 'Like what you see? Visit the ' +\n",
              "            '<a target=\"_blank\" href=https://colab.research.google.com/notebooks/data_table.ipynb>data table notebook</a>'\n",
              "            + ' to learn more about interactive tables.';\n",
              "          element.innerHTML = '';\n",
              "          dataTable['output_type'] = 'display_data';\n",
              "          await google.colab.output.renderOutput(dataTable, element);\n",
              "          const docLink = document.createElement('div');\n",
              "          docLink.innerHTML = docLinkHtml;\n",
              "          element.appendChild(docLink);\n",
              "        }\n",
              "      </script>\n",
              "    </div>\n",
              "  </div>\n",
              "  "
            ]
          },
          "metadata": {},
          "execution_count": 40
        }
      ],
      "source": [
        "inf_df=pd.DataFrame({\n",
        "    'data':testtext,\n",
        "    \"labels_predicted\": classes_x                    \n",
        "})\n",
        "inf_df[\"labels_predicted_marked\"]=inf_df['labels_predicted'].apply(lambda x: index_to_classes[x])\n",
        "inf_df[\"actual_labels\"]=testlabel\n",
        "inf_df"
      ]
    },
    {
      "cell_type": "code",
      "execution_count": 41,
      "metadata": {
        "id": "tI339dBilpHp",
        "colab": {
          "base_uri": "https://localhost:8080/",
          "height": 423
        },
        "outputId": "87a53ae7-b6d3-47da-f527-9e315ebf804f"
      },
      "outputs": [
        {
          "output_type": "execute_result",
          "data": {
            "text/plain": [
              "                                                    data  labels_predicted  \\\n",
              "0      on the people by those whom they esteem their ...                 4   \n",
              "1      you mean to kill yourself said he at last in a...                 4   \n",
              "2      the north i had no proper idea of the wealth r...                 1   \n",
              "3      which is one of the greatest , emotions , emot...                 4   \n",
              "4      begin an argument with him forthwith and set a...                 1   \n",
              "...                                                  ...               ...   \n",
              "33259  small consolation in times of general alarm to...                 3   \n",
              "33260  and then burst out barking like a puppy at the...                 4   \n",
              "33261  with perfect cheerfulness but was emotions abo...                 1   \n",
              "33262  from the canyons and dismayed at that far leng...                 1   \n",
              "33263  s part spoilt all and this was how lisbeth who...                 5   \n",
              "\n",
              "      labels_predicted_marked actual_labels  actual_label_index  \n",
              "0                        fear          fear                   4  \n",
              "1                        fear          fear                   4  \n",
              "2                     concern       concern                   1  \n",
              "3                        fear          fear                   4  \n",
              "4                     concern       concern                   1  \n",
              "...                       ...           ...                 ...  \n",
              "33259                 anxiety          fear                   4  \n",
              "33260                    fear          fear                   4  \n",
              "33261                 concern       concern                   1  \n",
              "33262                 concern          calm                   0  \n",
              "33263                   dread       anxiety                   3  \n",
              "\n",
              "[33264 rows x 5 columns]"
            ],
            "text/html": [
              "\n",
              "  <div id=\"df-a5175f9e-dc8b-4f7f-997b-04e1f2ab43d4\">\n",
              "    <div class=\"colab-df-container\">\n",
              "      <div>\n",
              "<style scoped>\n",
              "    .dataframe tbody tr th:only-of-type {\n",
              "        vertical-align: middle;\n",
              "    }\n",
              "\n",
              "    .dataframe tbody tr th {\n",
              "        vertical-align: top;\n",
              "    }\n",
              "\n",
              "    .dataframe thead th {\n",
              "        text-align: right;\n",
              "    }\n",
              "</style>\n",
              "<table border=\"1\" class=\"dataframe\">\n",
              "  <thead>\n",
              "    <tr style=\"text-align: right;\">\n",
              "      <th></th>\n",
              "      <th>data</th>\n",
              "      <th>labels_predicted</th>\n",
              "      <th>labels_predicted_marked</th>\n",
              "      <th>actual_labels</th>\n",
              "      <th>actual_label_index</th>\n",
              "    </tr>\n",
              "  </thead>\n",
              "  <tbody>\n",
              "    <tr>\n",
              "      <th>0</th>\n",
              "      <td>on the people by those whom they esteem their ...</td>\n",
              "      <td>4</td>\n",
              "      <td>fear</td>\n",
              "      <td>fear</td>\n",
              "      <td>4</td>\n",
              "    </tr>\n",
              "    <tr>\n",
              "      <th>1</th>\n",
              "      <td>you mean to kill yourself said he at last in a...</td>\n",
              "      <td>4</td>\n",
              "      <td>fear</td>\n",
              "      <td>fear</td>\n",
              "      <td>4</td>\n",
              "    </tr>\n",
              "    <tr>\n",
              "      <th>2</th>\n",
              "      <td>the north i had no proper idea of the wealth r...</td>\n",
              "      <td>1</td>\n",
              "      <td>concern</td>\n",
              "      <td>concern</td>\n",
              "      <td>1</td>\n",
              "    </tr>\n",
              "    <tr>\n",
              "      <th>3</th>\n",
              "      <td>which is one of the greatest , emotions , emot...</td>\n",
              "      <td>4</td>\n",
              "      <td>fear</td>\n",
              "      <td>fear</td>\n",
              "      <td>4</td>\n",
              "    </tr>\n",
              "    <tr>\n",
              "      <th>4</th>\n",
              "      <td>begin an argument with him forthwith and set a...</td>\n",
              "      <td>1</td>\n",
              "      <td>concern</td>\n",
              "      <td>concern</td>\n",
              "      <td>1</td>\n",
              "    </tr>\n",
              "    <tr>\n",
              "      <th>...</th>\n",
              "      <td>...</td>\n",
              "      <td>...</td>\n",
              "      <td>...</td>\n",
              "      <td>...</td>\n",
              "      <td>...</td>\n",
              "    </tr>\n",
              "    <tr>\n",
              "      <th>33259</th>\n",
              "      <td>small consolation in times of general alarm to...</td>\n",
              "      <td>3</td>\n",
              "      <td>anxiety</td>\n",
              "      <td>fear</td>\n",
              "      <td>4</td>\n",
              "    </tr>\n",
              "    <tr>\n",
              "      <th>33260</th>\n",
              "      <td>and then burst out barking like a puppy at the...</td>\n",
              "      <td>4</td>\n",
              "      <td>fear</td>\n",
              "      <td>fear</td>\n",
              "      <td>4</td>\n",
              "    </tr>\n",
              "    <tr>\n",
              "      <th>33261</th>\n",
              "      <td>with perfect cheerfulness but was emotions abo...</td>\n",
              "      <td>1</td>\n",
              "      <td>concern</td>\n",
              "      <td>concern</td>\n",
              "      <td>1</td>\n",
              "    </tr>\n",
              "    <tr>\n",
              "      <th>33262</th>\n",
              "      <td>from the canyons and dismayed at that far leng...</td>\n",
              "      <td>1</td>\n",
              "      <td>concern</td>\n",
              "      <td>calm</td>\n",
              "      <td>0</td>\n",
              "    </tr>\n",
              "    <tr>\n",
              "      <th>33263</th>\n",
              "      <td>s part spoilt all and this was how lisbeth who...</td>\n",
              "      <td>5</td>\n",
              "      <td>dread</td>\n",
              "      <td>anxiety</td>\n",
              "      <td>3</td>\n",
              "    </tr>\n",
              "  </tbody>\n",
              "</table>\n",
              "<p>33264 rows × 5 columns</p>\n",
              "</div>\n",
              "      <button class=\"colab-df-convert\" onclick=\"convertToInteractive('df-a5175f9e-dc8b-4f7f-997b-04e1f2ab43d4')\"\n",
              "              title=\"Convert this dataframe to an interactive table.\"\n",
              "              style=\"display:none;\">\n",
              "        \n",
              "  <svg xmlns=\"http://www.w3.org/2000/svg\" height=\"24px\"viewBox=\"0 0 24 24\"\n",
              "       width=\"24px\">\n",
              "    <path d=\"M0 0h24v24H0V0z\" fill=\"none\"/>\n",
              "    <path d=\"M18.56 5.44l.94 2.06.94-2.06 2.06-.94-2.06-.94-.94-2.06-.94 2.06-2.06.94zm-11 1L8.5 8.5l.94-2.06 2.06-.94-2.06-.94L8.5 2.5l-.94 2.06-2.06.94zm10 10l.94 2.06.94-2.06 2.06-.94-2.06-.94-.94-2.06-.94 2.06-2.06.94z\"/><path d=\"M17.41 7.96l-1.37-1.37c-.4-.4-.92-.59-1.43-.59-.52 0-1.04.2-1.43.59L10.3 9.45l-7.72 7.72c-.78.78-.78 2.05 0 2.83L4 21.41c.39.39.9.59 1.41.59.51 0 1.02-.2 1.41-.59l7.78-7.78 2.81-2.81c.8-.78.8-2.07 0-2.86zM5.41 20L4 18.59l7.72-7.72 1.47 1.35L5.41 20z\"/>\n",
              "  </svg>\n",
              "      </button>\n",
              "      \n",
              "  <style>\n",
              "    .colab-df-container {\n",
              "      display:flex;\n",
              "      flex-wrap:wrap;\n",
              "      gap: 12px;\n",
              "    }\n",
              "\n",
              "    .colab-df-convert {\n",
              "      background-color: #E8F0FE;\n",
              "      border: none;\n",
              "      border-radius: 50%;\n",
              "      cursor: pointer;\n",
              "      display: none;\n",
              "      fill: #1967D2;\n",
              "      height: 32px;\n",
              "      padding: 0 0 0 0;\n",
              "      width: 32px;\n",
              "    }\n",
              "\n",
              "    .colab-df-convert:hover {\n",
              "      background-color: #E2EBFA;\n",
              "      box-shadow: 0px 1px 2px rgba(60, 64, 67, 0.3), 0px 1px 3px 1px rgba(60, 64, 67, 0.15);\n",
              "      fill: #174EA6;\n",
              "    }\n",
              "\n",
              "    [theme=dark] .colab-df-convert {\n",
              "      background-color: #3B4455;\n",
              "      fill: #D2E3FC;\n",
              "    }\n",
              "\n",
              "    [theme=dark] .colab-df-convert:hover {\n",
              "      background-color: #434B5C;\n",
              "      box-shadow: 0px 1px 3px 1px rgba(0, 0, 0, 0.15);\n",
              "      filter: drop-shadow(0px 1px 2px rgba(0, 0, 0, 0.3));\n",
              "      fill: #FFFFFF;\n",
              "    }\n",
              "  </style>\n",
              "\n",
              "      <script>\n",
              "        const buttonEl =\n",
              "          document.querySelector('#df-a5175f9e-dc8b-4f7f-997b-04e1f2ab43d4 button.colab-df-convert');\n",
              "        buttonEl.style.display =\n",
              "          google.colab.kernel.accessAllowed ? 'block' : 'none';\n",
              "\n",
              "        async function convertToInteractive(key) {\n",
              "          const element = document.querySelector('#df-a5175f9e-dc8b-4f7f-997b-04e1f2ab43d4');\n",
              "          const dataTable =\n",
              "            await google.colab.kernel.invokeFunction('convertToInteractive',\n",
              "                                                     [key], {});\n",
              "          if (!dataTable) return;\n",
              "\n",
              "          const docLinkHtml = 'Like what you see? Visit the ' +\n",
              "            '<a target=\"_blank\" href=https://colab.research.google.com/notebooks/data_table.ipynb>data table notebook</a>'\n",
              "            + ' to learn more about interactive tables.';\n",
              "          element.innerHTML = '';\n",
              "          dataTable['output_type'] = 'display_data';\n",
              "          await google.colab.output.renderOutput(dataTable, element);\n",
              "          const docLink = document.createElement('div');\n",
              "          docLink.innerHTML = docLinkHtml;\n",
              "          element.appendChild(docLink);\n",
              "        }\n",
              "      </script>\n",
              "    </div>\n",
              "  </div>\n",
              "  "
            ]
          },
          "metadata": {},
          "execution_count": 41
        }
      ],
      "source": [
        "inf_df[\"actual_label_index\"]=inf_df['actual_labels'].apply(lambda x: classes_to_index[x])\n",
        "inf_df\n",
        "\n",
        "#Export this... \n",
        "\n"
      ]
    },
    {
      "cell_type": "code",
      "source": [
        "#Export the csv \n",
        "\n",
        "inf_df.to_csv(\"/content/drive/MyDrive/Sean/Emoclass_Dec2022/fear_error_69acc_Feb15,2023.csv\")"
      ],
      "metadata": {
        "id": "TsBMJq2-GtaM"
      },
      "execution_count": 42,
      "outputs": []
    },
    {
      "cell_type": "code",
      "execution_count": 43,
      "metadata": {
        "id": "oaaxmWR9zOLQ",
        "colab": {
          "base_uri": "https://localhost:8080/",
          "height": 1000
        },
        "outputId": "c258fd82-55f9-41b6-dcb5-534c2802d352"
      },
      "outputs": [
        {
          "output_type": "execute_result",
          "data": {
            "text/plain": [
              "                                                 data  labels_predicted  \\\n",
              "0   on the people by those whom they esteem their ...                 4   \n",
              "1   you mean to kill yourself said he at last in a...                 4   \n",
              "2   the north i had no proper idea of the wealth r...                 1   \n",
              "3   which is one of the greatest , emotions , emot...                 4   \n",
              "4   begin an argument with him forthwith and set a...                 1   \n",
              "5   influence of religion sanctuary protected them...                 0   \n",
              "6   and the danube without encountering any opposi...                 5   \n",
              "7   and so subdued and seemed to put such trust an...                 4   \n",
              "8   an incoherent muttering of baby talk as he bor...                 5   \n",
              "9   blessing him harris said he should judge there...                 4   \n",
              "10  the barren doom of scepticism otherwise the st...                 1   \n",
              "11  before you for a shield thus treat you war thu...                 0   \n",
              "12  soon as the child perceived the queen he escap...                 0   \n",
              "13  that is less matter but i have not scope enoug...                 0   \n",
              "14  like me a little bit ida gave a cry of emotion...                 4   \n",
              "15  and hung himself on an iron hook immediately b...                 5   \n",
              "16  kicks an unconscious man in the face i know th...                 5   \n",
              "17  she lowered her eyes again on her book and aft...                 4   \n",
              "18  know your plans what are they orgon i shall do...                 4   \n",
              "19  than himself when she was returned to the sile...                 3   \n",
              "20  river he drove across the watery waste propell...                 4   \n",
              "21  accepted the slip of paper gingerly and in tur...                 3   \n",
              "22  do you conceive is , emotions , emotions 1122 ...                 3   \n",
              "23  rogue shak syn cutting caustic poignant sarcas...                 5   \n",
              "24  too of the question croisette put to him does ...                 3   \n",
              "25  her heart was faint for telling to relate her ...                 5   \n",
              "26  while one or two pretty little girls stand sti...                 3   \n",
              "27  all i tasted every variety and shade of schram...                 4   \n",
              "28  your ideas grow to clash with those held by ev...                 5   \n",
              "29  which every one missed him providentially and ...                 3   \n",
              "30  and it is confidently thought never will maste...                 4   \n",
              "31  and that none of his galleys or vessels of war...                 5   \n",
              "32  talma actor his soiree tannery of human skins ...                 0   \n",
              "33  my journey i saw it it was so near me and yet ...                 3   \n",
              "34  hand i wept our fathers told us lord that thou...                 5   \n",
              "35  this be he is leading us to he felt emotionsfu...                 4   \n",
              "36  very quick and thought they might as well put ...                 4   \n",
              "37  try as i might i could find nothing very dange...                 4   \n",
              "38  linda judge whiting promised me that what use ...                 1   \n",
              "39  there and borne them along with it as it blew ...                 5   \n",
              "40  town but however watchful the curiosity of the...                 0   \n",
              "41  on the point of crying at her you hear them th...                 5   \n",
              "42  in her room chapter vi sam did not wait until ...                 0   \n",
              "43  brought in the company sit down trumpets sound...                 5   \n",
              "44  emerged from the dark forest into the smooth s...                 4   \n",
              "45  village elders treat one to tea in the tavern ...                 4   \n",
              "46  is mortgaged and i m shot if i can see how we ...                 4   \n",
              "47  modes in your clay there are who by abasement ...                 4   \n",
              "48  forgive me i have been so emotions when you fe...                 3   \n",
              "49  claims of our friends or the opinion of the wo...                 4   \n",
              "\n",
              "   labels_predicted_marked actual_labels  actual_label_index  \n",
              "0                     fear          fear                   4  \n",
              "1                     fear          fear                   4  \n",
              "2                  concern       concern                   1  \n",
              "3                     fear          fear                   4  \n",
              "4                  concern       concern                   1  \n",
              "5                     calm          calm                   0  \n",
              "6                    dread          fear                   4  \n",
              "7                     fear          fear                   4  \n",
              "8                    dread         dread                   5  \n",
              "9                     fear          fear                   4  \n",
              "10                 concern       concern                   1  \n",
              "11                    calm          fear                   4  \n",
              "12                    calm          calm                   0  \n",
              "13                    calm          fear                   4  \n",
              "14                    fear          fear                   4  \n",
              "15                   dread         dread                   5  \n",
              "16                   dread          fear                   4  \n",
              "17                    fear          fear                   4  \n",
              "18                    fear          fear                   4  \n",
              "19                 anxiety       anxiety                   3  \n",
              "20                    fear          fear                   4  \n",
              "21                 anxiety       concern                   1  \n",
              "22                 anxiety       anxiety                   3  \n",
              "23                   dread         dread                   5  \n",
              "24                 anxiety       anxiety                   3  \n",
              "25                   dread         dread                   5  \n",
              "26                 anxiety       anxiety                   3  \n",
              "27                    fear          fear                   4  \n",
              "28                   dread         dread                   5  \n",
              "29                 anxiety          fear                   4  \n",
              "30                    fear         dread                   5  \n",
              "31                   dread          fear                   4  \n",
              "32                    calm         dread                   5  \n",
              "33                 anxiety          fear                   4  \n",
              "34                   dread          fear                   4  \n",
              "35                    fear          fear                   4  \n",
              "36                    fear         worry                   2  \n",
              "37                    fear         worry                   2  \n",
              "38                 concern         worry                   2  \n",
              "39                   dread         dread                   5  \n",
              "40                    calm          calm                   0  \n",
              "41                   dread         dread                   5  \n",
              "42                    calm          calm                   0  \n",
              "43                   dread         dread                   5  \n",
              "44                    fear          fear                   4  \n",
              "45                    fear          fear                   4  \n",
              "46                    fear          fear                   4  \n",
              "47                    fear          fear                   4  \n",
              "48                 anxiety       anxiety                   3  \n",
              "49                    fear          fear                   4  "
            ],
            "text/html": [
              "\n",
              "  <div id=\"df-5a816045-3378-4523-80a5-a2e7f0587248\">\n",
              "    <div class=\"colab-df-container\">\n",
              "      <div>\n",
              "<style scoped>\n",
              "    .dataframe tbody tr th:only-of-type {\n",
              "        vertical-align: middle;\n",
              "    }\n",
              "\n",
              "    .dataframe tbody tr th {\n",
              "        vertical-align: top;\n",
              "    }\n",
              "\n",
              "    .dataframe thead th {\n",
              "        text-align: right;\n",
              "    }\n",
              "</style>\n",
              "<table border=\"1\" class=\"dataframe\">\n",
              "  <thead>\n",
              "    <tr style=\"text-align: right;\">\n",
              "      <th></th>\n",
              "      <th>data</th>\n",
              "      <th>labels_predicted</th>\n",
              "      <th>labels_predicted_marked</th>\n",
              "      <th>actual_labels</th>\n",
              "      <th>actual_label_index</th>\n",
              "    </tr>\n",
              "  </thead>\n",
              "  <tbody>\n",
              "    <tr>\n",
              "      <th>0</th>\n",
              "      <td>on the people by those whom they esteem their ...</td>\n",
              "      <td>4</td>\n",
              "      <td>fear</td>\n",
              "      <td>fear</td>\n",
              "      <td>4</td>\n",
              "    </tr>\n",
              "    <tr>\n",
              "      <th>1</th>\n",
              "      <td>you mean to kill yourself said he at last in a...</td>\n",
              "      <td>4</td>\n",
              "      <td>fear</td>\n",
              "      <td>fear</td>\n",
              "      <td>4</td>\n",
              "    </tr>\n",
              "    <tr>\n",
              "      <th>2</th>\n",
              "      <td>the north i had no proper idea of the wealth r...</td>\n",
              "      <td>1</td>\n",
              "      <td>concern</td>\n",
              "      <td>concern</td>\n",
              "      <td>1</td>\n",
              "    </tr>\n",
              "    <tr>\n",
              "      <th>3</th>\n",
              "      <td>which is one of the greatest , emotions , emot...</td>\n",
              "      <td>4</td>\n",
              "      <td>fear</td>\n",
              "      <td>fear</td>\n",
              "      <td>4</td>\n",
              "    </tr>\n",
              "    <tr>\n",
              "      <th>4</th>\n",
              "      <td>begin an argument with him forthwith and set a...</td>\n",
              "      <td>1</td>\n",
              "      <td>concern</td>\n",
              "      <td>concern</td>\n",
              "      <td>1</td>\n",
              "    </tr>\n",
              "    <tr>\n",
              "      <th>5</th>\n",
              "      <td>influence of religion sanctuary protected them...</td>\n",
              "      <td>0</td>\n",
              "      <td>calm</td>\n",
              "      <td>calm</td>\n",
              "      <td>0</td>\n",
              "    </tr>\n",
              "    <tr>\n",
              "      <th>6</th>\n",
              "      <td>and the danube without encountering any opposi...</td>\n",
              "      <td>5</td>\n",
              "      <td>dread</td>\n",
              "      <td>fear</td>\n",
              "      <td>4</td>\n",
              "    </tr>\n",
              "    <tr>\n",
              "      <th>7</th>\n",
              "      <td>and so subdued and seemed to put such trust an...</td>\n",
              "      <td>4</td>\n",
              "      <td>fear</td>\n",
              "      <td>fear</td>\n",
              "      <td>4</td>\n",
              "    </tr>\n",
              "    <tr>\n",
              "      <th>8</th>\n",
              "      <td>an incoherent muttering of baby talk as he bor...</td>\n",
              "      <td>5</td>\n",
              "      <td>dread</td>\n",
              "      <td>dread</td>\n",
              "      <td>5</td>\n",
              "    </tr>\n",
              "    <tr>\n",
              "      <th>9</th>\n",
              "      <td>blessing him harris said he should judge there...</td>\n",
              "      <td>4</td>\n",
              "      <td>fear</td>\n",
              "      <td>fear</td>\n",
              "      <td>4</td>\n",
              "    </tr>\n",
              "    <tr>\n",
              "      <th>10</th>\n",
              "      <td>the barren doom of scepticism otherwise the st...</td>\n",
              "      <td>1</td>\n",
              "      <td>concern</td>\n",
              "      <td>concern</td>\n",
              "      <td>1</td>\n",
              "    </tr>\n",
              "    <tr>\n",
              "      <th>11</th>\n",
              "      <td>before you for a shield thus treat you war thu...</td>\n",
              "      <td>0</td>\n",
              "      <td>calm</td>\n",
              "      <td>fear</td>\n",
              "      <td>4</td>\n",
              "    </tr>\n",
              "    <tr>\n",
              "      <th>12</th>\n",
              "      <td>soon as the child perceived the queen he escap...</td>\n",
              "      <td>0</td>\n",
              "      <td>calm</td>\n",
              "      <td>calm</td>\n",
              "      <td>0</td>\n",
              "    </tr>\n",
              "    <tr>\n",
              "      <th>13</th>\n",
              "      <td>that is less matter but i have not scope enoug...</td>\n",
              "      <td>0</td>\n",
              "      <td>calm</td>\n",
              "      <td>fear</td>\n",
              "      <td>4</td>\n",
              "    </tr>\n",
              "    <tr>\n",
              "      <th>14</th>\n",
              "      <td>like me a little bit ida gave a cry of emotion...</td>\n",
              "      <td>4</td>\n",
              "      <td>fear</td>\n",
              "      <td>fear</td>\n",
              "      <td>4</td>\n",
              "    </tr>\n",
              "    <tr>\n",
              "      <th>15</th>\n",
              "      <td>and hung himself on an iron hook immediately b...</td>\n",
              "      <td>5</td>\n",
              "      <td>dread</td>\n",
              "      <td>dread</td>\n",
              "      <td>5</td>\n",
              "    </tr>\n",
              "    <tr>\n",
              "      <th>16</th>\n",
              "      <td>kicks an unconscious man in the face i know th...</td>\n",
              "      <td>5</td>\n",
              "      <td>dread</td>\n",
              "      <td>fear</td>\n",
              "      <td>4</td>\n",
              "    </tr>\n",
              "    <tr>\n",
              "      <th>17</th>\n",
              "      <td>she lowered her eyes again on her book and aft...</td>\n",
              "      <td>4</td>\n",
              "      <td>fear</td>\n",
              "      <td>fear</td>\n",
              "      <td>4</td>\n",
              "    </tr>\n",
              "    <tr>\n",
              "      <th>18</th>\n",
              "      <td>know your plans what are they orgon i shall do...</td>\n",
              "      <td>4</td>\n",
              "      <td>fear</td>\n",
              "      <td>fear</td>\n",
              "      <td>4</td>\n",
              "    </tr>\n",
              "    <tr>\n",
              "      <th>19</th>\n",
              "      <td>than himself when she was returned to the sile...</td>\n",
              "      <td>3</td>\n",
              "      <td>anxiety</td>\n",
              "      <td>anxiety</td>\n",
              "      <td>3</td>\n",
              "    </tr>\n",
              "    <tr>\n",
              "      <th>20</th>\n",
              "      <td>river he drove across the watery waste propell...</td>\n",
              "      <td>4</td>\n",
              "      <td>fear</td>\n",
              "      <td>fear</td>\n",
              "      <td>4</td>\n",
              "    </tr>\n",
              "    <tr>\n",
              "      <th>21</th>\n",
              "      <td>accepted the slip of paper gingerly and in tur...</td>\n",
              "      <td>3</td>\n",
              "      <td>anxiety</td>\n",
              "      <td>concern</td>\n",
              "      <td>1</td>\n",
              "    </tr>\n",
              "    <tr>\n",
              "      <th>22</th>\n",
              "      <td>do you conceive is , emotions , emotions 1122 ...</td>\n",
              "      <td>3</td>\n",
              "      <td>anxiety</td>\n",
              "      <td>anxiety</td>\n",
              "      <td>3</td>\n",
              "    </tr>\n",
              "    <tr>\n",
              "      <th>23</th>\n",
              "      <td>rogue shak syn cutting caustic poignant sarcas...</td>\n",
              "      <td>5</td>\n",
              "      <td>dread</td>\n",
              "      <td>dread</td>\n",
              "      <td>5</td>\n",
              "    </tr>\n",
              "    <tr>\n",
              "      <th>24</th>\n",
              "      <td>too of the question croisette put to him does ...</td>\n",
              "      <td>3</td>\n",
              "      <td>anxiety</td>\n",
              "      <td>anxiety</td>\n",
              "      <td>3</td>\n",
              "    </tr>\n",
              "    <tr>\n",
              "      <th>25</th>\n",
              "      <td>her heart was faint for telling to relate her ...</td>\n",
              "      <td>5</td>\n",
              "      <td>dread</td>\n",
              "      <td>dread</td>\n",
              "      <td>5</td>\n",
              "    </tr>\n",
              "    <tr>\n",
              "      <th>26</th>\n",
              "      <td>while one or two pretty little girls stand sti...</td>\n",
              "      <td>3</td>\n",
              "      <td>anxiety</td>\n",
              "      <td>anxiety</td>\n",
              "      <td>3</td>\n",
              "    </tr>\n",
              "    <tr>\n",
              "      <th>27</th>\n",
              "      <td>all i tasted every variety and shade of schram...</td>\n",
              "      <td>4</td>\n",
              "      <td>fear</td>\n",
              "      <td>fear</td>\n",
              "      <td>4</td>\n",
              "    </tr>\n",
              "    <tr>\n",
              "      <th>28</th>\n",
              "      <td>your ideas grow to clash with those held by ev...</td>\n",
              "      <td>5</td>\n",
              "      <td>dread</td>\n",
              "      <td>dread</td>\n",
              "      <td>5</td>\n",
              "    </tr>\n",
              "    <tr>\n",
              "      <th>29</th>\n",
              "      <td>which every one missed him providentially and ...</td>\n",
              "      <td>3</td>\n",
              "      <td>anxiety</td>\n",
              "      <td>fear</td>\n",
              "      <td>4</td>\n",
              "    </tr>\n",
              "    <tr>\n",
              "      <th>30</th>\n",
              "      <td>and it is confidently thought never will maste...</td>\n",
              "      <td>4</td>\n",
              "      <td>fear</td>\n",
              "      <td>dread</td>\n",
              "      <td>5</td>\n",
              "    </tr>\n",
              "    <tr>\n",
              "      <th>31</th>\n",
              "      <td>and that none of his galleys or vessels of war...</td>\n",
              "      <td>5</td>\n",
              "      <td>dread</td>\n",
              "      <td>fear</td>\n",
              "      <td>4</td>\n",
              "    </tr>\n",
              "    <tr>\n",
              "      <th>32</th>\n",
              "      <td>talma actor his soiree tannery of human skins ...</td>\n",
              "      <td>0</td>\n",
              "      <td>calm</td>\n",
              "      <td>dread</td>\n",
              "      <td>5</td>\n",
              "    </tr>\n",
              "    <tr>\n",
              "      <th>33</th>\n",
              "      <td>my journey i saw it it was so near me and yet ...</td>\n",
              "      <td>3</td>\n",
              "      <td>anxiety</td>\n",
              "      <td>fear</td>\n",
              "      <td>4</td>\n",
              "    </tr>\n",
              "    <tr>\n",
              "      <th>34</th>\n",
              "      <td>hand i wept our fathers told us lord that thou...</td>\n",
              "      <td>5</td>\n",
              "      <td>dread</td>\n",
              "      <td>fear</td>\n",
              "      <td>4</td>\n",
              "    </tr>\n",
              "    <tr>\n",
              "      <th>35</th>\n",
              "      <td>this be he is leading us to he felt emotionsfu...</td>\n",
              "      <td>4</td>\n",
              "      <td>fear</td>\n",
              "      <td>fear</td>\n",
              "      <td>4</td>\n",
              "    </tr>\n",
              "    <tr>\n",
              "      <th>36</th>\n",
              "      <td>very quick and thought they might as well put ...</td>\n",
              "      <td>4</td>\n",
              "      <td>fear</td>\n",
              "      <td>worry</td>\n",
              "      <td>2</td>\n",
              "    </tr>\n",
              "    <tr>\n",
              "      <th>37</th>\n",
              "      <td>try as i might i could find nothing very dange...</td>\n",
              "      <td>4</td>\n",
              "      <td>fear</td>\n",
              "      <td>worry</td>\n",
              "      <td>2</td>\n",
              "    </tr>\n",
              "    <tr>\n",
              "      <th>38</th>\n",
              "      <td>linda judge whiting promised me that what use ...</td>\n",
              "      <td>1</td>\n",
              "      <td>concern</td>\n",
              "      <td>worry</td>\n",
              "      <td>2</td>\n",
              "    </tr>\n",
              "    <tr>\n",
              "      <th>39</th>\n",
              "      <td>there and borne them along with it as it blew ...</td>\n",
              "      <td>5</td>\n",
              "      <td>dread</td>\n",
              "      <td>dread</td>\n",
              "      <td>5</td>\n",
              "    </tr>\n",
              "    <tr>\n",
              "      <th>40</th>\n",
              "      <td>town but however watchful the curiosity of the...</td>\n",
              "      <td>0</td>\n",
              "      <td>calm</td>\n",
              "      <td>calm</td>\n",
              "      <td>0</td>\n",
              "    </tr>\n",
              "    <tr>\n",
              "      <th>41</th>\n",
              "      <td>on the point of crying at her you hear them th...</td>\n",
              "      <td>5</td>\n",
              "      <td>dread</td>\n",
              "      <td>dread</td>\n",
              "      <td>5</td>\n",
              "    </tr>\n",
              "    <tr>\n",
              "      <th>42</th>\n",
              "      <td>in her room chapter vi sam did not wait until ...</td>\n",
              "      <td>0</td>\n",
              "      <td>calm</td>\n",
              "      <td>calm</td>\n",
              "      <td>0</td>\n",
              "    </tr>\n",
              "    <tr>\n",
              "      <th>43</th>\n",
              "      <td>brought in the company sit down trumpets sound...</td>\n",
              "      <td>5</td>\n",
              "      <td>dread</td>\n",
              "      <td>dread</td>\n",
              "      <td>5</td>\n",
              "    </tr>\n",
              "    <tr>\n",
              "      <th>44</th>\n",
              "      <td>emerged from the dark forest into the smooth s...</td>\n",
              "      <td>4</td>\n",
              "      <td>fear</td>\n",
              "      <td>fear</td>\n",
              "      <td>4</td>\n",
              "    </tr>\n",
              "    <tr>\n",
              "      <th>45</th>\n",
              "      <td>village elders treat one to tea in the tavern ...</td>\n",
              "      <td>4</td>\n",
              "      <td>fear</td>\n",
              "      <td>fear</td>\n",
              "      <td>4</td>\n",
              "    </tr>\n",
              "    <tr>\n",
              "      <th>46</th>\n",
              "      <td>is mortgaged and i m shot if i can see how we ...</td>\n",
              "      <td>4</td>\n",
              "      <td>fear</td>\n",
              "      <td>fear</td>\n",
              "      <td>4</td>\n",
              "    </tr>\n",
              "    <tr>\n",
              "      <th>47</th>\n",
              "      <td>modes in your clay there are who by abasement ...</td>\n",
              "      <td>4</td>\n",
              "      <td>fear</td>\n",
              "      <td>fear</td>\n",
              "      <td>4</td>\n",
              "    </tr>\n",
              "    <tr>\n",
              "      <th>48</th>\n",
              "      <td>forgive me i have been so emotions when you fe...</td>\n",
              "      <td>3</td>\n",
              "      <td>anxiety</td>\n",
              "      <td>anxiety</td>\n",
              "      <td>3</td>\n",
              "    </tr>\n",
              "    <tr>\n",
              "      <th>49</th>\n",
              "      <td>claims of our friends or the opinion of the wo...</td>\n",
              "      <td>4</td>\n",
              "      <td>fear</td>\n",
              "      <td>fear</td>\n",
              "      <td>4</td>\n",
              "    </tr>\n",
              "  </tbody>\n",
              "</table>\n",
              "</div>\n",
              "      <button class=\"colab-df-convert\" onclick=\"convertToInteractive('df-5a816045-3378-4523-80a5-a2e7f0587248')\"\n",
              "              title=\"Convert this dataframe to an interactive table.\"\n",
              "              style=\"display:none;\">\n",
              "        \n",
              "  <svg xmlns=\"http://www.w3.org/2000/svg\" height=\"24px\"viewBox=\"0 0 24 24\"\n",
              "       width=\"24px\">\n",
              "    <path d=\"M0 0h24v24H0V0z\" fill=\"none\"/>\n",
              "    <path d=\"M18.56 5.44l.94 2.06.94-2.06 2.06-.94-2.06-.94-.94-2.06-.94 2.06-2.06.94zm-11 1L8.5 8.5l.94-2.06 2.06-.94-2.06-.94L8.5 2.5l-.94 2.06-2.06.94zm10 10l.94 2.06.94-2.06 2.06-.94-2.06-.94-.94-2.06-.94 2.06-2.06.94z\"/><path d=\"M17.41 7.96l-1.37-1.37c-.4-.4-.92-.59-1.43-.59-.52 0-1.04.2-1.43.59L10.3 9.45l-7.72 7.72c-.78.78-.78 2.05 0 2.83L4 21.41c.39.39.9.59 1.41.59.51 0 1.02-.2 1.41-.59l7.78-7.78 2.81-2.81c.8-.78.8-2.07 0-2.86zM5.41 20L4 18.59l7.72-7.72 1.47 1.35L5.41 20z\"/>\n",
              "  </svg>\n",
              "      </button>\n",
              "      \n",
              "  <style>\n",
              "    .colab-df-container {\n",
              "      display:flex;\n",
              "      flex-wrap:wrap;\n",
              "      gap: 12px;\n",
              "    }\n",
              "\n",
              "    .colab-df-convert {\n",
              "      background-color: #E8F0FE;\n",
              "      border: none;\n",
              "      border-radius: 50%;\n",
              "      cursor: pointer;\n",
              "      display: none;\n",
              "      fill: #1967D2;\n",
              "      height: 32px;\n",
              "      padding: 0 0 0 0;\n",
              "      width: 32px;\n",
              "    }\n",
              "\n",
              "    .colab-df-convert:hover {\n",
              "      background-color: #E2EBFA;\n",
              "      box-shadow: 0px 1px 2px rgba(60, 64, 67, 0.3), 0px 1px 3px 1px rgba(60, 64, 67, 0.15);\n",
              "      fill: #174EA6;\n",
              "    }\n",
              "\n",
              "    [theme=dark] .colab-df-convert {\n",
              "      background-color: #3B4455;\n",
              "      fill: #D2E3FC;\n",
              "    }\n",
              "\n",
              "    [theme=dark] .colab-df-convert:hover {\n",
              "      background-color: #434B5C;\n",
              "      box-shadow: 0px 1px 3px 1px rgba(0, 0, 0, 0.15);\n",
              "      filter: drop-shadow(0px 1px 2px rgba(0, 0, 0, 0.3));\n",
              "      fill: #FFFFFF;\n",
              "    }\n",
              "  </style>\n",
              "\n",
              "      <script>\n",
              "        const buttonEl =\n",
              "          document.querySelector('#df-5a816045-3378-4523-80a5-a2e7f0587248 button.colab-df-convert');\n",
              "        buttonEl.style.display =\n",
              "          google.colab.kernel.accessAllowed ? 'block' : 'none';\n",
              "\n",
              "        async function convertToInteractive(key) {\n",
              "          const element = document.querySelector('#df-5a816045-3378-4523-80a5-a2e7f0587248');\n",
              "          const dataTable =\n",
              "            await google.colab.kernel.invokeFunction('convertToInteractive',\n",
              "                                                     [key], {});\n",
              "          if (!dataTable) return;\n",
              "\n",
              "          const docLinkHtml = 'Like what you see? Visit the ' +\n",
              "            '<a target=\"_blank\" href=https://colab.research.google.com/notebooks/data_table.ipynb>data table notebook</a>'\n",
              "            + ' to learn more about interactive tables.';\n",
              "          element.innerHTML = '';\n",
              "          dataTable['output_type'] = 'display_data';\n",
              "          await google.colab.output.renderOutput(dataTable, element);\n",
              "          const docLink = document.createElement('div');\n",
              "          docLink.innerHTML = docLinkHtml;\n",
              "          element.appendChild(docLink);\n",
              "        }\n",
              "      </script>\n",
              "    </div>\n",
              "  </div>\n",
              "  "
            ]
          },
          "metadata": {},
          "execution_count": 43
        }
      ],
      "source": [
        "inf_df.head(50)"
      ]
    },
    {
      "cell_type": "code",
      "source": [
        "# marking the corrcet predictions.\n",
        "inf_df['correct_pred']=0 # first assigning all to 0.\n",
        "inf_df.loc[(inf_df['labels_predicted']==inf_df['actual_label_index']),'correct_pred']=1 # labelling 1 if the prediction is right."
      ],
      "metadata": {
        "id": "xayqMLaJRxki"
      },
      "execution_count": 44,
      "outputs": []
    },
    {
      "cell_type": "code",
      "source": [
        "# magnitutde of error\n",
        "inf_df['error_magnitude']=abs(inf_df['labels_predicted']-inf_df['actual_label_index'])"
      ],
      "metadata": {
        "id": "kDE6K_xdZcYR"
      },
      "execution_count": 45,
      "outputs": []
    },
    {
      "cell_type": "code",
      "source": [
        "inf_df.head()"
      ],
      "metadata": {
        "colab": {
          "base_uri": "https://localhost:8080/",
          "height": 250
        },
        "id": "_sIl6Ys6Sv0K",
        "outputId": "1f1265c2-eb96-409c-cc34-fbb3684c9724"
      },
      "execution_count": 46,
      "outputs": [
        {
          "output_type": "execute_result",
          "data": {
            "text/plain": [
              "                                                data  labels_predicted  \\\n",
              "0  on the people by those whom they esteem their ...                 4   \n",
              "1  you mean to kill yourself said he at last in a...                 4   \n",
              "2  the north i had no proper idea of the wealth r...                 1   \n",
              "3  which is one of the greatest , emotions , emot...                 4   \n",
              "4  begin an argument with him forthwith and set a...                 1   \n",
              "\n",
              "  labels_predicted_marked actual_labels  actual_label_index  correct_pred  \\\n",
              "0                    fear          fear                   4             1   \n",
              "1                    fear          fear                   4             1   \n",
              "2                 concern       concern                   1             1   \n",
              "3                    fear          fear                   4             1   \n",
              "4                 concern       concern                   1             1   \n",
              "\n",
              "   error_magnitude  \n",
              "0                0  \n",
              "1                0  \n",
              "2                0  \n",
              "3                0  \n",
              "4                0  "
            ],
            "text/html": [
              "\n",
              "  <div id=\"df-b87d65b3-d08d-4864-a13f-e8894287c18f\">\n",
              "    <div class=\"colab-df-container\">\n",
              "      <div>\n",
              "<style scoped>\n",
              "    .dataframe tbody tr th:only-of-type {\n",
              "        vertical-align: middle;\n",
              "    }\n",
              "\n",
              "    .dataframe tbody tr th {\n",
              "        vertical-align: top;\n",
              "    }\n",
              "\n",
              "    .dataframe thead th {\n",
              "        text-align: right;\n",
              "    }\n",
              "</style>\n",
              "<table border=\"1\" class=\"dataframe\">\n",
              "  <thead>\n",
              "    <tr style=\"text-align: right;\">\n",
              "      <th></th>\n",
              "      <th>data</th>\n",
              "      <th>labels_predicted</th>\n",
              "      <th>labels_predicted_marked</th>\n",
              "      <th>actual_labels</th>\n",
              "      <th>actual_label_index</th>\n",
              "      <th>correct_pred</th>\n",
              "      <th>error_magnitude</th>\n",
              "    </tr>\n",
              "  </thead>\n",
              "  <tbody>\n",
              "    <tr>\n",
              "      <th>0</th>\n",
              "      <td>on the people by those whom they esteem their ...</td>\n",
              "      <td>4</td>\n",
              "      <td>fear</td>\n",
              "      <td>fear</td>\n",
              "      <td>4</td>\n",
              "      <td>1</td>\n",
              "      <td>0</td>\n",
              "    </tr>\n",
              "    <tr>\n",
              "      <th>1</th>\n",
              "      <td>you mean to kill yourself said he at last in a...</td>\n",
              "      <td>4</td>\n",
              "      <td>fear</td>\n",
              "      <td>fear</td>\n",
              "      <td>4</td>\n",
              "      <td>1</td>\n",
              "      <td>0</td>\n",
              "    </tr>\n",
              "    <tr>\n",
              "      <th>2</th>\n",
              "      <td>the north i had no proper idea of the wealth r...</td>\n",
              "      <td>1</td>\n",
              "      <td>concern</td>\n",
              "      <td>concern</td>\n",
              "      <td>1</td>\n",
              "      <td>1</td>\n",
              "      <td>0</td>\n",
              "    </tr>\n",
              "    <tr>\n",
              "      <th>3</th>\n",
              "      <td>which is one of the greatest , emotions , emot...</td>\n",
              "      <td>4</td>\n",
              "      <td>fear</td>\n",
              "      <td>fear</td>\n",
              "      <td>4</td>\n",
              "      <td>1</td>\n",
              "      <td>0</td>\n",
              "    </tr>\n",
              "    <tr>\n",
              "      <th>4</th>\n",
              "      <td>begin an argument with him forthwith and set a...</td>\n",
              "      <td>1</td>\n",
              "      <td>concern</td>\n",
              "      <td>concern</td>\n",
              "      <td>1</td>\n",
              "      <td>1</td>\n",
              "      <td>0</td>\n",
              "    </tr>\n",
              "  </tbody>\n",
              "</table>\n",
              "</div>\n",
              "      <button class=\"colab-df-convert\" onclick=\"convertToInteractive('df-b87d65b3-d08d-4864-a13f-e8894287c18f')\"\n",
              "              title=\"Convert this dataframe to an interactive table.\"\n",
              "              style=\"display:none;\">\n",
              "        \n",
              "  <svg xmlns=\"http://www.w3.org/2000/svg\" height=\"24px\"viewBox=\"0 0 24 24\"\n",
              "       width=\"24px\">\n",
              "    <path d=\"M0 0h24v24H0V0z\" fill=\"none\"/>\n",
              "    <path d=\"M18.56 5.44l.94 2.06.94-2.06 2.06-.94-2.06-.94-.94-2.06-.94 2.06-2.06.94zm-11 1L8.5 8.5l.94-2.06 2.06-.94-2.06-.94L8.5 2.5l-.94 2.06-2.06.94zm10 10l.94 2.06.94-2.06 2.06-.94-2.06-.94-.94-2.06-.94 2.06-2.06.94z\"/><path d=\"M17.41 7.96l-1.37-1.37c-.4-.4-.92-.59-1.43-.59-.52 0-1.04.2-1.43.59L10.3 9.45l-7.72 7.72c-.78.78-.78 2.05 0 2.83L4 21.41c.39.39.9.59 1.41.59.51 0 1.02-.2 1.41-.59l7.78-7.78 2.81-2.81c.8-.78.8-2.07 0-2.86zM5.41 20L4 18.59l7.72-7.72 1.47 1.35L5.41 20z\"/>\n",
              "  </svg>\n",
              "      </button>\n",
              "      \n",
              "  <style>\n",
              "    .colab-df-container {\n",
              "      display:flex;\n",
              "      flex-wrap:wrap;\n",
              "      gap: 12px;\n",
              "    }\n",
              "\n",
              "    .colab-df-convert {\n",
              "      background-color: #E8F0FE;\n",
              "      border: none;\n",
              "      border-radius: 50%;\n",
              "      cursor: pointer;\n",
              "      display: none;\n",
              "      fill: #1967D2;\n",
              "      height: 32px;\n",
              "      padding: 0 0 0 0;\n",
              "      width: 32px;\n",
              "    }\n",
              "\n",
              "    .colab-df-convert:hover {\n",
              "      background-color: #E2EBFA;\n",
              "      box-shadow: 0px 1px 2px rgba(60, 64, 67, 0.3), 0px 1px 3px 1px rgba(60, 64, 67, 0.15);\n",
              "      fill: #174EA6;\n",
              "    }\n",
              "\n",
              "    [theme=dark] .colab-df-convert {\n",
              "      background-color: #3B4455;\n",
              "      fill: #D2E3FC;\n",
              "    }\n",
              "\n",
              "    [theme=dark] .colab-df-convert:hover {\n",
              "      background-color: #434B5C;\n",
              "      box-shadow: 0px 1px 3px 1px rgba(0, 0, 0, 0.15);\n",
              "      filter: drop-shadow(0px 1px 2px rgba(0, 0, 0, 0.3));\n",
              "      fill: #FFFFFF;\n",
              "    }\n",
              "  </style>\n",
              "\n",
              "      <script>\n",
              "        const buttonEl =\n",
              "          document.querySelector('#df-b87d65b3-d08d-4864-a13f-e8894287c18f button.colab-df-convert');\n",
              "        buttonEl.style.display =\n",
              "          google.colab.kernel.accessAllowed ? 'block' : 'none';\n",
              "\n",
              "        async function convertToInteractive(key) {\n",
              "          const element = document.querySelector('#df-b87d65b3-d08d-4864-a13f-e8894287c18f');\n",
              "          const dataTable =\n",
              "            await google.colab.kernel.invokeFunction('convertToInteractive',\n",
              "                                                     [key], {});\n",
              "          if (!dataTable) return;\n",
              "\n",
              "          const docLinkHtml = 'Like what you see? Visit the ' +\n",
              "            '<a target=\"_blank\" href=https://colab.research.google.com/notebooks/data_table.ipynb>data table notebook</a>'\n",
              "            + ' to learn more about interactive tables.';\n",
              "          element.innerHTML = '';\n",
              "          dataTable['output_type'] = 'display_data';\n",
              "          await google.colab.output.renderOutput(dataTable, element);\n",
              "          const docLink = document.createElement('div');\n",
              "          docLink.innerHTML = docLinkHtml;\n",
              "          element.appendChild(docLink);\n",
              "        }\n",
              "      </script>\n",
              "    </div>\n",
              "  </div>\n",
              "  "
            ]
          },
          "metadata": {},
          "execution_count": 46
        }
      ]
    },
    {
      "cell_type": "code",
      "source": [
        "inf_df1=pd.DataFrame(inf_df['correct_pred'].value_counts()).reset_index()\n",
        "inf_df1"
      ],
      "metadata": {
        "colab": {
          "base_uri": "https://localhost:8080/",
          "height": 112
        },
        "id": "0LbbxQzsTK1D",
        "outputId": "7be92624-abe2-4a43-fa83-f12509488829"
      },
      "execution_count": 47,
      "outputs": [
        {
          "output_type": "execute_result",
          "data": {
            "text/plain": [
              "   index  correct_pred\n",
              "0      1         24529\n",
              "1      0          8735"
            ],
            "text/html": [
              "\n",
              "  <div id=\"df-7391f6f6-f3e0-4f39-9718-0bc21aa101fa\">\n",
              "    <div class=\"colab-df-container\">\n",
              "      <div>\n",
              "<style scoped>\n",
              "    .dataframe tbody tr th:only-of-type {\n",
              "        vertical-align: middle;\n",
              "    }\n",
              "\n",
              "    .dataframe tbody tr th {\n",
              "        vertical-align: top;\n",
              "    }\n",
              "\n",
              "    .dataframe thead th {\n",
              "        text-align: right;\n",
              "    }\n",
              "</style>\n",
              "<table border=\"1\" class=\"dataframe\">\n",
              "  <thead>\n",
              "    <tr style=\"text-align: right;\">\n",
              "      <th></th>\n",
              "      <th>index</th>\n",
              "      <th>correct_pred</th>\n",
              "    </tr>\n",
              "  </thead>\n",
              "  <tbody>\n",
              "    <tr>\n",
              "      <th>0</th>\n",
              "      <td>1</td>\n",
              "      <td>24529</td>\n",
              "    </tr>\n",
              "    <tr>\n",
              "      <th>1</th>\n",
              "      <td>0</td>\n",
              "      <td>8735</td>\n",
              "    </tr>\n",
              "  </tbody>\n",
              "</table>\n",
              "</div>\n",
              "      <button class=\"colab-df-convert\" onclick=\"convertToInteractive('df-7391f6f6-f3e0-4f39-9718-0bc21aa101fa')\"\n",
              "              title=\"Convert this dataframe to an interactive table.\"\n",
              "              style=\"display:none;\">\n",
              "        \n",
              "  <svg xmlns=\"http://www.w3.org/2000/svg\" height=\"24px\"viewBox=\"0 0 24 24\"\n",
              "       width=\"24px\">\n",
              "    <path d=\"M0 0h24v24H0V0z\" fill=\"none\"/>\n",
              "    <path d=\"M18.56 5.44l.94 2.06.94-2.06 2.06-.94-2.06-.94-.94-2.06-.94 2.06-2.06.94zm-11 1L8.5 8.5l.94-2.06 2.06-.94-2.06-.94L8.5 2.5l-.94 2.06-2.06.94zm10 10l.94 2.06.94-2.06 2.06-.94-2.06-.94-.94-2.06-.94 2.06-2.06.94z\"/><path d=\"M17.41 7.96l-1.37-1.37c-.4-.4-.92-.59-1.43-.59-.52 0-1.04.2-1.43.59L10.3 9.45l-7.72 7.72c-.78.78-.78 2.05 0 2.83L4 21.41c.39.39.9.59 1.41.59.51 0 1.02-.2 1.41-.59l7.78-7.78 2.81-2.81c.8-.78.8-2.07 0-2.86zM5.41 20L4 18.59l7.72-7.72 1.47 1.35L5.41 20z\"/>\n",
              "  </svg>\n",
              "      </button>\n",
              "      \n",
              "  <style>\n",
              "    .colab-df-container {\n",
              "      display:flex;\n",
              "      flex-wrap:wrap;\n",
              "      gap: 12px;\n",
              "    }\n",
              "\n",
              "    .colab-df-convert {\n",
              "      background-color: #E8F0FE;\n",
              "      border: none;\n",
              "      border-radius: 50%;\n",
              "      cursor: pointer;\n",
              "      display: none;\n",
              "      fill: #1967D2;\n",
              "      height: 32px;\n",
              "      padding: 0 0 0 0;\n",
              "      width: 32px;\n",
              "    }\n",
              "\n",
              "    .colab-df-convert:hover {\n",
              "      background-color: #E2EBFA;\n",
              "      box-shadow: 0px 1px 2px rgba(60, 64, 67, 0.3), 0px 1px 3px 1px rgba(60, 64, 67, 0.15);\n",
              "      fill: #174EA6;\n",
              "    }\n",
              "\n",
              "    [theme=dark] .colab-df-convert {\n",
              "      background-color: #3B4455;\n",
              "      fill: #D2E3FC;\n",
              "    }\n",
              "\n",
              "    [theme=dark] .colab-df-convert:hover {\n",
              "      background-color: #434B5C;\n",
              "      box-shadow: 0px 1px 3px 1px rgba(0, 0, 0, 0.15);\n",
              "      filter: drop-shadow(0px 1px 2px rgba(0, 0, 0, 0.3));\n",
              "      fill: #FFFFFF;\n",
              "    }\n",
              "  </style>\n",
              "\n",
              "      <script>\n",
              "        const buttonEl =\n",
              "          document.querySelector('#df-7391f6f6-f3e0-4f39-9718-0bc21aa101fa button.colab-df-convert');\n",
              "        buttonEl.style.display =\n",
              "          google.colab.kernel.accessAllowed ? 'block' : 'none';\n",
              "\n",
              "        async function convertToInteractive(key) {\n",
              "          const element = document.querySelector('#df-7391f6f6-f3e0-4f39-9718-0bc21aa101fa');\n",
              "          const dataTable =\n",
              "            await google.colab.kernel.invokeFunction('convertToInteractive',\n",
              "                                                     [key], {});\n",
              "          if (!dataTable) return;\n",
              "\n",
              "          const docLinkHtml = 'Like what you see? Visit the ' +\n",
              "            '<a target=\"_blank\" href=https://colab.research.google.com/notebooks/data_table.ipynb>data table notebook</a>'\n",
              "            + ' to learn more about interactive tables.';\n",
              "          element.innerHTML = '';\n",
              "          dataTable['output_type'] = 'display_data';\n",
              "          await google.colab.output.renderOutput(dataTable, element);\n",
              "          const docLink = document.createElement('div');\n",
              "          docLink.innerHTML = docLinkHtml;\n",
              "          element.appendChild(docLink);\n",
              "        }\n",
              "      </script>\n",
              "    </div>\n",
              "  </div>\n",
              "  "
            ]
          },
          "metadata": {},
          "execution_count": 47
        }
      ]
    },
    {
      "cell_type": "markdown",
      "source": [
        "#Creating a histogram - corrects error on the number of bins... \n",
        "\n",
        "import matplotlib.pyplot as plt\n",
        "\n",
        "num_classes = inf_df['error_magnitude'].nunique()\n",
        "inf_df['error_magnitude'].hist(bins=num_classes)\n",
        "plt.show()\n"
      ],
      "metadata": {
        "id": "u1bYFkVvJ86A"
      }
    },
    {
      "cell_type": "code",
      "source": [
        "# Count the frequency of each class in the error_magnitude column\n",
        "counts = inf_df['error_magnitude'].value_counts()\n",
        "\n",
        "# Create a histogram with one bar for each class\n",
        "plt.bar(counts.index, counts.values)\n",
        "\n",
        "# Set the title and axis labels\n",
        "plt.suptitle('Histogram of Error Magnitude')\n",
        "plt.xlabel('Magnitude')\n",
        "plt.ylabel('Frequency')\n"
      ],
      "metadata": {
        "id": "ZkwdzXhqXt8V",
        "outputId": "078c05b1-2bfe-4fb1-8e9e-92c9eeb700c3",
        "colab": {
          "base_uri": "https://localhost:8080/",
          "height": 326
        }
      },
      "execution_count": 52,
      "outputs": [
        {
          "output_type": "execute_result",
          "data": {
            "text/plain": [
              "Text(0, 0.5, 'Frequency')"
            ]
          },
          "metadata": {},
          "execution_count": 52
        },
        {
          "output_type": "display_data",
          "data": {
            "text/plain": [
              "<Figure size 432x288 with 1 Axes>"
            ],
            "image/png": "[encoded data removed]"
          },
          "metadata": {
            "needs_background": "light"
          }
        }
      ]
    },
    {
      "cell_type": "code",
      "source": [
        "# let's filter the error magnitude.\n",
        "inf_df[inf_df['error_magnitude']==5].head(10)"
      ],
      "metadata": {
        "colab": {
          "base_uri": "https://localhost:8080/",
          "height": 407
        },
        "id": "lN7dCo-xV8Vo",
        "outputId": "497ed78c-e507-4f5f-c719-e2106ff382be"
      },
      "execution_count": 49,
      "outputs": [
        {
          "output_type": "execute_result",
          "data": {
            "text/plain": [
              "                                                  data  labels_predicted  \\\n",
              "32   talma actor his soiree tannery of human skins ...                 0   \n",
              "69   say muse what king or mighty god that moves su...                 0   \n",
              "80   the first book of leo africanus and the observ...                 0   \n",
              "162  might the arrival of professor teufelsdrockh b...                 5   \n",
              "336  breathless roll among the piles of clothes whi...                 5   \n",
              "351  that which he had pictured very different from...                 5   \n",
              "377  there how fare what find is the secret of the ...                 0   \n",
              "415  fritz yes she s coming sire i answered he noti...                 5   \n",
              "456  the north atlantic the prince karl albert had ...                 0   \n",
              "508  interfered with us so far though many had jost...                 0   \n",
              "\n",
              "    labels_predicted_marked actual_labels  actual_label_index  correct_pred  \\\n",
              "32                     calm         dread                   5             0   \n",
              "69                     calm         dread                   5             0   \n",
              "80                     calm         dread                   5             0   \n",
              "162                   dread          calm                   0             0   \n",
              "336                   dread          calm                   0             0   \n",
              "351                   dread          calm                   0             0   \n",
              "377                    calm         dread                   5             0   \n",
              "415                   dread          calm                   0             0   \n",
              "456                    calm         dread                   5             0   \n",
              "508                    calm         dread                   5             0   \n",
              "\n",
              "     error_magnitude  \n",
              "32                 5  \n",
              "69                 5  \n",
              "80                 5  \n",
              "162                5  \n",
              "336                5  \n",
              "351                5  \n",
              "377                5  \n",
              "415                5  \n",
              "456                5  \n",
              "508                5  "
            ],
            "text/html": [
              "\n",
              "  <div id=\"df-327b6e33-8060-423d-af71-80410debacb5\">\n",
              "    <div class=\"colab-df-container\">\n",
              "      <div>\n",
              "<style scoped>\n",
              "    .dataframe tbody tr th:only-of-type {\n",
              "        vertical-align: middle;\n",
              "    }\n",
              "\n",
              "    .dataframe tbody tr th {\n",
              "        vertical-align: top;\n",
              "    }\n",
              "\n",
              "    .dataframe thead th {\n",
              "        text-align: right;\n",
              "    }\n",
              "</style>\n",
              "<table border=\"1\" class=\"dataframe\">\n",
              "  <thead>\n",
              "    <tr style=\"text-align: right;\">\n",
              "      <th></th>\n",
              "      <th>data</th>\n",
              "      <th>labels_predicted</th>\n",
              "      <th>labels_predicted_marked</th>\n",
              "      <th>actual_labels</th>\n",
              "      <th>actual_label_index</th>\n",
              "      <th>correct_pred</th>\n",
              "      <th>error_magnitude</th>\n",
              "    </tr>\n",
              "  </thead>\n",
              "  <tbody>\n",
              "    <tr>\n",
              "      <th>32</th>\n",
              "      <td>talma actor his soiree tannery of human skins ...</td>\n",
              "      <td>0</td>\n",
              "      <td>calm</td>\n",
              "      <td>dread</td>\n",
              "      <td>5</td>\n",
              "      <td>0</td>\n",
              "      <td>5</td>\n",
              "    </tr>\n",
              "    <tr>\n",
              "      <th>69</th>\n",
              "      <td>say muse what king or mighty god that moves su...</td>\n",
              "      <td>0</td>\n",
              "      <td>calm</td>\n",
              "      <td>dread</td>\n",
              "      <td>5</td>\n",
              "      <td>0</td>\n",
              "      <td>5</td>\n",
              "    </tr>\n",
              "    <tr>\n",
              "      <th>80</th>\n",
              "      <td>the first book of leo africanus and the observ...</td>\n",
              "      <td>0</td>\n",
              "      <td>calm</td>\n",
              "      <td>dread</td>\n",
              "      <td>5</td>\n",
              "      <td>0</td>\n",
              "      <td>5</td>\n",
              "    </tr>\n",
              "    <tr>\n",
              "      <th>162</th>\n",
              "      <td>might the arrival of professor teufelsdrockh b...</td>\n",
              "      <td>5</td>\n",
              "      <td>dread</td>\n",
              "      <td>calm</td>\n",
              "      <td>0</td>\n",
              "      <td>0</td>\n",
              "      <td>5</td>\n",
              "    </tr>\n",
              "    <tr>\n",
              "      <th>336</th>\n",
              "      <td>breathless roll among the piles of clothes whi...</td>\n",
              "      <td>5</td>\n",
              "      <td>dread</td>\n",
              "      <td>calm</td>\n",
              "      <td>0</td>\n",
              "      <td>0</td>\n",
              "      <td>5</td>\n",
              "    </tr>\n",
              "    <tr>\n",
              "      <th>351</th>\n",
              "      <td>that which he had pictured very different from...</td>\n",
              "      <td>5</td>\n",
              "      <td>dread</td>\n",
              "      <td>calm</td>\n",
              "      <td>0</td>\n",
              "      <td>0</td>\n",
              "      <td>5</td>\n",
              "    </tr>\n",
              "    <tr>\n",
              "      <th>377</th>\n",
              "      <td>there how fare what find is the secret of the ...</td>\n",
              "      <td>0</td>\n",
              "      <td>calm</td>\n",
              "      <td>dread</td>\n",
              "      <td>5</td>\n",
              "      <td>0</td>\n",
              "      <td>5</td>\n",
              "    </tr>\n",
              "    <tr>\n",
              "      <th>415</th>\n",
              "      <td>fritz yes she s coming sire i answered he noti...</td>\n",
              "      <td>5</td>\n",
              "      <td>dread</td>\n",
              "      <td>calm</td>\n",
              "      <td>0</td>\n",
              "      <td>0</td>\n",
              "      <td>5</td>\n",
              "    </tr>\n",
              "    <tr>\n",
              "      <th>456</th>\n",
              "      <td>the north atlantic the prince karl albert had ...</td>\n",
              "      <td>0</td>\n",
              "      <td>calm</td>\n",
              "      <td>dread</td>\n",
              "      <td>5</td>\n",
              "      <td>0</td>\n",
              "      <td>5</td>\n",
              "    </tr>\n",
              "    <tr>\n",
              "      <th>508</th>\n",
              "      <td>interfered with us so far though many had jost...</td>\n",
              "      <td>0</td>\n",
              "      <td>calm</td>\n",
              "      <td>dread</td>\n",
              "      <td>5</td>\n",
              "      <td>0</td>\n",
              "      <td>5</td>\n",
              "    </tr>\n",
              "  </tbody>\n",
              "</table>\n",
              "</div>\n",
              "      <button class=\"colab-df-convert\" onclick=\"convertToInteractive('df-327b6e33-8060-423d-af71-80410debacb5')\"\n",
              "              title=\"Convert this dataframe to an interactive table.\"\n",
              "              style=\"display:none;\">\n",
              "        \n",
              "  <svg xmlns=\"http://www.w3.org/2000/svg\" height=\"24px\"viewBox=\"0 0 24 24\"\n",
              "       width=\"24px\">\n",
              "    <path d=\"M0 0h24v24H0V0z\" fill=\"none\"/>\n",
              "    <path d=\"M18.56 5.44l.94 2.06.94-2.06 2.06-.94-2.06-.94-.94-2.06-.94 2.06-2.06.94zm-11 1L8.5 8.5l.94-2.06 2.06-.94-2.06-.94L8.5 2.5l-.94 2.06-2.06.94zm10 10l.94 2.06.94-2.06 2.06-.94-2.06-.94-.94-2.06-.94 2.06-2.06.94z\"/><path d=\"M17.41 7.96l-1.37-1.37c-.4-.4-.92-.59-1.43-.59-.52 0-1.04.2-1.43.59L10.3 9.45l-7.72 7.72c-.78.78-.78 2.05 0 2.83L4 21.41c.39.39.9.59 1.41.59.51 0 1.02-.2 1.41-.59l7.78-7.78 2.81-2.81c.8-.78.8-2.07 0-2.86zM5.41 20L4 18.59l7.72-7.72 1.47 1.35L5.41 20z\"/>\n",
              "  </svg>\n",
              "      </button>\n",
              "      \n",
              "  <style>\n",
              "    .colab-df-container {\n",
              "      display:flex;\n",
              "      flex-wrap:wrap;\n",
              "      gap: 12px;\n",
              "    }\n",
              "\n",
              "    .colab-df-convert {\n",
              "      background-color: #E8F0FE;\n",
              "      border: none;\n",
              "      border-radius: 50%;\n",
              "      cursor: pointer;\n",
              "      display: none;\n",
              "      fill: #1967D2;\n",
              "      height: 32px;\n",
              "      padding: 0 0 0 0;\n",
              "      width: 32px;\n",
              "    }\n",
              "\n",
              "    .colab-df-convert:hover {\n",
              "      background-color: #E2EBFA;\n",
              "      box-shadow: 0px 1px 2px rgba(60, 64, 67, 0.3), 0px 1px 3px 1px rgba(60, 64, 67, 0.15);\n",
              "      fill: #174EA6;\n",
              "    }\n",
              "\n",
              "    [theme=dark] .colab-df-convert {\n",
              "      background-color: #3B4455;\n",
              "      fill: #D2E3FC;\n",
              "    }\n",
              "\n",
              "    [theme=dark] .colab-df-convert:hover {\n",
              "      background-color: #434B5C;\n",
              "      box-shadow: 0px 1px 3px 1px rgba(0, 0, 0, 0.15);\n",
              "      filter: drop-shadow(0px 1px 2px rgba(0, 0, 0, 0.3));\n",
              "      fill: #FFFFFF;\n",
              "    }\n",
              "  </style>\n",
              "\n",
              "      <script>\n",
              "        const buttonEl =\n",
              "          document.querySelector('#df-327b6e33-8060-423d-af71-80410debacb5 button.colab-df-convert');\n",
              "        buttonEl.style.display =\n",
              "          google.colab.kernel.accessAllowed ? 'block' : 'none';\n",
              "\n",
              "        async function convertToInteractive(key) {\n",
              "          const element = document.querySelector('#df-327b6e33-8060-423d-af71-80410debacb5');\n",
              "          const dataTable =\n",
              "            await google.colab.kernel.invokeFunction('convertToInteractive',\n",
              "                                                     [key], {});\n",
              "          if (!dataTable) return;\n",
              "\n",
              "          const docLinkHtml = 'Like what you see? Visit the ' +\n",
              "            '<a target=\"_blank\" href=https://colab.research.google.com/notebooks/data_table.ipynb>data table notebook</a>'\n",
              "            + ' to learn more about interactive tables.';\n",
              "          element.innerHTML = '';\n",
              "          dataTable['output_type'] = 'display_data';\n",
              "          await google.colab.output.renderOutput(dataTable, element);\n",
              "          const docLink = document.createElement('div');\n",
              "          docLink.innerHTML = docLinkHtml;\n",
              "          element.appendChild(docLink);\n",
              "        }\n",
              "      </script>\n",
              "    </div>\n",
              "  </div>\n",
              "  "
            ]
          },
          "metadata": {},
          "execution_count": 49
        }
      ]
    },
    {
      "cell_type": "code",
      "source": [
        "from sklearn.metrics import confusion_matrix\n",
        "#y_true = [2, 0, 2, 2, 0, 1]\n",
        "#y_pred = [0, 0, 2, 2, 0, 2]\n",
        "confusion_matrix(inf_df['actual_label_index'], inf_df['labels_predicted'])"
      ],
      "metadata": {
        "colab": {
          "base_uri": "https://localhost:8080/"
        },
        "id": "J51uR0V1Nqxx",
        "outputId": "725c4bdb-7832-45a6-9eed-cdc53f6754d5"
      },
      "execution_count": 50,
      "outputs": [
        {
          "output_type": "execute_result",
          "data": {
            "text/plain": [
              "array([[ 2352,    89,    21,   140,   299,   339],\n",
              "       [   72,  3207,    58,   213,   324,   125],\n",
              "       [   53,   134,   700,   123,   286,    62],\n",
              "       [  236,   234,    64,  2143,   546,   351],\n",
              "       [  236,   215,   100,   441, 12276,  1584],\n",
              "       [  222,   161,    30,   253,  1724,  3851]])"
            ]
          },
          "metadata": {},
          "execution_count": 50
        }
      ]
    },
    {
      "cell_type": "markdown",
      "metadata": {
        "id": "EgjLQKz-VkDI"
      },
      "source": [
        "#Saving the model \n",
        "\n",
        "##Questions: At what point do we save the model...\n",
        "\n",
        "\n",
        "1.   Resolve the character / length piece in looking at the inference dataset...\n",
        "2.   I want the 75% run / run before I save it... \n",
        "\n"
      ]
    },
    {
      "cell_type": "code",
      "execution_count": 51,
      "metadata": {
        "id": "DBwsFHQpVl5c"
      },
      "outputs": [],
      "source": [
        "#So this works but we need to make sure that we install Keras as a dependency \n",
        "\n",
        "from keras.models import load_model\n",
        "\n",
        "#model.save(\"my_model\")\n",
        "\n",
        "#fearmodel.save('/content/drive/MyDrive/Sean/Emoclass_Dec2022/Fear_arousal/Fear_Arousal_Model_6cat_dec10,2022')"
      ]
    }
  ],
  "metadata": {
    "colab": {
      "provenance": [],
      "machine_shape": "hm",
      "toc_visible": true,
      "include_colab_link": true
    },
    "gpuClass": "standard",
    "kernelspec": {
      "display_name": "Python 3 (ipykernel)",
      "language": "python",
      "name": "python3"
    },
    "language_info": {
      "codemirror_mode": {
        "name": "ipython",
        "version": 3
      },
      "file_extension": ".py",
      "mimetype": "text/x-python",
      "name": "python",
      "nbconvert_exporter": "python",
      "pygments_lexer": "ipython3",
      "version": "3.9.12"
    },
    "accelerator": "GPU"
  },
  "nbformat": 4,
  "nbformat_minor": 0
}